{
 "cells": [
  {
   "cell_type": "code",
   "execution_count": 1,
   "metadata": {},
   "outputs": [],
   "source": [
    "import pandas as pd\n",
    "\n",
    "data = pd.read_csv('./penguins.csv')"
   ]
  },
  {
   "cell_type": "code",
   "execution_count": 2,
   "metadata": {},
   "outputs": [
    {
     "data": {
      "text/html": [
       "<div>\n",
       "<style scoped>\n",
       "    .dataframe tbody tr th:only-of-type {\n",
       "        vertical-align: middle;\n",
       "    }\n",
       "\n",
       "    .dataframe tbody tr th {\n",
       "        vertical-align: top;\n",
       "    }\n",
       "\n",
       "    .dataframe thead th {\n",
       "        text-align: right;\n",
       "    }\n",
       "</style>\n",
       "<table border=\"1\" class=\"dataframe\">\n",
       "  <thead>\n",
       "    <tr style=\"text-align: right;\">\n",
       "      <th></th>\n",
       "      <th>CulmenLength</th>\n",
       "      <th>CulmenDepth</th>\n",
       "      <th>FlipperLength</th>\n",
       "      <th>BodyMass</th>\n",
       "      <th>Species</th>\n",
       "    </tr>\n",
       "  </thead>\n",
       "  <tbody>\n",
       "    <tr>\n",
       "      <th>0</th>\n",
       "      <td>39.1</td>\n",
       "      <td>18.7</td>\n",
       "      <td>181.0</td>\n",
       "      <td>3750.0</td>\n",
       "      <td>0</td>\n",
       "    </tr>\n",
       "    <tr>\n",
       "      <th>1</th>\n",
       "      <td>39.5</td>\n",
       "      <td>17.4</td>\n",
       "      <td>186.0</td>\n",
       "      <td>3800.0</td>\n",
       "      <td>0</td>\n",
       "    </tr>\n",
       "  </tbody>\n",
       "</table>\n",
       "</div>"
      ],
      "text/plain": [
       "   CulmenLength  CulmenDepth  FlipperLength  BodyMass  Species\n",
       "0          39.1         18.7          181.0    3750.0        0\n",
       "1          39.5         17.4          186.0    3800.0        0"
      ]
     },
     "execution_count": 2,
     "metadata": {},
     "output_type": "execute_result"
    }
   ],
   "source": [
    "data.head(2)"
   ]
  },
  {
   "cell_type": "code",
   "execution_count": 3,
   "metadata": {},
   "outputs": [
    {
     "data": {
      "text/plain": [
       "CulmenLength     2\n",
       "CulmenDepth      2\n",
       "FlipperLength    2\n",
       "BodyMass         2\n",
       "Species          0\n",
       "dtype: int64"
      ]
     },
     "execution_count": 3,
     "metadata": {},
     "output_type": "execute_result"
    }
   ],
   "source": [
    "data.isnull().sum()"
   ]
  },
  {
   "cell_type": "markdown",
   "metadata": {},
   "source": [
    "# Let's drop em"
   ]
  },
  {
   "cell_type": "code",
   "execution_count": 4,
   "metadata": {},
   "outputs": [],
   "source": [
    "data = data.dropna()"
   ]
  },
  {
   "cell_type": "code",
   "execution_count": 5,
   "metadata": {},
   "outputs": [
    {
     "data": {
      "text/plain": [
       "CulmenLength     0\n",
       "CulmenDepth      0\n",
       "FlipperLength    0\n",
       "BodyMass         0\n",
       "Species          0\n",
       "dtype: int64"
      ]
     },
     "execution_count": 5,
     "metadata": {},
     "output_type": "execute_result"
    }
   ],
   "source": [
    "data.isnull().sum()"
   ]
  },
  {
   "cell_type": "code",
   "execution_count": 6,
   "metadata": {},
   "outputs": [
    {
     "data": {
      "text/plain": [
       "(342, 5)"
      ]
     },
     "execution_count": 6,
     "metadata": {},
     "output_type": "execute_result"
    }
   ],
   "source": [
    "data.shape"
   ]
  },
  {
   "cell_type": "markdown",
   "metadata": {},
   "source": [
    "# Normalize the data"
   ]
  },
  {
   "cell_type": "code",
   "execution_count": 7,
   "metadata": {},
   "outputs": [],
   "source": [
    "data['FlipperLength'] = data['FlipperLength']/10\n",
    "data['BodyMass'] = data['BodyMass']/100"
   ]
  },
  {
   "cell_type": "code",
   "execution_count": 8,
   "metadata": {},
   "outputs": [],
   "source": [
    "# too low datasets; let's make it bigger\n",
    "for i in range(1,3):\n",
    "    data = data.append(data)"
   ]
  },
  {
   "cell_type": "code",
   "execution_count": 9,
   "metadata": {},
   "outputs": [
    {
     "data": {
      "text/plain": [
       "(1368, 5)"
      ]
     },
     "execution_count": 9,
     "metadata": {},
     "output_type": "execute_result"
    }
   ],
   "source": [
    "data.shape"
   ]
  },
  {
   "cell_type": "markdown",
   "metadata": {},
   "source": [
    "# Let's build pyTorch Model"
   ]
  },
  {
   "cell_type": "code",
   "execution_count": 10,
   "metadata": {},
   "outputs": [
    {
     "name": "stdout",
     "output_type": "stream",
     "text": [
      "Training Set: 957, Test Set: 411 \n",
      "\n"
     ]
    }
   ],
   "source": [
    "from sklearn.model_selection import train_test_split\n",
    "\n",
    "features = ['CulmenLength', 'CulmenDepth', 'FlipperLength', 'BodyMass']\n",
    "labels = 'Species'\n",
    "\n",
    "x_train, x_test, y_train, y_test = train_test_split(data[features].values, data[labels].values, test_size=0.30, random_state=0)\n",
    "\n",
    "print ('Training Set: %d, Test Set: %d \\n' % (len(x_train), len(x_test)))"
   ]
  },
  {
   "cell_type": "code",
   "execution_count": 11,
   "metadata": {},
   "outputs": [
    {
     "name": "stdout",
     "output_type": "stream",
     "text": [
      "Looking in links: https://download.pytorch.org/whl/torch_stable.html\n",
      "Requirement already satisfied: torch==1.7.1+cpu in c:\\users\\user\\anaconda3\\lib\\site-packages (1.7.1+cpu)\n",
      "Requirement already satisfied: torchvision==0.8.2+cpu in c:\\users\\user\\anaconda3\\lib\\site-packages (0.8.2+cpu)\n",
      "Requirement already satisfied: torchaudio==0.7.2 in c:\\users\\user\\anaconda3\\lib\\site-packages (0.7.2)\n",
      "Requirement already satisfied: numpy in c:\\users\\user\\anaconda3\\lib\\site-packages (from torch==1.7.1+cpu) (1.16.0)\n",
      "Requirement already satisfied: typing-extensions in c:\\users\\user\\anaconda3\\lib\\site-packages (from torch==1.7.1+cpu) (3.10.0.0)\n",
      "Requirement already satisfied: pillow>=4.1.1 in c:\\users\\user\\anaconda3\\lib\\site-packages (from torchvision==0.8.2+cpu) (5.4.1)\n"
     ]
    }
   ],
   "source": [
    "# install and import pytorch libraries\n",
    "!pip install torch==1.7.1+cpu torchvision==0.8.2+cpu torchaudio==0.7.2 -f https://download.pytorch.org/whl/torch_stable.html"
   ]
  },
  {
   "cell_type": "code",
   "execution_count": 12,
   "metadata": {},
   "outputs": [
    {
     "name": "stdout",
     "output_type": "stream",
     "text": [
      "Libraries imported - ready to use PyTorch 1.7.1+cpu\n"
     ]
    }
   ],
   "source": [
    "import torch\n",
    "import torch.nn as nn\n",
    "import torch.utils.data as td\n",
    "\n",
    "# Set random seed for reproducability\n",
    "torch.manual_seed(0)\n",
    "\n",
    "print(\"Libraries imported - ready to use PyTorch\", torch.__version__)"
   ]
  },
  {
   "cell_type": "markdown",
   "metadata": {},
   "source": [
    "# Prepare the data for PyTorch"
   ]
  },
  {
   "cell_type": "code",
   "execution_count": 13,
   "metadata": {},
   "outputs": [],
   "source": [
    "# Train data\n",
    "train_x = torch.Tensor(x_train).float()\n",
    "train_y = torch.Tensor(y_train).long()\n",
    "train_ds = td.TensorDataset(train_x, train_y)\n",
    "train_loader = td.DataLoader(train_ds, batch_size=20, shuffle=False, num_workers=1)\n",
    "\n",
    "# test data\n",
    "test_x = torch.Tensor(x_test).float()\n",
    "test_y = torch.Tensor(y_test).long()\n",
    "test_ds = td.TensorDataset(test_x, test_y)\n",
    "test_loader = td.DataLoader(test_ds, batch_size=20, shuffle=False, num_workers=1)"
   ]
  },
  {
   "cell_type": "markdown",
   "metadata": {},
   "source": [
    "# Neural Network Setup"
   ]
  },
  {
   "cell_type": "code",
   "execution_count": 14,
   "metadata": {},
   "outputs": [
    {
     "name": "stdout",
     "output_type": "stream",
     "text": [
      "NModel(\n",
      "  (fc1): Linear(in_features=4, out_features=10, bias=True)\n",
      "  (fc2): Linear(in_features=10, out_features=10, bias=True)\n",
      "  (fc3): Linear(in_features=10, out_features=3, bias=True)\n",
      ")\n"
     ]
    }
   ],
   "source": [
    "# number of neurons in each laeyss\n",
    "\n",
    "NN = 10\n",
    "\n",
    "class NModel(nn.Module):\n",
    "    def __init__(self):\n",
    "        super(NModel, self).__init__()\n",
    "        self.fc1 = nn.Linear(len(features), NN)\n",
    "        self.fc2 = nn.Linear(NN, NN)\n",
    "        self.fc3 = nn.Linear(NN, 3)\n",
    "        \n",
    "    def forward(self, x):\n",
    "        x = torch.relu(self.fc1(x))\n",
    "        x = torch.relu(self.fc2(x))\n",
    "        x = torch.softmax(self.fc3(x), dim=1)\n",
    "        \n",
    "        return x\n",
    "model = NModel()\n",
    "print(model)"
   ]
  },
  {
   "cell_type": "markdown",
   "metadata": {},
   "source": [
    "# Train and Test"
   ]
  },
  {
   "cell_type": "code",
   "execution_count": 15,
   "metadata": {},
   "outputs": [
    {
     "name": "stdout",
     "output_type": "stream",
     "text": [
      "Epoch: 1\n",
      "Training set: Average loss: 1.091498\n",
      "Validation set: Average loss: 1.025534, Accuracy: 246/411 (60%)\n",
      "\n",
      "Epoch: 2\n",
      "Training set: Average loss: 1.000949\n",
      "Validation set: Average loss: 0.982450, Accuracy: 314/411 (76%)\n",
      "\n",
      "Epoch: 3\n",
      "Training set: Average loss: 0.953905\n",
      "Validation set: Average loss: 0.937909, Accuracy: 321/411 (78%)\n",
      "\n",
      "Epoch: 4\n",
      "Training set: Average loss: 0.906742\n",
      "Validation set: Average loss: 0.893166, Accuracy: 322/411 (78%)\n",
      "\n",
      "Epoch: 5\n",
      "Training set: Average loss: 0.860262\n",
      "Validation set: Average loss: 0.853027, Accuracy: 322/411 (78%)\n",
      "\n",
      "Epoch: 6\n",
      "Training set: Average loss: 0.818910\n",
      "Validation set: Average loss: 0.816758, Accuracy: 323/411 (79%)\n",
      "\n",
      "Epoch: 7\n",
      "Training set: Average loss: 0.783247\n",
      "Validation set: Average loss: 0.782575, Accuracy: 334/411 (81%)\n",
      "\n",
      "Epoch: 8\n",
      "Training set: Average loss: 0.750349\n",
      "Validation set: Average loss: 0.748868, Accuracy: 353/411 (86%)\n",
      "\n",
      "Epoch: 9\n",
      "Training set: Average loss: 0.719538\n",
      "Validation set: Average loss: 0.718091, Accuracy: 373/411 (91%)\n",
      "\n",
      "Epoch: 10\n",
      "Training set: Average loss: 0.692613\n",
      "Validation set: Average loss: 0.692608, Accuracy: 393/411 (96%)\n",
      "\n",
      "Epoch: 11\n",
      "Training set: Average loss: 0.670806\n",
      "Validation set: Average loss: 0.672144, Accuracy: 393/411 (96%)\n",
      "\n",
      "Epoch: 12\n",
      "Training set: Average loss: 0.653745\n",
      "Validation set: Average loss: 0.656235, Accuracy: 394/411 (96%)\n",
      "\n",
      "Epoch: 13\n",
      "Training set: Average loss: 0.640456\n",
      "Validation set: Average loss: 0.643868, Accuracy: 397/411 (97%)\n",
      "\n",
      "Epoch: 14\n",
      "Training set: Average loss: 0.630051\n",
      "Validation set: Average loss: 0.634227, Accuracy: 397/411 (97%)\n",
      "\n",
      "Epoch: 15\n",
      "Training set: Average loss: 0.621806\n",
      "Validation set: Average loss: 0.626200, Accuracy: 397/411 (97%)\n",
      "\n",
      "Epoch: 16\n",
      "Training set: Average loss: 0.615029\n",
      "Validation set: Average loss: 0.619777, Accuracy: 397/411 (97%)\n",
      "\n",
      "Epoch: 17\n",
      "Training set: Average loss: 0.609496\n",
      "Validation set: Average loss: 0.614362, Accuracy: 397/411 (97%)\n",
      "\n",
      "Epoch: 18\n",
      "Training set: Average loss: 0.604905\n",
      "Validation set: Average loss: 0.609811, Accuracy: 397/411 (97%)\n",
      "\n",
      "Epoch: 19\n",
      "Training set: Average loss: 0.601028\n",
      "Validation set: Average loss: 0.605904, Accuracy: 397/411 (97%)\n",
      "\n",
      "Epoch: 20\n",
      "Training set: Average loss: 0.597696\n",
      "Validation set: Average loss: 0.602500, Accuracy: 400/411 (97%)\n",
      "\n",
      "Epoch: 21\n",
      "Training set: Average loss: 0.594816\n",
      "Validation set: Average loss: 0.599624, Accuracy: 400/411 (97%)\n",
      "\n",
      "Epoch: 22\n",
      "Training set: Average loss: 0.592313\n",
      "Validation set: Average loss: 0.597009, Accuracy: 400/411 (97%)\n",
      "\n",
      "Epoch: 23\n",
      "Training set: Average loss: 0.590136\n",
      "Validation set: Average loss: 0.594744, Accuracy: 400/411 (97%)\n",
      "\n",
      "Epoch: 24\n",
      "Training set: Average loss: 0.588191\n",
      "Validation set: Average loss: 0.592705, Accuracy: 402/411 (98%)\n",
      "\n",
      "Epoch: 25\n",
      "Training set: Average loss: 0.586471\n",
      "Validation set: Average loss: 0.590853, Accuracy: 402/411 (98%)\n",
      "\n",
      "Epoch: 26\n",
      "Training set: Average loss: 0.584909\n",
      "Validation set: Average loss: 0.589179, Accuracy: 402/411 (98%)\n",
      "\n",
      "Epoch: 27\n",
      "Training set: Average loss: 0.583516\n",
      "Validation set: Average loss: 0.587716, Accuracy: 402/411 (98%)\n",
      "\n",
      "Epoch: 28\n",
      "Training set: Average loss: 0.582258\n",
      "Validation set: Average loss: 0.586354, Accuracy: 402/411 (98%)\n",
      "\n",
      "Epoch: 29\n",
      "Training set: Average loss: 0.581106\n",
      "Validation set: Average loss: 0.585135, Accuracy: 402/411 (98%)\n",
      "\n",
      "Epoch: 30\n",
      "Training set: Average loss: 0.580057\n",
      "Validation set: Average loss: 0.584025, Accuracy: 402/411 (98%)\n",
      "\n",
      "Epoch: 31\n",
      "Training set: Average loss: 0.579082\n",
      "Validation set: Average loss: 0.582968, Accuracy: 402/411 (98%)\n",
      "\n",
      "Epoch: 32\n",
      "Training set: Average loss: 0.578188\n",
      "Validation set: Average loss: 0.582009, Accuracy: 402/411 (98%)\n",
      "\n",
      "Epoch: 33\n",
      "Training set: Average loss: 0.577365\n",
      "Validation set: Average loss: 0.581083, Accuracy: 404/411 (98%)\n",
      "\n",
      "Epoch: 34\n",
      "Training set: Average loss: 0.576596\n",
      "Validation set: Average loss: 0.580243, Accuracy: 404/411 (98%)\n",
      "\n",
      "Epoch: 35\n",
      "Training set: Average loss: 0.575884\n",
      "Validation set: Average loss: 0.579427, Accuracy: 404/411 (98%)\n",
      "\n",
      "Epoch: 36\n",
      "Training set: Average loss: 0.575213\n",
      "Validation set: Average loss: 0.578680, Accuracy: 404/411 (98%)\n",
      "\n",
      "Epoch: 37\n",
      "Training set: Average loss: 0.574589\n",
      "Validation set: Average loss: 0.577967, Accuracy: 405/411 (99%)\n",
      "\n",
      "Epoch: 38\n",
      "Training set: Average loss: 0.574000\n",
      "Validation set: Average loss: 0.577299, Accuracy: 407/411 (99%)\n",
      "\n",
      "Epoch: 39\n",
      "Training set: Average loss: 0.573451\n",
      "Validation set: Average loss: 0.576663, Accuracy: 407/411 (99%)\n",
      "\n",
      "Epoch: 40\n",
      "Training set: Average loss: 0.572933\n",
      "Validation set: Average loss: 0.576061, Accuracy: 407/411 (99%)\n",
      "\n",
      "Epoch: 41\n",
      "Training set: Average loss: 0.572443\n",
      "Validation set: Average loss: 0.575482, Accuracy: 407/411 (99%)\n",
      "\n",
      "Epoch: 42\n",
      "Training set: Average loss: 0.571979\n",
      "Validation set: Average loss: 0.574928, Accuracy: 407/411 (99%)\n",
      "\n",
      "Epoch: 43\n",
      "Training set: Average loss: 0.571539\n",
      "Validation set: Average loss: 0.574397, Accuracy: 408/411 (99%)\n",
      "\n",
      "Epoch: 44\n",
      "Training set: Average loss: 0.571120\n",
      "Validation set: Average loss: 0.573888, Accuracy: 408/411 (99%)\n",
      "\n",
      "Epoch: 45\n",
      "Training set: Average loss: 0.570724\n",
      "Validation set: Average loss: 0.573403, Accuracy: 408/411 (99%)\n",
      "\n",
      "Epoch: 46\n",
      "Training set: Average loss: 0.570347\n",
      "Validation set: Average loss: 0.572939, Accuracy: 408/411 (99%)\n",
      "\n",
      "Epoch: 47\n",
      "Training set: Average loss: 0.569989\n",
      "Validation set: Average loss: 0.572491, Accuracy: 408/411 (99%)\n",
      "\n",
      "Epoch: 48\n",
      "Training set: Average loss: 0.569646\n",
      "Validation set: Average loss: 0.572059, Accuracy: 408/411 (99%)\n",
      "\n",
      "Epoch: 49\n",
      "Training set: Average loss: 0.569319\n",
      "Validation set: Average loss: 0.571643, Accuracy: 408/411 (99%)\n",
      "\n",
      "Epoch: 50\n",
      "Training set: Average loss: 0.569007\n",
      "Validation set: Average loss: 0.571244, Accuracy: 408/411 (99%)\n",
      "\n"
     ]
    }
   ],
   "source": [
    "def train(model, data_loader, optimizer):\n",
    "    # Set the model to training mode\n",
    "    model.train()\n",
    "    train_loss = 0\n",
    "    \n",
    "    for batch, tensor in enumerate(data_loader):\n",
    "        data, target = tensor\n",
    "        #feedforward\n",
    "        optimizer.zero_grad()\n",
    "        out = model(data)\n",
    "        loss = loss_criteria(out, target)\n",
    "        train_loss += loss.item()\n",
    "\n",
    "        # backpropagate\n",
    "        loss.backward()\n",
    "        optimizer.step()\n",
    "\n",
    "    #Return average loss\n",
    "    avg_loss = train_loss / (batch+1)\n",
    "    print('Training set: Average loss: {:.6f}'.format(avg_loss))\n",
    "    return avg_loss\n",
    "           \n",
    "            \n",
    "def test(model, data_loader):\n",
    "    # Switch the model to evaluation mode (so we don't backpropagate)\n",
    "    model.eval()\n",
    "    test_loss = 0\n",
    "    correct = 0\n",
    "\n",
    "    with torch.no_grad():\n",
    "        batch_count = 0\n",
    "        for batch, tensor in enumerate(data_loader):\n",
    "            batch_count += 1\n",
    "            data, target = tensor\n",
    "            # Get the predictions\n",
    "            out = model(data)\n",
    "\n",
    "            # calculate the loss\n",
    "            test_loss += loss_criteria(out, target).item()\n",
    "\n",
    "            # Calculate the accuracy\n",
    "            _, predicted = torch.max(out.data, 1)\n",
    "            correct += torch.sum(target==predicted).item()\n",
    "            \n",
    "    # Calculate the average loss and total accuracy for this epoch\n",
    "    avg_loss = test_loss/batch_count\n",
    "    print('Validation set: Average loss: {:.6f}, Accuracy: {}/{} ({:.0f}%)\\n'.format(\n",
    "        avg_loss, correct, len(data_loader.dataset),\n",
    "        100. * correct / len(data_loader.dataset)))\n",
    "    \n",
    "    # return average loss for the epoch\n",
    "    return avg_loss\n",
    "\n",
    "# Specify the loss criteria (CrossEntropyLoss for multi-class classification)\n",
    "loss_criteria = nn.CrossEntropyLoss()\n",
    "\n",
    "# Use an \"Adam\" optimizer to adjust weights\n",
    "# (see https://pytorch.org/docs/stable/optim.html#algorithms for details of supported algorithms)\n",
    "learning_rate = 0.001\n",
    "optimizer = torch.optim.Adam(model.parameters(), lr=learning_rate)\n",
    "optimizer.zero_grad()\n",
    "\n",
    "# We'll track metrics for each epoch in these arrays\n",
    "epoch_nums = []\n",
    "training_loss = []\n",
    "validation_loss = []\n",
    "\n",
    "# Train over 50 epochs\n",
    "epochs = 50\n",
    "for epoch in range(1, epochs + 1):\n",
    "\n",
    "    # print the epoch number\n",
    "    print('Epoch: {}'.format(epoch))\n",
    "    \n",
    "    # Feed training data into the model to optimize the weights\n",
    "    train_loss = train(model, train_loader, optimizer)\n",
    "    \n",
    "    # Feed the test data into the model to check its performance\n",
    "    test_loss = test(model, test_loader)\n",
    "    \n",
    "    # Log the metrics for this epoch\n",
    "    epoch_nums.append(epoch)\n",
    "    training_loss.append(train_loss)\n",
    "    validation_loss.append(test_loss)"
   ]
  },
  {
   "cell_type": "code",
   "execution_count": 16,
   "metadata": {},
   "outputs": [
    {
     "data": {
      "image/png": "[encoded data removed]",
      "text/plain": [
       "<Figure size 432x288 with 1 Axes>"
      ]
     },
     "metadata": {
      "needs_background": "light"
     },
     "output_type": "display_data"
    }
   ],
   "source": [
    "%matplotlib inline\n",
    "from matplotlib import pyplot as plt\n",
    "\n",
    "plt.plot(epoch_nums, training_loss)\n",
    "plt.plot(epoch_nums, validation_loss)\n",
    "plt.xlabel('epoch')\n",
    "plt.ylabel('loss')\n",
    "plt.legend(['training', 'validation'], loc='upper right')\n",
    "plt.show()"
   ]
  },
  {
   "cell_type": "markdown",
   "metadata": {},
   "source": [
    "# model weights and biases"
   ]
  },
  {
   "cell_type": "code",
   "execution_count": 17,
   "metadata": {},
   "outputs": [
    {
     "name": "stdout",
     "output_type": "stream",
     "text": [
      "fc1.weight \n",
      " [[-0.00374341  0.2682218  -0.41152257 -0.3679695 ]\n",
      " [-0.20487966 -0.28398493  0.13597898  0.6053104 ]\n",
      " [-0.04437202  0.13230628 -0.15110654 -0.09828269]\n",
      " [-0.47767425 -0.33114105 -0.20611155  0.01852179]\n",
      " [ 0.17907079  0.28123733 -0.35748705 -0.23587279]\n",
      " [ 0.40088734  0.382148   -0.20181231  0.3537034 ]\n",
      " [-0.08059168  0.05290705  0.4527381  -0.46383518]\n",
      " [-0.35555413 -0.16605727 -0.23530953  0.38971528]\n",
      " [-0.32408983 -0.23016644 -0.34932023 -0.4682805 ]\n",
      " [-0.43653095  0.80248505  0.29239044  0.17577983]]\n",
      "fc1.bias \n",
      " [ 0.02629578 -0.26949045  0.08459234 -0.46684736 -0.3798124  -0.4262236\n",
      "  0.31546897  0.25337356 -0.22174752  0.2345465 ]\n",
      "fc2.weight \n",
      " [[ 2.02246875e-01  3.14372510e-01  1.25505149e-01  4.27201092e-02\n",
      "   2.12026387e-01 -1.86195642e-01  5.89271486e-02 -2.45173126e-01\n",
      "  -2.19173074e-01 -1.63358063e-01]\n",
      " [ 1.43084526e-01  1.60798699e-01 -1.87318310e-01  9.55346525e-02\n",
      "   1.92188621e-01  1.52368024e-01  1.20740533e-02  4.16618437e-02\n",
      "   1.96180314e-01  9.25334394e-01]\n",
      " [-2.43692577e-01 -1.43560484e-01  1.24280632e-01  2.62010306e-01\n",
      "   2.59306699e-01  3.23746145e-01  6.29339218e-02 -2.45525643e-01\n",
      "   2.90905833e-02 -6.68823123e-01]\n",
      " [-2.94709772e-01  5.11151612e-01  2.40446895e-01 -3.15446049e-01\n",
      "   5.91889918e-02 -1.04206558e-02 -5.20388186e-02 -1.01968892e-01\n",
      "   1.21607333e-01 -4.82648820e-01]\n",
      " [ 1.15926355e-01  1.59918934e-01  2.26378471e-01  1.18241072e-01\n",
      "  -3.12981755e-01 -2.05135971e-01  1.57897264e-01  6.61869049e-02\n",
      "  -2.46684223e-01 -1.82090104e-01]\n",
      " [ 2.97491044e-01  5.08512676e-01 -1.37883261e-01 -7.95897096e-02\n",
      "  -3.19968253e-01 -9.41922441e-02 -2.38138139e-01 -2.13026911e-01\n",
      "  -1.74240172e-02 -3.14111978e-01]\n",
      " [-1.29504845e-01  1.87642485e-01 -1.92436963e-01  2.86935598e-01\n",
      "   2.16710836e-01 -2.66669482e-01 -7.87041336e-02  1.42690241e-02\n",
      "   4.61379588e-02  7.50010908e-02]\n",
      " [ 1.24096721e-01  1.89420879e-02 -1.54296622e-01  1.49635494e-01\n",
      "  -3.03341120e-01 -1.87430307e-01 -7.91612566e-02 -1.54038772e-01\n",
      "  -1.10627025e-01 -2.59187132e-01]\n",
      " [-6.72664344e-02  3.37419212e-01 -2.06011564e-01 -1.62286162e-02\n",
      "   2.08991051e-01 -1.28818750e-01  8.78867507e-03  8.23016744e-04\n",
      "   6.39986098e-02  2.39946589e-01]\n",
      " [ 2.99545556e-01  2.00822324e-01  3.00230891e-01 -2.28701234e-02\n",
      "  -2.84074187e-01 -1.49916381e-01  2.15321153e-01 -2.04995275e-03\n",
      "  -1.57179862e-01 -2.42329061e-01]]\n",
      "fc2.bias \n",
      " [-0.2959424   0.13159421 -0.27384382  0.07626942  0.17096573 -0.4653062\n",
      "  0.19725719 -0.24745122 -0.09499434 -0.1282217 ]\n",
      "fc3.weight \n",
      " [[-0.06091028  0.32780746 -0.9960096  -1.0807507  -0.04948315 -0.3577183\n",
      "  -0.14365433  0.11912274  0.19421846 -0.02134135]\n",
      " [ 0.27809682 -0.47728527  0.09838016  0.83235973 -0.2853832   0.9088981\n",
      "  -0.03649095 -0.14116624  0.38886335 -0.25554216]\n",
      " [ 0.03393281 -0.19362502  1.0301037  -0.24135342  0.15194914 -0.6721673\n",
      "  -0.07604478 -0.06650442 -1.1390747   0.17134616]]\n",
      "fc3.bias \n",
      " [ 0.5242965  -0.09666859 -0.13340557]\n"
     ]
    }
   ],
   "source": [
    "for param_tensor in model.state_dict():\n",
    "    print(param_tensor, \"\\n\", model.state_dict()[param_tensor].numpy())"
   ]
  },
  {
   "cell_type": "markdown",
   "metadata": {},
   "source": [
    "# How good is the model?"
   ]
  },
  {
   "cell_type": "code",
   "execution_count": 19,
   "metadata": {},
   "outputs": [
    {
     "data": {
      "image/png": "[encoded data removed]",
      "text/plain": [
       "<Figure size 432x288 with 2 Axes>"
      ]
     },
     "metadata": {
      "needs_background": "light"
     },
     "output_type": "display_data"
    }
   ],
   "source": [
    "from sklearn.metrics import confusion_matrix\n",
    "import numpy as np\n",
    "\n",
    "# Set the model to evaluate mode\n",
    "model.eval()\n",
    "\n",
    "# Get predictions for the test data\n",
    "x = torch.Tensor(x_test).float()\n",
    "_, predicted = torch.max(model(x).data, 1)\n",
    "\n",
    "# Plot the confusion matrix\n",
    "penguin_classes = ['Adelie', 'Gentoo', 'Chinstrap']\n",
    "\n",
    "cm = confusion_matrix(y_test, predicted.numpy())\n",
    "plt.imshow(cm, interpolation=\"nearest\", cmap=plt.cm.Blues)\n",
    "plt.colorbar()\n",
    "tick_marks = np.arange(len(penguin_classes))\n",
    "plt.xticks(tick_marks, penguin_classes, rotation=45)\n",
    "plt.yticks(tick_marks, penguin_classes)\n",
    "plt.xlabel(\"Actual Species\")\n",
    "plt.ylabel(\"Predicted Species\")\n",
    "plt.show()"
   ]
  },
  {
   "cell_type": "code",
   "execution_count": null,
   "metadata": {},
   "outputs": [],
   "source": []
  }
 ],
 "metadata": {
  "kernelspec": {
   "display_name": "Python 3",
   "language": "python",
   "name": "python3"
  },
  "language_info": {
   "codemirror_mode": {
    "name": "ipython",
    "version": 3
   },
   "file_extension": ".py",
   "mimetype": "text/x-python",
   "name": "python",
   "nbconvert_exporter": "python",
   "pygments_lexer": "ipython3",
   "version": "3.7.3"
  }
 },
 "nbformat": 4,
 "nbformat_minor": 2
}
