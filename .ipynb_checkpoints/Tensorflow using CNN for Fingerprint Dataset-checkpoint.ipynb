{
 "cells": [
  {
   "cell_type": "code",
   "execution_count": 1,
   "metadata": {
    "colab": {
     "base_uri": "https://localhost:8080/",
     "height": 79
    },
    "colab_type": "code",
    "executionInfo": {
     "elapsed": 1759,
     "status": "ok",
     "timestamp": 1581381114898,
     "user": {
      "displayName": "Mahedi Hasan Jisan",
      "photoUrl": "https://lh3.googleusercontent.com/a-/AAuE7mAu5bWTImKRkQ7b4M2q23LoyUdX5z4xZaOcBYNe=s64",
      "userId": "00420414620724952967"
     },
     "user_tz": 360
    },
    "id": "3dvN2vlPm8hr",
    "outputId": "cea779d6-b4fe-4fe1-ef4d-89fe481246ca"
   },
   "outputs": [
    {
     "name": "stderr",
     "output_type": "stream",
     "text": [
      "Using TensorFlow backend.\n"
     ]
    }
   ],
   "source": [
    "import tensorflow as tf\n",
    "from tensorflow.keras import optimizers, Model, utils\n",
    "from tensorflow.keras.models import Sequential\n",
    "from tensorflow.keras.layers import Dense, Dropout, Activation, Flatten, Input, Conv2D, MaxPool2D\n",
    "from tensorflow.keras.utils import normalize, to_categorical\n",
    "from tensorflow.keras.callbacks import TensorBoard\n",
    "import numpy as np\n",
    "import pandas as pd\n",
    "import matplotlib.pyplot as plt\n",
    "from keras.datasets import mnist, imdb\n",
    "import os\n",
    "import cv2 as cv\n",
    "from sklearn.model_selection import train_test_split\n",
    "# from keras import backend as K"
   ]
  },
  {
   "cell_type": "code",
   "execution_count": 2,
   "metadata": {},
   "outputs": [],
   "source": [
    "# Demo Check\n",
    "\n",
    "# from keras.preprocessing.image import load_img\n",
    "# img = load_img('Input/Real/1__M_Left_index_finger.BMP')\n",
    "# img1 = cv.imread('Input/Real/1__M_Left_index_finger.BMP', cv.IMREAD_GRAYSCALE)\n",
    "# img1"
   ]
  },
  {
   "cell_type": "code",
   "execution_count": 2,
   "metadata": {},
   "outputs": [],
   "source": [
    "def extract_label(img_path,train = True):\n",
    "    filename, _ = os.path.splitext(os.path.basename(img_path))\n",
    "\n",
    "    subject_id, etc = filename.split('__')\n",
    "    \n",
    "    if train:\n",
    "        gender, lr, finger, _, _ = etc.split('_')\n",
    "    else:\n",
    "        gender, lr, finger, _ = etc.split('_')\n",
    "    \n",
    "    gender = 0 if gender == 'M' else 1\n",
    "    lr = 0 if lr == 'Left' else 1\n",
    "\n",
    "    if finger == 'thumb':\n",
    "        finger = 0\n",
    "    elif finger == 'index':\n",
    "        finger = 1\n",
    "    elif finger == 'middle':\n",
    "        finger = 2\n",
    "    elif finger == 'ring':\n",
    "        finger = 3\n",
    "    elif finger == 'little':\n",
    "        finger = 4\n",
    "    \n",
    "    return np.array([subject_id, gender, lr, finger], dtype=np.uint16)\n",
    "\n",
    "\n",
    "img_size = 90\n",
    "\n",
    "def loading_data(path,train):\n",
    "#     print(\"loading data from: \",path)\n",
    "    data = []\n",
    "    for img in os.listdir(path):\n",
    "        try:\n",
    "            img_array = cv.imread(os.path.join(path, img), cv.IMREAD_GRAYSCALE)\n",
    "            img_resize = cv.resize(img_array, (img_size, img_size))\n",
    "            label = extract_label(os.path.join(path, img),train)\n",
    "            data.append([label[3], img_resize ])\n",
    "        except Exception as e:\n",
    "            pass\n",
    "    data\n",
    "    return data"
   ]
  },
  {
   "cell_type": "code",
   "execution_count": 3,
   "metadata": {},
   "outputs": [],
   "source": [
    "Real_path = \"Input/Real\"\n",
    "Easy_path = \"Input/Altered/Altered-Easy\"\n",
    "Medium_path = \"Input/Altered/Altered-Medium\"\n",
    "Hard_path = \"Input/Altered/Altered-Hard\""
   ]
  },
  {
   "cell_type": "code",
   "execution_count": 4,
   "metadata": {},
   "outputs": [
    {
     "ename": "FileNotFoundError",
     "evalue": "[WinError 3] The system cannot find the path specified: 'Input/Altered/Altered-Easy'",
     "output_type": "error",
     "traceback": [
      "\u001b[1;31m---------------------------------------------------------------------------\u001b[0m",
      "\u001b[1;31mFileNotFoundError\u001b[0m                         Traceback (most recent call last)",
      "\u001b[1;32m<ipython-input-4-57cf91756ff5>\u001b[0m in \u001b[0;36m<module>\u001b[1;34m\u001b[0m\n\u001b[1;32m----> 1\u001b[1;33m \u001b[0mEasy_data\u001b[0m \u001b[1;33m=\u001b[0m \u001b[0mloading_data\u001b[0m\u001b[1;33m(\u001b[0m\u001b[0mEasy_path\u001b[0m\u001b[1;33m,\u001b[0m \u001b[0mtrain\u001b[0m \u001b[1;33m=\u001b[0m \u001b[1;32mTrue\u001b[0m\u001b[1;33m)\u001b[0m\u001b[1;33m\u001b[0m\u001b[1;33m\u001b[0m\u001b[0m\n\u001b[0m\u001b[0;32m      2\u001b[0m \u001b[0mMedium_data\u001b[0m \u001b[1;33m=\u001b[0m \u001b[0mloading_data\u001b[0m\u001b[1;33m(\u001b[0m\u001b[0mMedium_path\u001b[0m\u001b[1;33m,\u001b[0m \u001b[0mtrain\u001b[0m \u001b[1;33m=\u001b[0m \u001b[1;32mTrue\u001b[0m\u001b[1;33m)\u001b[0m\u001b[1;33m\u001b[0m\u001b[1;33m\u001b[0m\u001b[0m\n\u001b[0;32m      3\u001b[0m \u001b[0mHard_data\u001b[0m \u001b[1;33m=\u001b[0m \u001b[0mloading_data\u001b[0m\u001b[1;33m(\u001b[0m\u001b[0mHard_path\u001b[0m\u001b[1;33m,\u001b[0m \u001b[0mtrain\u001b[0m \u001b[1;33m=\u001b[0m \u001b[1;32mTrue\u001b[0m\u001b[1;33m)\u001b[0m\u001b[1;33m\u001b[0m\u001b[1;33m\u001b[0m\u001b[0m\n\u001b[0;32m      4\u001b[0m \u001b[1;33m\u001b[0m\u001b[0m\n\u001b[0;32m      5\u001b[0m \u001b[1;33m\u001b[0m\u001b[0m\n",
      "\u001b[1;32m<ipython-input-2-f9ad1f266a93>\u001b[0m in \u001b[0;36mloading_data\u001b[1;34m(path, train)\u001b[0m\n\u001b[0;32m     31\u001b[0m \u001b[1;31m#     print(\"loading data from: \",path)\u001b[0m\u001b[1;33m\u001b[0m\u001b[1;33m\u001b[0m\u001b[1;33m\u001b[0m\u001b[0m\n\u001b[0;32m     32\u001b[0m     \u001b[0mdata\u001b[0m \u001b[1;33m=\u001b[0m \u001b[1;33m[\u001b[0m\u001b[1;33m]\u001b[0m\u001b[1;33m\u001b[0m\u001b[1;33m\u001b[0m\u001b[0m\n\u001b[1;32m---> 33\u001b[1;33m     \u001b[1;32mfor\u001b[0m \u001b[0mimg\u001b[0m \u001b[1;32min\u001b[0m \u001b[0mos\u001b[0m\u001b[1;33m.\u001b[0m\u001b[0mlistdir\u001b[0m\u001b[1;33m(\u001b[0m\u001b[0mpath\u001b[0m\u001b[1;33m)\u001b[0m\u001b[1;33m:\u001b[0m\u001b[1;33m\u001b[0m\u001b[1;33m\u001b[0m\u001b[0m\n\u001b[0m\u001b[0;32m     34\u001b[0m         \u001b[1;32mtry\u001b[0m\u001b[1;33m:\u001b[0m\u001b[1;33m\u001b[0m\u001b[1;33m\u001b[0m\u001b[0m\n\u001b[0;32m     35\u001b[0m             \u001b[0mimg_array\u001b[0m \u001b[1;33m=\u001b[0m \u001b[0mcv\u001b[0m\u001b[1;33m.\u001b[0m\u001b[0mimread\u001b[0m\u001b[1;33m(\u001b[0m\u001b[0mos\u001b[0m\u001b[1;33m.\u001b[0m\u001b[0mpath\u001b[0m\u001b[1;33m.\u001b[0m\u001b[0mjoin\u001b[0m\u001b[1;33m(\u001b[0m\u001b[0mpath\u001b[0m\u001b[1;33m,\u001b[0m \u001b[0mimg\u001b[0m\u001b[1;33m)\u001b[0m\u001b[1;33m,\u001b[0m \u001b[0mcv\u001b[0m\u001b[1;33m.\u001b[0m\u001b[0mIMREAD_GRAYSCALE\u001b[0m\u001b[1;33m)\u001b[0m\u001b[1;33m\u001b[0m\u001b[1;33m\u001b[0m\u001b[0m\n",
      "\u001b[1;31mFileNotFoundError\u001b[0m: [WinError 3] The system cannot find the path specified: 'Input/Altered/Altered-Easy'"
     ]
    }
   ],
   "source": [
    "Easy_data = loading_data(Easy_path, train = True)\n",
    "Medium_data = loading_data(Medium_path, train = True)\n",
    "Hard_data = loading_data(Hard_path, train = True)\n",
    "\n",
    "\n",
    "data = np.concatenate([Easy_data, Medium_data, Hard_data], axis=0)\n",
    "\n",
    "del Easy_data, Medium_data, Hard_data"
   ]
  },
  {
   "cell_type": "code",
   "execution_count": 6,
   "metadata": {
    "colab": {},
    "colab_type": "code",
    "id": "htJjJTsLm8iE"
   },
   "outputs": [],
   "source": [
    "test = loading_data(Real_path, train = False)\n",
    "test = np.array(test)"
   ]
  },
  {
   "cell_type": "code",
   "execution_count": 7,
   "metadata": {
    "colab": {
     "base_uri": "https://localhost:8080/",
     "height": 34
    },
    "colab_type": "code",
    "executionInfo": {
     "elapsed": 692,
     "status": "ok",
     "timestamp": 1581381510629,
     "user": {
      "displayName": "Mahedi Hasan Jisan",
      "photoUrl": "https://lh3.googleusercontent.com/a-/AAuE7mAu5bWTImKRkQ7b4M2q23LoyUdX5z4xZaOcBYNe=s64",
      "userId": "00420414620724952967"
     },
     "user_tz": 360
    },
    "id": "zUkWdL2um8iG",
    "outputId": "caf0d4d3-c22e-49da-f78b-619e3a077bc5"
   },
   "outputs": [
    {
     "name": "stdout",
     "output_type": "stream",
     "text": [
      "(49270, 2)\n",
      "(6000, 2)\n"
     ]
    }
   ],
   "source": [
    "print(data.shape)\n",
    "print(test.shape)"
   ]
  },
  {
   "cell_type": "code",
   "execution_count": 8,
   "metadata": {},
   "outputs": [
    {
     "data": {
      "text/plain": [
       "array([[1,\n",
       "        array([[160, 156, 156, ...,   0,   0,   0],\n",
       "       [158, 108, 137, ...,   0,   0,   0],\n",
       "       [158, 120, 255, ...,   0,   0,   0],\n",
       "       ...,\n",
       "       [  0,   0,   0, ...,   0,   0,   0],\n",
       "       [  0,   0,   0, ...,   0,   0,   0],\n",
       "       [  0,   0,   0, ...,   0,   0,   0]], dtype=uint8)],\n",
       "       [1,\n",
       "        array([[160, 156, 156, ...,   0,   0,   0],\n",
       "       [158, 108, 137, ...,   0,   0,   0],\n",
       "       [158, 120, 255, ...,   0,   0,   0],\n",
       "       ...,\n",
       "       [  0,   0,   0, ...,   0,   0,   0],\n",
       "       [  0,   0,   0, ...,   0,   0,   0],\n",
       "       [  0,   0,   0, ...,   0,   0,   0]], dtype=uint8)],\n",
       "       [1,\n",
       "        array([[160, 156, 156, ...,   0,   0,   0],\n",
       "       [158, 108, 137, ...,   0,   0,   0],\n",
       "       [158, 120, 255, ...,   0,   0,   0],\n",
       "       ...,\n",
       "       [  0,   0,   0, ...,   0,   0,   0],\n",
       "       [  0,   0,   0, ...,   0,   0,   0],\n",
       "       [  0,   0,   0, ...,   0,   0,   0]], dtype=uint8)],\n",
       "       ...,\n",
       "       [0,\n",
       "        array([[160, 156, 156, ...,   0,   0,   0],\n",
       "       [158, 108, 137, ...,   0,   0,   0],\n",
       "       [158, 120, 255, ...,   0,   0,   0],\n",
       "       ...,\n",
       "       [  0,   0,   0, ...,   0,   0,   0],\n",
       "       [  0,   0,   0, ...,   0,   0,   0],\n",
       "       [  0,   0,   0, ...,   0,   0,   0]], dtype=uint8)],\n",
       "       [0,\n",
       "        array([[160, 156, 156, ...,   0,   0,   0],\n",
       "       [158, 108, 137, ...,   0,   0,   0],\n",
       "       [158, 120, 255, ...,   0,   0,   0],\n",
       "       ...,\n",
       "       [  0,   0,   0, ...,   0,   0,   0],\n",
       "       [  0,   0,   0, ...,   0,   0,   0],\n",
       "       [  0,   0,   0, ...,   0,   0,   0]], dtype=uint8)],\n",
       "       [0,\n",
       "        array([[160, 156, 156, ...,   0,   0,   0],\n",
       "       [158, 108, 137, ...,   0,   0,   0],\n",
       "       [158, 120, 255, ...,   0,   0,   0],\n",
       "       ...,\n",
       "       [  0,   0,   0, ...,   0,   0,   0],\n",
       "       [  0,   0,   0, ...,   0,   0,   0],\n",
       "       [  0,   0,   0, ...,   0,   0,   0]], dtype=uint8)]], dtype=object)"
      ]
     },
     "execution_count": 8,
     "metadata": {},
     "output_type": "execute_result"
    }
   ],
   "source": [
    "data"
   ]
  },
  {
   "cell_type": "code",
   "execution_count": 9,
   "metadata": {},
   "outputs": [],
   "source": [
    "X, y = [], []\n",
    "\n",
    "for label, feature in data:\n",
    "    X.append(feature)\n",
    "    y.append(label)\n",
    "    \n",
    "del data\n",
    "\n",
    "X = np.array(X).reshape(-1, img_size, img_size, 1)\n",
    "X = X / 255.0\n",
    "\n",
    "y = utils.to_categorical(y, num_classes = 5)"
   ]
  },
  {
   "cell_type": "code",
   "execution_count": 10,
   "metadata": {
    "colab": {},
    "colab_type": "code",
    "id": "KQUFDO5Wm8iJ"
   },
   "outputs": [
    {
     "name": "stderr",
     "output_type": "stream",
     "text": [
      "C:\\ProgramData\\Anaconda3\\lib\\site-packages\\matplotlib\\text.py:1150: FutureWarning: elementwise comparison failed; returning scalar instead, but in the future will perform elementwise comparison\n",
      "  if s != self._text:\n"
     ]
    },
    {
     "data": {
      "text/plain": [
       "<matplotlib.image.AxesImage at 0x2be9fb56fc8>"
      ]
     },
     "execution_count": 10,
     "metadata": {},
     "output_type": "execute_result"
    },
    {
     "data": {
      "image/png": "[encoded data removed]",
      "text/plain": [
       "<Figure size 1080x720 with 4 Axes>"
      ]
     },
     "metadata": {
      "needs_background": "light"
     },
     "output_type": "display_data"
    }
   ],
   "source": [
    "plt.figure(figsize=(15, 10))\n",
    "plt.subplot(1, 4, 1)\n",
    "plt.title(y[0])\n",
    "plt.imshow(X[0].squeeze(), cmap='gray')\n",
    "plt.subplot(1, 4, 2)\n",
    "plt.title(y[1])\n",
    "plt.imshow(X[1].squeeze(), cmap='gray')\n",
    "plt.subplot(1, 4, 3)\n",
    "plt.title(y[2])\n",
    "plt.imshow(X[2].squeeze(), cmap='gray')\n",
    "plt.subplot(1, 4, 4)\n",
    "plt.title(y[3])\n",
    "plt.imshow(X[3].squeeze(), cmap='gray')"
   ]
  },
  {
   "cell_type": "code",
   "execution_count": 11,
   "metadata": {},
   "outputs": [],
   "source": [
    "X_test, y_test = [], []\n",
    "\n",
    "for label, feature in test:\n",
    "    X_test.append(feature)\n",
    "    y_test.append(label)\n",
    "    \n",
    "del test    \n",
    "X_test = np.array(X_test).reshape(-1, img_size, img_size, 1)\n",
    "X_test = X_test / 255.0\n",
    "\n",
    "y_test = utils.to_categorical(y_test, num_classes = 5)"
   ]
  },
  {
   "cell_type": "code",
   "execution_count": 12,
   "metadata": {},
   "outputs": [
    {
     "data": {
      "text/plain": [
       "<matplotlib.image.AxesImage at 0x2be8a838bc8>"
      ]
     },
     "execution_count": 12,
     "metadata": {},
     "output_type": "execute_result"
    },
    {
     "data": {
      "image/png": "[encoded data removed]",
      "text/plain": [
       "<Figure size 1080x720 with 4 Axes>"
      ]
     },
     "metadata": {
      "needs_background": "light"
     },
     "output_type": "display_data"
    }
   ],
   "source": [
    "plt.figure(figsize=(15, 10))\n",
    "plt.subplot(1, 4, 1)\n",
    "plt.title(y_test[0])\n",
    "plt.imshow(X_test[0].squeeze(), cmap='gray')\n",
    "plt.subplot(1, 4, 2)\n",
    "plt.title(y_test[1])\n",
    "plt.imshow(X_test[1].squeeze(), cmap='gray')\n",
    "plt.subplot(1, 4, 3)\n",
    "plt.title(y_test[2])\n",
    "plt.imshow(X[2].squeeze(), cmap='gray')\n",
    "plt.subplot(1, 4, 4)\n",
    "plt.title(y[3])\n",
    "plt.imshow(X[3].squeeze(), cmap='gray')"
   ]
  },
  {
   "cell_type": "code",
   "execution_count": 13,
   "metadata": {},
   "outputs": [
    {
     "name": "stdout",
     "output_type": "stream",
     "text": [
      "[[[[0.62745098]\n",
      "   [0.61176471]\n",
      "   [0.61176471]\n",
      "   ...\n",
      "   [0.        ]\n",
      "   [0.        ]\n",
      "   [0.        ]]\n",
      "\n",
      "  [[0.61960784]\n",
      "   [0.42352941]\n",
      "   [0.5372549 ]\n",
      "   ...\n",
      "   [0.        ]\n",
      "   [0.        ]\n",
      "   [0.        ]]\n",
      "\n",
      "  [[0.61960784]\n",
      "   [0.47058824]\n",
      "   [1.        ]\n",
      "   ...\n",
      "   [0.        ]\n",
      "   [0.        ]\n",
      "   [0.        ]]\n",
      "\n",
      "  ...\n",
      "\n",
      "  [[0.        ]\n",
      "   [0.        ]\n",
      "   [0.        ]\n",
      "   ...\n",
      "   [0.        ]\n",
      "   [0.        ]\n",
      "   [0.        ]]\n",
      "\n",
      "  [[0.        ]\n",
      "   [0.        ]\n",
      "   [0.        ]\n",
      "   ...\n",
      "   [0.        ]\n",
      "   [0.        ]\n",
      "   [0.        ]]\n",
      "\n",
      "  [[0.        ]\n",
      "   [0.        ]\n",
      "   [0.        ]\n",
      "   ...\n",
      "   [0.        ]\n",
      "   [0.        ]\n",
      "   [0.        ]]]\n",
      "\n",
      "\n",
      " [[[0.62745098]\n",
      "   [0.61176471]\n",
      "   [0.61176471]\n",
      "   ...\n",
      "   [0.        ]\n",
      "   [0.        ]\n",
      "   [0.        ]]\n",
      "\n",
      "  [[0.61960784]\n",
      "   [0.42352941]\n",
      "   [0.5372549 ]\n",
      "   ...\n",
      "   [0.        ]\n",
      "   [0.        ]\n",
      "   [0.        ]]\n",
      "\n",
      "  [[0.61960784]\n",
      "   [0.47058824]\n",
      "   [1.        ]\n",
      "   ...\n",
      "   [0.        ]\n",
      "   [0.        ]\n",
      "   [0.        ]]\n",
      "\n",
      "  ...\n",
      "\n",
      "  [[0.        ]\n",
      "   [0.        ]\n",
      "   [0.        ]\n",
      "   ...\n",
      "   [0.        ]\n",
      "   [0.        ]\n",
      "   [0.        ]]\n",
      "\n",
      "  [[0.        ]\n",
      "   [0.        ]\n",
      "   [0.        ]\n",
      "   ...\n",
      "   [0.        ]\n",
      "   [0.        ]\n",
      "   [0.        ]]\n",
      "\n",
      "  [[0.        ]\n",
      "   [0.        ]\n",
      "   [0.        ]\n",
      "   ...\n",
      "   [0.        ]\n",
      "   [0.        ]\n",
      "   [0.        ]]]\n",
      "\n",
      "\n",
      " [[[0.62745098]\n",
      "   [0.61176471]\n",
      "   [0.61176471]\n",
      "   ...\n",
      "   [0.        ]\n",
      "   [0.        ]\n",
      "   [0.        ]]\n",
      "\n",
      "  [[0.61960784]\n",
      "   [0.42352941]\n",
      "   [0.5372549 ]\n",
      "   ...\n",
      "   [0.        ]\n",
      "   [0.        ]\n",
      "   [0.        ]]\n",
      "\n",
      "  [[0.61960784]\n",
      "   [0.47058824]\n",
      "   [1.        ]\n",
      "   ...\n",
      "   [0.        ]\n",
      "   [0.        ]\n",
      "   [0.        ]]\n",
      "\n",
      "  ...\n",
      "\n",
      "  [[0.        ]\n",
      "   [0.        ]\n",
      "   [0.        ]\n",
      "   ...\n",
      "   [0.        ]\n",
      "   [0.        ]\n",
      "   [0.        ]]\n",
      "\n",
      "  [[0.        ]\n",
      "   [0.        ]\n",
      "   [0.        ]\n",
      "   ...\n",
      "   [0.        ]\n",
      "   [0.        ]\n",
      "   [0.        ]]\n",
      "\n",
      "  [[0.        ]\n",
      "   [0.        ]\n",
      "   [0.        ]\n",
      "   ...\n",
      "   [0.        ]\n",
      "   [0.        ]\n",
      "   [0.        ]]]\n",
      "\n",
      "\n",
      " ...\n",
      "\n",
      "\n",
      " [[[0.62745098]\n",
      "   [0.61176471]\n",
      "   [0.61176471]\n",
      "   ...\n",
      "   [0.        ]\n",
      "   [0.        ]\n",
      "   [0.        ]]\n",
      "\n",
      "  [[0.61960784]\n",
      "   [0.42352941]\n",
      "   [0.5372549 ]\n",
      "   ...\n",
      "   [0.        ]\n",
      "   [0.        ]\n",
      "   [0.        ]]\n",
      "\n",
      "  [[0.61960784]\n",
      "   [0.47058824]\n",
      "   [1.        ]\n",
      "   ...\n",
      "   [0.        ]\n",
      "   [0.        ]\n",
      "   [0.        ]]\n",
      "\n",
      "  ...\n",
      "\n",
      "  [[0.        ]\n",
      "   [0.        ]\n",
      "   [0.        ]\n",
      "   ...\n",
      "   [0.        ]\n",
      "   [0.        ]\n",
      "   [0.        ]]\n",
      "\n",
      "  [[0.        ]\n",
      "   [0.        ]\n",
      "   [0.        ]\n",
      "   ...\n",
      "   [0.        ]\n",
      "   [0.        ]\n",
      "   [0.        ]]\n",
      "\n",
      "  [[0.        ]\n",
      "   [0.        ]\n",
      "   [0.        ]\n",
      "   ...\n",
      "   [0.        ]\n",
      "   [0.        ]\n",
      "   [0.        ]]]\n",
      "\n",
      "\n",
      " [[[0.62745098]\n",
      "   [0.61176471]\n",
      "   [0.61176471]\n",
      "   ...\n",
      "   [0.        ]\n",
      "   [0.        ]\n",
      "   [0.        ]]\n",
      "\n",
      "  [[0.61960784]\n",
      "   [0.42352941]\n",
      "   [0.5372549 ]\n",
      "   ...\n",
      "   [0.        ]\n",
      "   [0.        ]\n",
      "   [0.        ]]\n",
      "\n",
      "  [[0.61960784]\n",
      "   [0.47058824]\n",
      "   [1.        ]\n",
      "   ...\n",
      "   [0.        ]\n",
      "   [0.        ]\n",
      "   [0.        ]]\n",
      "\n",
      "  ...\n",
      "\n",
      "  [[0.        ]\n",
      "   [0.        ]\n",
      "   [0.        ]\n",
      "   ...\n",
      "   [0.        ]\n",
      "   [0.        ]\n",
      "   [0.        ]]\n",
      "\n",
      "  [[0.        ]\n",
      "   [0.        ]\n",
      "   [0.        ]\n",
      "   ...\n",
      "   [0.        ]\n",
      "   [0.        ]\n",
      "   [0.        ]]\n",
      "\n",
      "  [[0.        ]\n",
      "   [0.        ]\n",
      "   [0.        ]\n",
      "   ...\n",
      "   [0.        ]\n",
      "   [0.        ]\n",
      "   [0.        ]]]\n",
      "\n",
      "\n",
      " [[[0.62745098]\n",
      "   [0.61176471]\n",
      "   [0.61176471]\n",
      "   ...\n",
      "   [0.        ]\n",
      "   [0.        ]\n",
      "   [0.        ]]\n",
      "\n",
      "  [[0.61960784]\n",
      "   [0.42352941]\n",
      "   [0.5372549 ]\n",
      "   ...\n",
      "   [0.        ]\n",
      "   [0.        ]\n",
      "   [0.        ]]\n",
      "\n",
      "  [[0.61960784]\n",
      "   [0.47058824]\n",
      "   [1.        ]\n",
      "   ...\n",
      "   [0.        ]\n",
      "   [0.        ]\n",
      "   [0.        ]]\n",
      "\n",
      "  ...\n",
      "\n",
      "  [[0.        ]\n",
      "   [0.        ]\n",
      "   [0.        ]\n",
      "   ...\n",
      "   [0.        ]\n",
      "   [0.        ]\n",
      "   [0.        ]]\n",
      "\n",
      "  [[0.        ]\n",
      "   [0.        ]\n",
      "   [0.        ]\n",
      "   ...\n",
      "   [0.        ]\n",
      "   [0.        ]\n",
      "   [0.        ]]\n",
      "\n",
      "  [[0.        ]\n",
      "   [0.        ]\n",
      "   [0.        ]\n",
      "   ...\n",
      "   [0.        ]\n",
      "   [0.        ]\n",
      "   [0.        ]]]]\n",
      "[[0. 1. 0. 0. 0.]\n",
      " [0. 1. 0. 0. 0.]\n",
      " [0. 1. 0. 0. 0.]\n",
      " ...\n",
      " [1. 0. 0. 0. 0.]\n",
      " [1. 0. 0. 0. 0.]\n",
      " [1. 0. 0. 0. 0.]]\n"
     ]
    }
   ],
   "source": [
    "print(X)\n",
    "\n",
    "print(y)"
   ]
  },
  {
   "cell_type": "code",
   "execution_count": 14,
   "metadata": {},
   "outputs": [],
   "source": [
    "X_train, X_val, y_train, y_val = train_test_split(X, y, test_size = 0.3, random_state = 1)"
   ]
  },
  {
   "cell_type": "code",
   "execution_count": 15,
   "metadata": {},
   "outputs": [
    {
     "name": "stdout",
     "output_type": "stream",
     "text": [
      "Full Data:   (49270, 90, 90, 1)\n",
      "Train:       (34489, 90, 90, 1)\n",
      "Validation:  (14781, 90, 90, 1)\n",
      "Test:        (6000, 90, 90, 1)\n"
     ]
    }
   ],
   "source": [
    "print(\"Full Data:  \",X.shape)\n",
    "print(\"Train:      \",X_train.shape)\n",
    "print(\"Validation: \",X_val.shape)\n",
    "print(\"Test:       \",X_test.shape)"
   ]
  },
  {
   "cell_type": "code",
   "execution_count": 16,
   "metadata": {},
   "outputs": [
    {
     "name": "stdout",
     "output_type": "stream",
     "text": [
      "Full Data:   (49270, 5)\n",
      "Train:       (34489, 5)\n",
      "Validation:  (14781, 5)\n",
      "Test:        (6000, 5)\n"
     ]
    }
   ],
   "source": [
    "print(\"Full Data:  \",y.shape)\n",
    "print(\"Train:      \",y_train.shape)\n",
    "print(\"Validation: \",y_val.shape)\n",
    "print(\"Test:       \",y_test.shape)"
   ]
  },
  {
   "cell_type": "code",
   "execution_count": 17,
   "metadata": {
    "colab": {},
    "colab_type": "code",
    "id": "w_V0KWnkm8iO"
   },
   "outputs": [],
   "source": [
    "def ensembleModels(models, model_input):\n",
    "    # collect outputs of models in a list\n",
    "    yModels=[model(model_input) for model in models] \n",
    "    # averaging outputs\n",
    "    yAvg=tf.keras.layers.average(yModels) \n",
    "    # build model from same input and avg output\n",
    "    modelEns = Model(inputs=model_input, outputs=yAvg, name='averaging')  \n",
    "   \n",
    "    return modelEns"
   ]
  },
  {
   "cell_type": "code",
   "execution_count": 18,
   "metadata": {},
   "outputs": [
    {
     "data": {
      "text/plain": [
       "(90, 90, 1)"
      ]
     },
     "execution_count": 18,
     "metadata": {},
     "output_type": "execute_result"
    }
   ],
   "source": [
    "X_train.shape[1:]"
   ]
  },
  {
   "cell_type": "markdown",
   "metadata": {
    "colab_type": "text",
    "id": "HigsYG4efF4L"
   },
   "source": [
    "# Google's First Example"
   ]
  },
  {
   "cell_type": "markdown",
   "metadata": {
    "colab_type": "text",
    "id": "PUveeAd3paAz"
   },
   "source": [
    "# First Client Model Setup"
   ]
  },
  {
   "cell_type": "code",
   "execution_count": 19,
   "metadata": {
    "colab": {},
    "colab_type": "code",
    "id": "hih4-AvTeOlR"
   },
   "outputs": [],
   "source": [
    "model1 = Sequential()\n",
    "model1.add(Conv2D(filters=32, kernel_size=(5,5), activation='relu', input_shape=X_train.shape[1:]))\n",
    "model1.add(MaxPool2D(pool_size=(2, 2)))\n",
    "\n",
    "model1.add(Conv2D(filters=64, kernel_size=(5,5), activation='relu'))\n",
    "model1.add(MaxPool2D(pool_size=(2, 2)))\n",
    "\n",
    "model1.add(Flatten())\n",
    "model1.add(Dense(5, activation='softmax'))\n",
    "\n",
    "sgd = optimizers.SGD(lr=0.01, decay=1e-6, momentum=0.9, nesterov=True)\n",
    "\n",
    "model1.compile(\n",
    "    loss='categorical_crossentropy', \n",
    "    optimizer=sgd, \n",
    "    metrics=['accuracy']\n",
    ")"
   ]
  },
  {
   "cell_type": "code",
   "execution_count": 20,
   "metadata": {
    "colab": {},
    "colab_type": "code",
    "id": "hhZZ1upjm8iV"
   },
   "outputs": [],
   "source": [
    "# Second Client Model SetUp"
   ]
  },
  {
   "cell_type": "code",
   "execution_count": 21,
   "metadata": {
    "colab": {},
    "colab_type": "code",
    "id": "r4Sl8-wRm8iX"
   },
   "outputs": [],
   "source": [
    "model2 = Sequential()\n",
    "model2.add(Conv2D(filters=32, kernel_size=(5,5), activation='relu', input_shape=X_train.shape[1:]))\n",
    "model2.add(MaxPool2D(pool_size=(2, 2)))\n",
    "\n",
    "model2.add(Conv2D(filters=64, kernel_size=(5,5), activation='relu'))\n",
    "model2.add(MaxPool2D(pool_size=(2, 2)))\n",
    "\n",
    "model2.add(Flatten())\n",
    "model2.add(Dense(5, activation='softmax'))\n",
    "\n",
    "sgd = optimizers.SGD(lr=0.01, decay=1e-6, momentum=0.9, nesterov=True)\n",
    "model2.compile(\n",
    "    loss='categorical_crossentropy', \n",
    "    optimizer=sgd, \n",
    "    metrics=['accuracy']\n",
    ")"
   ]
  },
  {
   "cell_type": "code",
   "execution_count": 22,
   "metadata": {
    "colab": {},
    "colab_type": "code",
    "id": "avn57qHIm8ia"
   },
   "outputs": [],
   "source": [
    "# Third Client Model SetUP"
   ]
  },
  {
   "cell_type": "code",
   "execution_count": 23,
   "metadata": {
    "colab": {},
    "colab_type": "code",
    "id": "pXZqLDr-m8ie"
   },
   "outputs": [],
   "source": [
    "model3 = Sequential()\n",
    "model3.add(Conv2D(filters=32, kernel_size=(5,5), activation='relu', input_shape=X_train.shape[1:]))\n",
    "model3.add(MaxPool2D(pool_size=(2, 2)))\n",
    "\n",
    "model3.add(Conv2D(filters=64, kernel_size=(5,5), activation='relu'))\n",
    "model3.add(MaxPool2D(pool_size=(2, 2)))\n",
    "\n",
    "model3.add(Flatten())\n",
    "model3.add(Dense(5, activation='softmax'))\n",
    "\n",
    "sgd = optimizers.SGD(lr=0.01, decay=1e-6, momentum=0.9, nesterov=True)\n",
    "\n",
    "model3.compile(\n",
    "    loss='categorical_crossentropy', \n",
    "    optimizer=sgd, \n",
    "    metrics=['accuracy']\n",
    ")"
   ]
  },
  {
   "cell_type": "code",
   "execution_count": 24,
   "metadata": {
    "colab": {},
    "colab_type": "code",
    "id": "8-w6tCFsm8ig"
   },
   "outputs": [],
   "source": [
    "# Fourth Client Model SetUp"
   ]
  },
  {
   "cell_type": "code",
   "execution_count": 25,
   "metadata": {
    "colab": {},
    "colab_type": "code",
    "id": "AgtD0taum8ij"
   },
   "outputs": [],
   "source": [
    "model4 = Sequential()\n",
    "model4.add(Conv2D(filters=32, kernel_size=(5,5), activation='relu', input_shape=X_train.shape[1:]))\n",
    "model4.add(MaxPool2D(pool_size=(2, 2)))\n",
    "\n",
    "model4.add(Conv2D(filters=64, kernel_size=(5,5), activation='relu'))\n",
    "model4.add(MaxPool2D(pool_size=(2, 2)))\n",
    "\n",
    "model4.add(Flatten())\n",
    "model4.add(Dense(5, activation='softmax'))\n",
    "\n",
    "sgd = optimizers.SGD(lr=0.01, decay=1e-6, momentum=0.9, nesterov=True)\n",
    "\n",
    "model4.compile(\n",
    "    loss='categorical_crossentropy', \n",
    "    optimizer=sgd, \n",
    "    metrics=['accuracy']\n",
    ")"
   ]
  },
  {
   "cell_type": "code",
   "execution_count": 26,
   "metadata": {
    "colab": {},
    "colab_type": "code",
    "id": "3yI4ESZ4m8im"
   },
   "outputs": [],
   "source": [
    "# First Client -----> Step 1"
   ]
  },
  {
   "cell_type": "code",
   "execution_count": 27,
   "metadata": {
    "colab": {
     "base_uri": "https://localhost:8080/",
     "height": 151
    },
    "colab_type": "code",
    "executionInfo": {
     "elapsed": 50252,
     "status": "ok",
     "timestamp": 1581382139655,
     "user": {
      "displayName": "Mahedi Hasan Jisan",
      "photoUrl": "https://lh3.googleusercontent.com/a-/AAuE7mAu5bWTImKRkQ7b4M2q23LoyUdX5z4xZaOcBYNe=s64",
      "userId": "00420414620724952967"
     },
     "user_tz": 360
    },
    "id": "r5P5eX_gm8ip",
    "outputId": "54f9eea6-2b2b-42fb-e62f-c5de00d8998f"
   },
   "outputs": [
    {
     "name": "stdout",
     "output_type": "stream",
     "text": [
      "Train on 2155 samples, validate on 920 samples\n",
      "Epoch 1/30\n",
      "2155/2155 [==============================] - 6s 3ms/sample - loss: 1.5995 - accuracy: 0.2278 - val_loss: 1.5868 - val_accuracy: 0.2065\n",
      "Epoch 2/30\n",
      "2155/2155 [==============================] - 0s 160us/sample - loss: 1.5249 - accuracy: 0.3397 - val_loss: 1.5936 - val_accuracy: 0.2978\n",
      "Epoch 3/30\n",
      "2155/2155 [==============================] - 0s 152us/sample - loss: 1.4562 - accuracy: 0.3865 - val_loss: 1.4204 - val_accuracy: 0.4120\n",
      "Epoch 4/30\n",
      "2155/2155 [==============================] - 0s 156us/sample - loss: 1.3070 - accuracy: 0.4520 - val_loss: 1.3153 - val_accuracy: 0.4337\n",
      "Epoch 5/30\n",
      "2155/2155 [==============================] - 0s 155us/sample - loss: 1.2573 - accuracy: 0.4691 - val_loss: 1.2792 - val_accuracy: 0.4924\n",
      "Epoch 6/30\n",
      "2155/2155 [==============================] - 0s 193us/sample - loss: 1.2073 - accuracy: 0.5016 - val_loss: 1.2343 - val_accuracy: 0.4870\n",
      "Epoch 7/30\n",
      "2155/2155 [==============================] - 0s 167us/sample - loss: 1.1306 - accuracy: 0.5336 - val_loss: 1.1703 - val_accuracy: 0.5163\n",
      "Epoch 8/30\n",
      "2155/2155 [==============================] - 0s 159us/sample - loss: 1.1177 - accuracy: 0.5392 - val_loss: 1.1737 - val_accuracy: 0.5065\n",
      "Epoch 9/30\n",
      "2155/2155 [==============================] - 0s 152us/sample - loss: 1.0987 - accuracy: 0.5503 - val_loss: 1.1409 - val_accuracy: 0.5239\n",
      "Epoch 10/30\n",
      "2155/2155 [==============================] - 0s 159us/sample - loss: 1.0282 - accuracy: 0.5824 - val_loss: 1.1151 - val_accuracy: 0.5304\n",
      "Epoch 11/30\n",
      "2155/2155 [==============================] - 0s 153us/sample - loss: 1.0064 - accuracy: 0.6084 - val_loss: 1.1829 - val_accuracy: 0.5152\n",
      "Epoch 12/30\n",
      "2155/2155 [==============================] - 0s 170us/sample - loss: 0.9862 - accuracy: 0.5986 - val_loss: 1.1790 - val_accuracy: 0.4913\n",
      "Epoch 13/30\n",
      "2155/2155 [==============================] - 0s 161us/sample - loss: 0.9470 - accuracy: 0.6213 - val_loss: 1.0881 - val_accuracy: 0.5272\n",
      "Epoch 14/30\n",
      "2155/2155 [==============================] - 0s 150us/sample - loss: 0.9184 - accuracy: 0.6269 - val_loss: 1.0566 - val_accuracy: 0.5620\n",
      "Epoch 15/30\n",
      "2155/2155 [==============================] - 0s 156us/sample - loss: 0.8690 - accuracy: 0.6524 - val_loss: 1.0366 - val_accuracy: 0.5837\n",
      "Epoch 16/30\n",
      "2155/2155 [==============================] - 0s 159us/sample - loss: 0.8462 - accuracy: 0.6701 - val_loss: 1.1298 - val_accuracy: 0.5424\n",
      "Epoch 17/30\n",
      "2155/2155 [==============================] - 0s 152us/sample - loss: 0.8180 - accuracy: 0.6845 - val_loss: 1.0484 - val_accuracy: 0.5848\n",
      "Epoch 18/30\n",
      "2155/2155 [==============================] - 0s 163us/sample - loss: 0.7720 - accuracy: 0.7053 - val_loss: 1.0707 - val_accuracy: 0.5902\n",
      "Epoch 19/30\n",
      "2155/2155 [==============================] - 0s 155us/sample - loss: 0.7291 - accuracy: 0.7285 - val_loss: 1.0589 - val_accuracy: 0.5978\n",
      "Epoch 20/30\n",
      "2155/2155 [==============================] - 0s 154us/sample - loss: 0.6897 - accuracy: 0.7555 - val_loss: 1.2489 - val_accuracy: 0.5065\n",
      "Epoch 21/30\n",
      "2155/2155 [==============================] - 0s 155us/sample - loss: 0.6761 - accuracy: 0.7494 - val_loss: 1.0395 - val_accuracy: 0.6065\n",
      "Epoch 22/30\n",
      "2155/2155 [==============================] - 0s 163us/sample - loss: 0.6201 - accuracy: 0.7787 - val_loss: 1.1279 - val_accuracy: 0.5609\n",
      "Epoch 23/30\n",
      "2155/2155 [==============================] - 0s 157us/sample - loss: 0.5834 - accuracy: 0.7921 - val_loss: 1.1532 - val_accuracy: 0.5685\n",
      "Epoch 24/30\n",
      "2155/2155 [==============================] - 0s 163us/sample - loss: 0.5143 - accuracy: 0.8320 - val_loss: 1.0323 - val_accuracy: 0.6022\n",
      "Epoch 25/30\n",
      "2155/2155 [==============================] - 0s 151us/sample - loss: 0.4767 - accuracy: 0.8464 - val_loss: 1.0463 - val_accuracy: 0.5967\n",
      "Epoch 26/30\n",
      "2155/2155 [==============================] - 0s 161us/sample - loss: 0.4938 - accuracy: 0.8404 - val_loss: 1.0902 - val_accuracy: 0.5870\n",
      "Epoch 27/30\n",
      "2155/2155 [==============================] - 0s 155us/sample - loss: 0.4634 - accuracy: 0.8515 - val_loss: 1.0489 - val_accuracy: 0.6163\n",
      "Epoch 28/30\n",
      "2155/2155 [==============================] - 0s 155us/sample - loss: 0.3827 - accuracy: 0.8798 - val_loss: 1.0805 - val_accuracy: 0.6141\n",
      "Epoch 29/30\n",
      "2155/2155 [==============================] - 0s 179us/sample - loss: 0.3211 - accuracy: 0.9244 - val_loss: 1.3536 - val_accuracy: 0.5446\n",
      "Epoch 30/30\n",
      "2155/2155 [==============================] - 0s 154us/sample - loss: 0.3501 - accuracy: 0.9007 - val_loss: 1.1171 - val_accuracy: 0.6098\n"
     ]
    }
   ],
   "source": [
    "epochs = 30\n",
    "batch_size = 128\n",
    "\n",
    "history = model1.fit(X_train[0:2155], y_train[0:2155], batch_size=batch_size, epochs=epochs,\n",
    "                              validation_data=(X_val[0:920], y_val[0:920]))"
   ]
  },
  {
   "cell_type": "code",
   "execution_count": 28,
   "metadata": {
    "colab": {},
    "colab_type": "code",
    "id": "B6o4UcMBm8is"
   },
   "outputs": [],
   "source": [
    "input_shape = model1.input_shape[1:]"
   ]
  },
  {
   "cell_type": "code",
   "execution_count": 29,
   "metadata": {},
   "outputs": [
    {
     "name": "stdout",
     "output_type": "stream",
     "text": [
      "Score:  62.13333606719971\n"
     ]
    },
    {
     "data": {
      "image/png": "[encoded data removed]",
      "text/plain": [
       "<Figure size 432x288 with 1 Axes>"
      ]
     },
     "metadata": {
      "needs_background": "light"
     },
     "output_type": "display_data"
    },
    {
     "data": {
      "image/png": "[encoded data removed]",
      "text/plain": [
       "<Figure size 432x288 with 1 Axes>"
      ]
     },
     "metadata": {
      "needs_background": "light"
     },
     "output_type": "display_data"
    }
   ],
   "source": [
    "acc = history.history['accuracy']\n",
    "val_acc = history.history['val_accuracy']\n",
    "loss = history.history['loss']\n",
    "val_loss = history.history['val_loss']\n",
    "\n",
    "epochs = range(1, len(acc) + 1)\n",
    "\n",
    "plt.plot(epochs, acc, label='Training acc')\n",
    "plt.plot(epochs, val_acc, label='Validation acc')\n",
    "plt.title('Training and validation accuracy')\n",
    "plt.legend()\n",
    "plt.figure()\n",
    "plt.plot(epochs, loss,  label='Training loss')\n",
    "plt.plot(epochs, val_loss, label='Validation loss')\n",
    "plt.title('Training and validation loss')\n",
    "plt.legend()\n",
    "\n",
    "score = model1.evaluate([X_test[0:375]], [y_test[0:375]], verbose=0)\n",
    "print(\"Score: \",score[1]*100)\n",
    "\n",
    "plt.show()\n"
   ]
  },
  {
   "cell_type": "markdown",
   "metadata": {
    "colab_type": "text",
    "id": "zgC2-rF0vKG-"
   },
   "source": [
    "# How can we see the model weights?"
   ]
  },
  {
   "cell_type": "code",
   "execution_count": 30,
   "metadata": {
    "colab": {
     "base_uri": "https://localhost:8080/",
     "height": 134
    },
    "colab_type": "code",
    "executionInfo": {
     "elapsed": 379,
     "status": "ok",
     "timestamp": 1581382854219,
     "user": {
      "displayName": "Mahedi Hasan Jisan",
      "photoUrl": "https://lh3.googleusercontent.com/a-/AAuE7mAu5bWTImKRkQ7b4M2q23LoyUdX5z4xZaOcBYNe=s64",
      "userId": "00420414620724952967"
     },
     "user_tz": 360
    },
    "id": "OUnxS56tm8iv",
    "outputId": "a953f492-b1ed-4574-dbd0-ad3d07d3cc32"
   },
   "outputs": [
    {
     "data": {
      "text/plain": [
       "array([-0.17321126,  0.06789682,  0.0797101 ,  0.10127699, -0.57722634,\n",
       "        0.01372757,  0.00149227,  0.07954001,  0.2368218 ,  0.03755983,\n",
       "        0.08801325,  0.02410938,  0.03546175,  0.11306038,  0.0457398 ,\n",
       "        0.09053743, -0.05462221, -0.4081437 ,  0.05542614,  0.12858641,\n",
       "        0.03693499,  0.10492004,  0.07604656,  0.01178301, -0.14375103,\n",
       "       -0.03684159, -0.12339158,  0.02828726,  0.01849601,  0.06255993,\n",
       "        0.05323275,  0.09434886], dtype=float32)"
      ]
     },
     "execution_count": 30,
     "metadata": {},
     "output_type": "execute_result"
    }
   ],
   "source": [
    "# inp = model1.input                                           # input placeholder\n",
    "# outputs = [layer.output for layer in model1.layers]          # all layer outputs\n",
    "# functors = [K.function([inp], [out]) for out in outputs]    # evaluation functions\n",
    "\n",
    "# outputs\n",
    "\n",
    "# # Testing\n",
    "# test = np.random.random(input_shape)[np.newaxis,...]\n",
    "# layer_outs = [func([test]) for func in functors]\n",
    "# # layer_outs\n",
    "\n",
    "weights, biases = model1.layers[0].get_weights()\n",
    "biases"
   ]
  },
  {
   "cell_type": "code",
   "execution_count": 31,
   "metadata": {
    "colab": {},
    "colab_type": "code",
    "id": "_379fvlNm8ix"
   },
   "outputs": [],
   "source": [
    "first_score = model1.evaluate(X_test[0:375], y_test[0:375], verbose=0)"
   ]
  },
  {
   "cell_type": "code",
   "execution_count": 32,
   "metadata": {
    "colab": {},
    "colab_type": "code",
    "id": "thqEtkKMm8i1",
    "outputId": "1f667122-e904-436f-b546-ee26ad8d8b63"
   },
   "outputs": [
    {
     "name": "stdout",
     "output_type": "stream",
     "text": [
      "accuracy: 62.13%\n"
     ]
    }
   ],
   "source": [
    "print(\"%s: %.2f%%\" % (model1.metrics_names[1], first_score[1]*100))\n"
   ]
  },
  {
   "cell_type": "code",
   "execution_count": 33,
   "metadata": {
    "colab": {},
    "colab_type": "code",
    "id": "45J9sVFVm8i4",
    "outputId": "3c7e32fa-f6c5-486d-e079-22508f3a43c4"
   },
   "outputs": [
    {
     "data": {
      "image/png": "[encoded data removed]",
      "text/plain": [
       "<Figure size 432x288 with 1 Axes>"
      ]
     },
     "metadata": {
      "needs_background": "light"
     },
     "output_type": "display_data"
    }
   ],
   "source": [
    "plt.plot(history.history['accuracy'], label='training accuracy')\n",
    "plt.plot(history.history['val_accuracy'], label='testing accuracy')\n",
    "plt.title('Accuracy')\n",
    "plt.xlabel('epochs')\n",
    "plt.ylabel('accuracy')\n",
    "plt.legend()\n",
    "plt.savefig('model1.png')"
   ]
  },
  {
   "cell_type": "code",
   "execution_count": 34,
   "metadata": {},
   "outputs": [],
   "source": [
    "model1.save('model1.h5')"
   ]
  },
  {
   "cell_type": "code",
   "execution_count": 35,
   "metadata": {
    "colab": {},
    "colab_type": "code",
    "id": "O4dGAV8qm8i8"
   },
   "outputs": [],
   "source": [
    "# Second Client -----> Step 1"
   ]
  },
  {
   "cell_type": "code",
   "execution_count": 36,
   "metadata": {
    "colab": {},
    "colab_type": "code",
    "id": "ii0rUWAam8i-",
    "outputId": "8e9eba3e-ba1e-44aa-9b74-eac8e270db02"
   },
   "outputs": [
    {
     "name": "stdout",
     "output_type": "stream",
     "text": [
      "Train on 2155 samples, validate on 920 samples\n",
      "Epoch 1/30\n",
      "2155/2155 [==============================] - 1s 294us/sample - loss: 1.5884 - accuracy: 0.2622 - val_loss: 1.5390 - val_accuracy: 0.3283\n",
      "Epoch 2/30\n",
      "2155/2155 [==============================] - 0s 152us/sample - loss: 1.5715 - accuracy: 0.2826 - val_loss: 1.5629 - val_accuracy: 0.3239\n",
      "Epoch 3/30\n",
      "2155/2155 [==============================] - 0s 152us/sample - loss: 1.4956 - accuracy: 0.3810 - val_loss: 1.3745 - val_accuracy: 0.4261\n",
      "Epoch 4/30\n",
      "2155/2155 [==============================] - 0s 152us/sample - loss: 1.3114 - accuracy: 0.4585 - val_loss: 1.2818 - val_accuracy: 0.4554\n",
      "Epoch 5/30\n",
      "2155/2155 [==============================] - 0s 165us/sample - loss: 1.2399 - accuracy: 0.4961 - val_loss: 1.2013 - val_accuracy: 0.4902\n",
      "Epoch 6/30\n",
      "2155/2155 [==============================] - 0s 160us/sample - loss: 1.2026 - accuracy: 0.5244 - val_loss: 1.2167 - val_accuracy: 0.5109\n",
      "Epoch 7/30\n",
      "2155/2155 [==============================] - 0s 153us/sample - loss: 1.1623 - accuracy: 0.5406 - val_loss: 1.1751 - val_accuracy: 0.5109\n",
      "Epoch 8/30\n",
      "2155/2155 [==============================] - 0s 156us/sample - loss: 1.1501 - accuracy: 0.5513 - val_loss: 1.1477 - val_accuracy: 0.5315\n",
      "Epoch 9/30\n",
      "2155/2155 [==============================] - 0s 154us/sample - loss: 1.0698 - accuracy: 0.5773 - val_loss: 1.1202 - val_accuracy: 0.5304\n",
      "Epoch 10/30\n",
      "2155/2155 [==============================] - 0s 159us/sample - loss: 1.0412 - accuracy: 0.6051 - val_loss: 1.1679 - val_accuracy: 0.5130\n",
      "Epoch 11/30\n",
      "2155/2155 [==============================] - 0s 157us/sample - loss: 1.0316 - accuracy: 0.5916 - val_loss: 1.1275 - val_accuracy: 0.5348\n",
      "Epoch 12/30\n",
      "2155/2155 [==============================] - 0s 155us/sample - loss: 0.9899 - accuracy: 0.6065 - val_loss: 1.0929 - val_accuracy: 0.5467\n",
      "Epoch 13/30\n",
      "2155/2155 [==============================] - 0s 155us/sample - loss: 0.9537 - accuracy: 0.6302 - val_loss: 1.0630 - val_accuracy: 0.5761\n",
      "Epoch 14/30\n",
      "2155/2155 [==============================] - 0s 155us/sample - loss: 0.9203 - accuracy: 0.6510 - val_loss: 1.1027 - val_accuracy: 0.5500\n",
      "Epoch 15/30\n",
      "2155/2155 [==============================] - 0s 153us/sample - loss: 0.8955 - accuracy: 0.6668 - val_loss: 1.0784 - val_accuracy: 0.5652\n",
      "Epoch 16/30\n",
      "2155/2155 [==============================] - 0s 158us/sample - loss: 0.8530 - accuracy: 0.6780 - val_loss: 1.0727 - val_accuracy: 0.5707\n",
      "Epoch 17/30\n",
      "2155/2155 [==============================] - 0s 154us/sample - loss: 0.8198 - accuracy: 0.6840 - val_loss: 1.0893 - val_accuracy: 0.5652\n",
      "Epoch 18/30\n",
      "2155/2155 [==============================] - 0s 153us/sample - loss: 0.8067 - accuracy: 0.6961 - val_loss: 1.0420 - val_accuracy: 0.5717\n",
      "Epoch 19/30\n",
      "2155/2155 [==============================] - 0s 157us/sample - loss: 0.7520 - accuracy: 0.7202 - val_loss: 1.0552 - val_accuracy: 0.5826\n",
      "Epoch 20/30\n",
      "2155/2155 [==============================] - 0s 156us/sample - loss: 0.7298 - accuracy: 0.7452 - val_loss: 1.0953 - val_accuracy: 0.5728\n",
      "Epoch 21/30\n",
      "2155/2155 [==============================] - 0s 161us/sample - loss: 0.7025 - accuracy: 0.7452 - val_loss: 1.0722 - val_accuracy: 0.5717\n",
      "Epoch 22/30\n",
      "2155/2155 [==============================] - 0s 161us/sample - loss: 0.6673 - accuracy: 0.7638 - val_loss: 1.1056 - val_accuracy: 0.5750\n",
      "Epoch 23/30\n",
      "2155/2155 [==============================] - 0s 156us/sample - loss: 0.6419 - accuracy: 0.7735 - val_loss: 1.1867 - val_accuracy: 0.5630\n",
      "Epoch 24/30\n",
      "2155/2155 [==============================] - 0s 154us/sample - loss: 0.6379 - accuracy: 0.7666 - val_loss: 1.0806 - val_accuracy: 0.5913\n",
      "Epoch 25/30\n",
      "2155/2155 [==============================] - 0s 151us/sample - loss: 0.5855 - accuracy: 0.7926 - val_loss: 1.1606 - val_accuracy: 0.5957\n",
      "Epoch 26/30\n",
      "2155/2155 [==============================] - 0s 162us/sample - loss: 0.5132 - accuracy: 0.8148 - val_loss: 1.1862 - val_accuracy: 0.5630\n",
      "Epoch 27/30\n",
      "2155/2155 [==============================] - 0s 156us/sample - loss: 0.4841 - accuracy: 0.8390 - val_loss: 1.1634 - val_accuracy: 0.5576\n",
      "Epoch 28/30\n",
      "2155/2155 [==============================] - 0s 152us/sample - loss: 0.4368 - accuracy: 0.8608 - val_loss: 1.1978 - val_accuracy: 0.5793\n",
      "Epoch 29/30\n",
      "2155/2155 [==============================] - 0s 152us/sample - loss: 0.3809 - accuracy: 0.8770 - val_loss: 1.1139 - val_accuracy: 0.5957\n",
      "Epoch 30/30\n",
      "2155/2155 [==============================] - 0s 151us/sample - loss: 0.3828 - accuracy: 0.8701 - val_loss: 1.0887 - val_accuracy: 0.6022\n"
     ]
    }
   ],
   "source": [
    "epochs = 30\n",
    "batch_size = 128\n",
    "history = model2.fit(X_train[8620:10775], y_train[8620:10775], batch_size=batch_size, epochs=epochs,\n",
    "                              validation_data=(X_val[3690:4610], y_val[3690:4610]))"
   ]
  },
  {
   "cell_type": "code",
   "execution_count": 37,
   "metadata": {},
   "outputs": [
    {
     "data": {
      "image/png": "[encoded data removed]",
      "text/plain": [
       "<Figure size 432x288 with 1 Axes>"
      ]
     },
     "metadata": {
      "needs_background": "light"
     },
     "output_type": "display_data"
    },
    {
     "data": {
      "image/png": "[encoded data removed]",
      "text/plain": [
       "<Figure size 432x288 with 1 Axes>"
      ]
     },
     "metadata": {
      "needs_background": "light"
     },
     "output_type": "display_data"
    }
   ],
   "source": [
    "acc = history.history['accuracy']\n",
    "val_acc = history.history['val_accuracy']\n",
    "loss = history.history['loss']\n",
    "val_loss = history.history['val_loss']\n",
    "\n",
    "epochs = range(1, len(acc) + 1)\n",
    "\n",
    "plt.plot(epochs, acc, label='Training acc')\n",
    "plt.plot(epochs, val_acc, label='Validation acc')\n",
    "plt.title('Training and validation accuracy')\n",
    "plt.legend()\n",
    "plt.figure()\n",
    "plt.plot(epochs, loss,  label='Training loss')\n",
    "plt.plot(epochs, val_loss, label='Validation loss')\n",
    "plt.title('Training and validation loss')\n",
    "plt.legend()\n",
    "\n",
    "\n",
    "plt.show()"
   ]
  },
  {
   "cell_type": "code",
   "execution_count": 38,
   "metadata": {
    "colab": {},
    "colab_type": "code",
    "id": "7SVEyUcGm8jA"
   },
   "outputs": [],
   "source": [
    "first_score = model2.evaluate(X_test[1500:1875], y_test[1500:1875], verbose=0)"
   ]
  },
  {
   "cell_type": "code",
   "execution_count": 39,
   "metadata": {
    "colab": {},
    "colab_type": "code",
    "id": "vAf749Xem8jD",
    "outputId": "0e006782-8cff-4b8e-e9fa-ca6a0d19f025"
   },
   "outputs": [
    {
     "name": "stdout",
     "output_type": "stream",
     "text": [
      "accuracy: 64.80%\n"
     ]
    }
   ],
   "source": [
    "print(\"%s: %.2f%%\" % (model2.metrics_names[1], first_score[1]*100))"
   ]
  },
  {
   "cell_type": "code",
   "execution_count": 40,
   "metadata": {
    "colab": {},
    "colab_type": "code",
    "id": "1_hSK3CSm8jI"
   },
   "outputs": [],
   "source": [
    "model2.save('model2.h5')"
   ]
  },
  {
   "cell_type": "code",
   "execution_count": 41,
   "metadata": {
    "colab": {},
    "colab_type": "code",
    "id": "SQ7mXF5Hm8jL"
   },
   "outputs": [],
   "source": [
    "# Third Client -----> Step 1"
   ]
  },
  {
   "cell_type": "code",
   "execution_count": 42,
   "metadata": {
    "colab": {},
    "colab_type": "code",
    "id": "Px8IYZdDm8jN",
    "outputId": "b2005570-e23e-47f6-b4df-6be3452cac00"
   },
   "outputs": [
    {
     "name": "stdout",
     "output_type": "stream",
     "text": [
      "Train on 2155 samples, validate on 920 samples\n",
      "Epoch 1/30\n",
      "2155/2155 [==============================] - 1s 288us/sample - loss: 1.5989 - accuracy: 0.2302 - val_loss: 1.5748 - val_accuracy: 0.2902\n",
      "Epoch 2/30\n",
      "2155/2155 [==============================] - 0s 160us/sample - loss: 1.5365 - accuracy: 0.3619 - val_loss: 1.9969 - val_accuracy: 0.2804\n",
      "Epoch 3/30\n",
      "2155/2155 [==============================] - 0s 152us/sample - loss: 1.5966 - accuracy: 0.3058 - val_loss: 1.5418 - val_accuracy: 0.2935\n",
      "Epoch 4/30\n",
      "2155/2155 [==============================] - 0s 149us/sample - loss: 1.4642 - accuracy: 0.4102 - val_loss: 1.3699 - val_accuracy: 0.4315\n",
      "Epoch 5/30\n",
      "2155/2155 [==============================] - 0s 158us/sample - loss: 1.3132 - accuracy: 0.4543 - val_loss: 1.2902 - val_accuracy: 0.4413\n",
      "Epoch 6/30\n",
      "2155/2155 [==============================] - 0s 156us/sample - loss: 1.2358 - accuracy: 0.4947 - val_loss: 1.2784 - val_accuracy: 0.4500\n",
      "Epoch 7/30\n",
      "2155/2155 [==============================] - 0s 153us/sample - loss: 1.2074 - accuracy: 0.5077 - val_loss: 1.2822 - val_accuracy: 0.4793\n",
      "Epoch 8/30\n",
      "2155/2155 [==============================] - 0s 166us/sample - loss: 1.2026 - accuracy: 0.5183 - val_loss: 1.2792 - val_accuracy: 0.4446\n",
      "Epoch 9/30\n",
      "2155/2155 [==============================] - 0s 158us/sample - loss: 1.1208 - accuracy: 0.5457 - val_loss: 1.1578 - val_accuracy: 0.5283\n",
      "Epoch 10/30\n",
      "2155/2155 [==============================] - 0s 156us/sample - loss: 1.0975 - accuracy: 0.5531 - val_loss: 1.1546 - val_accuracy: 0.5174\n",
      "Epoch 11/30\n",
      "2155/2155 [==============================] - 0s 159us/sample - loss: 1.0422 - accuracy: 0.5805 - val_loss: 1.1725 - val_accuracy: 0.5250\n",
      "Epoch 12/30\n",
      "2155/2155 [==============================] - 0s 157us/sample - loss: 1.0274 - accuracy: 0.5824 - val_loss: 1.2717 - val_accuracy: 0.4717\n",
      "Epoch 13/30\n",
      "2155/2155 [==============================] - 0s 153us/sample - loss: 0.9983 - accuracy: 0.5940 - val_loss: 1.1511 - val_accuracy: 0.5467\n",
      "Epoch 14/30\n",
      "2155/2155 [==============================] - 0s 171us/sample - loss: 0.9568 - accuracy: 0.6125 - val_loss: 1.0867 - val_accuracy: 0.5522\n",
      "Epoch 15/30\n",
      "2155/2155 [==============================] - 0s 157us/sample - loss: 0.9439 - accuracy: 0.6213 - val_loss: 1.0841 - val_accuracy: 0.5772\n",
      "Epoch 16/30\n",
      "2155/2155 [==============================] - 0s 155us/sample - loss: 0.8978 - accuracy: 0.6510 - val_loss: 1.0903 - val_accuracy: 0.5641\n",
      "Epoch 17/30\n",
      "2155/2155 [==============================] - 0s 160us/sample - loss: 0.8481 - accuracy: 0.6780 - val_loss: 1.0866 - val_accuracy: 0.5750\n",
      "Epoch 18/30\n",
      "2155/2155 [==============================] - 0s 153us/sample - loss: 0.8124 - accuracy: 0.6835 - val_loss: 1.1447 - val_accuracy: 0.5228\n",
      "Epoch 19/30\n",
      "2155/2155 [==============================] - 0s 154us/sample - loss: 0.7723 - accuracy: 0.7058 - val_loss: 1.1583 - val_accuracy: 0.5543\n",
      "Epoch 20/30\n",
      "2155/2155 [==============================] - 0s 161us/sample - loss: 0.7460 - accuracy: 0.7174 - val_loss: 1.1036 - val_accuracy: 0.5815\n",
      "Epoch 21/30\n",
      "2155/2155 [==============================] - 0s 152us/sample - loss: 0.6950 - accuracy: 0.7545 - val_loss: 1.0691 - val_accuracy: 0.5696\n",
      "Epoch 22/30\n",
      "2155/2155 [==============================] - 0s 155us/sample - loss: 0.6702 - accuracy: 0.7610 - val_loss: 1.1360 - val_accuracy: 0.5620\n",
      "Epoch 23/30\n",
      "2155/2155 [==============================] - 0s 161us/sample - loss: 0.6284 - accuracy: 0.7694 - val_loss: 1.1331 - val_accuracy: 0.5500\n",
      "Epoch 24/30\n",
      "2155/2155 [==============================] - 0s 154us/sample - loss: 0.6015 - accuracy: 0.7773 - val_loss: 1.1227 - val_accuracy: 0.5641\n",
      "Epoch 25/30\n",
      "2155/2155 [==============================] - 0s 158us/sample - loss: 0.5272 - accuracy: 0.8329 - val_loss: 1.3619 - val_accuracy: 0.5402\n",
      "Epoch 26/30\n",
      "2155/2155 [==============================] - 0s 160us/sample - loss: 0.5083 - accuracy: 0.8334 - val_loss: 1.1744 - val_accuracy: 0.5717\n",
      "Epoch 27/30\n",
      "2155/2155 [==============================] - 0s 160us/sample - loss: 0.4789 - accuracy: 0.8427 - val_loss: 1.1105 - val_accuracy: 0.5870\n",
      "Epoch 28/30\n",
      "2155/2155 [==============================] - 0s 156us/sample - loss: 0.4335 - accuracy: 0.8631 - val_loss: 1.2011 - val_accuracy: 0.5652\n",
      "Epoch 29/30\n",
      "2155/2155 [==============================] - 0s 168us/sample - loss: 0.4057 - accuracy: 0.8654 - val_loss: 1.1255 - val_accuracy: 0.5837\n",
      "Epoch 30/30\n",
      "2155/2155 [==============================] - 0s 159us/sample - loss: 0.3714 - accuracy: 0.8933 - val_loss: 1.1143 - val_accuracy: 0.5772\n"
     ]
    }
   ],
   "source": [
    "epochs = 30\n",
    "batch_size = 128\n",
    "history = model3.fit(X_train[17240:19395], y_train[17240:19395], batch_size=batch_size, epochs=epochs,\n",
    "                              validation_data=(X_val[7380:8300], y_val[7380:8300]))"
   ]
  },
  {
   "cell_type": "code",
   "execution_count": 43,
   "metadata": {},
   "outputs": [
    {
     "data": {
      "image/png": "[encoded data removed]",
      "text/plain": [
       "<Figure size 432x288 with 1 Axes>"
      ]
     },
     "metadata": {
      "needs_background": "light"
     },
     "output_type": "display_data"
    },
    {
     "data": {
      "image/png": "[encoded data removed]",
      "text/plain": [
       "<Figure size 432x288 with 1 Axes>"
      ]
     },
     "metadata": {
      "needs_background": "light"
     },
     "output_type": "display_data"
    }
   ],
   "source": [
    "acc = history.history['accuracy']\n",
    "val_acc = history.history['val_accuracy']\n",
    "loss = history.history['loss']\n",
    "val_loss = history.history['val_loss']\n",
    "\n",
    "epochs = range(1, len(acc) + 1)\n",
    "\n",
    "plt.plot(epochs, acc, label='Training acc')\n",
    "plt.plot(epochs, val_acc, label='Validation acc')\n",
    "plt.title('Training and validation accuracy')\n",
    "plt.legend()\n",
    "plt.figure()\n",
    "plt.plot(epochs, loss,  label='Training loss')\n",
    "plt.plot(epochs, val_loss, label='Validation loss')\n",
    "plt.title('Training and validation loss')\n",
    "plt.legend()\n",
    "\n",
    "\n",
    "plt.show()"
   ]
  },
  {
   "cell_type": "code",
   "execution_count": 44,
   "metadata": {
    "colab": {},
    "colab_type": "code",
    "id": "Z-rwXTQQm8jP"
   },
   "outputs": [],
   "source": [
    "first_score = model3.evaluate(X_test[3000:3375], y_test[3000:3375], verbose=0)"
   ]
  },
  {
   "cell_type": "code",
   "execution_count": 45,
   "metadata": {
    "colab": {},
    "colab_type": "code",
    "id": "nBWufMy1m8jR",
    "outputId": "d0c100ea-abf6-4085-db4b-7b35e34a8836"
   },
   "outputs": [
    {
     "name": "stdout",
     "output_type": "stream",
     "text": [
      "accuracy: 64.53%\n"
     ]
    }
   ],
   "source": [
    "print(\"%s: %.2f%%\" % (model3.metrics_names[1], first_score[1]*100))"
   ]
  },
  {
   "cell_type": "code",
   "execution_count": 46,
   "metadata": {
    "colab": {},
    "colab_type": "code",
    "id": "zWxMcpM9m8jW"
   },
   "outputs": [],
   "source": [
    "model3.save('model3.h5')"
   ]
  },
  {
   "cell_type": "code",
   "execution_count": 47,
   "metadata": {
    "colab": {},
    "colab_type": "code",
    "id": "3yBlJ-R3m8jX"
   },
   "outputs": [],
   "source": [
    "# Fourth Client - Step 1"
   ]
  },
  {
   "cell_type": "code",
   "execution_count": 48,
   "metadata": {
    "colab": {},
    "colab_type": "code",
    "id": "edm-LQybm8ja",
    "outputId": "ecf58263-3088-4278-8fec-ce1d0be25350"
   },
   "outputs": [
    {
     "name": "stdout",
     "output_type": "stream",
     "text": [
      "Train on 2155 samples, validate on 920 samples\n",
      "Epoch 1/30\n",
      "2155/2155 [==============================] - 1s 295us/sample - loss: 1.6053 - accuracy: 0.2381 - val_loss: 1.5854 - val_accuracy: 0.2924\n",
      "Epoch 2/30\n",
      "2155/2155 [==============================] - 0s 155us/sample - loss: 1.5303 - accuracy: 0.3698 - val_loss: 1.5061 - val_accuracy: 0.2696\n",
      "Epoch 3/30\n",
      "2155/2155 [==============================] - 0s 170us/sample - loss: 1.4682 - accuracy: 0.3643 - val_loss: 1.5393 - val_accuracy: 0.3196\n",
      "Epoch 4/30\n",
      "2155/2155 [==============================] - 0s 156us/sample - loss: 1.3337 - accuracy: 0.4589 - val_loss: 1.3111 - val_accuracy: 0.4457\n",
      "Epoch 5/30\n",
      "2155/2155 [==============================] - 0s 159us/sample - loss: 1.2487 - accuracy: 0.4877 - val_loss: 1.3145 - val_accuracy: 0.4522\n",
      "Epoch 6/30\n",
      "2155/2155 [==============================] - 0s 161us/sample - loss: 1.1836 - accuracy: 0.5211 - val_loss: 1.2070 - val_accuracy: 0.4967\n",
      "Epoch 7/30\n",
      "2155/2155 [==============================] - 0s 154us/sample - loss: 1.1431 - accuracy: 0.5295 - val_loss: 1.2453 - val_accuracy: 0.4848\n",
      "Epoch 8/30\n",
      "2155/2155 [==============================] - 0s 173us/sample - loss: 1.1021 - accuracy: 0.5443 - val_loss: 1.2278 - val_accuracy: 0.4870\n",
      "Epoch 9/30\n",
      "2155/2155 [==============================] - 0s 156us/sample - loss: 1.0672 - accuracy: 0.5643 - val_loss: 1.2041 - val_accuracy: 0.4967\n",
      "Epoch 10/30\n",
      "2155/2155 [==============================] - 0s 157us/sample - loss: 1.0416 - accuracy: 0.5828 - val_loss: 1.1328 - val_accuracy: 0.5239\n",
      "Epoch 11/30\n",
      "2155/2155 [==============================] - 0s 160us/sample - loss: 1.0204 - accuracy: 0.5958 - val_loss: 1.1524 - val_accuracy: 0.5141\n",
      "Epoch 12/30\n",
      "2155/2155 [==============================] - 0s 160us/sample - loss: 0.9901 - accuracy: 0.6000 - val_loss: 1.1230 - val_accuracy: 0.5391\n",
      "Epoch 13/30\n",
      "2155/2155 [==============================] - 0s 154us/sample - loss: 0.9407 - accuracy: 0.6269 - val_loss: 1.1490 - val_accuracy: 0.5283\n",
      "Epoch 14/30\n",
      "2155/2155 [==============================] - 0s 163us/sample - loss: 0.9306 - accuracy: 0.6255 - val_loss: 1.1831 - val_accuracy: 0.5163\n",
      "Epoch 15/30\n",
      "2155/2155 [==============================] - 0s 155us/sample - loss: 0.9049 - accuracy: 0.6450 - val_loss: 1.0927 - val_accuracy: 0.5348\n",
      "Epoch 16/30\n",
      "2155/2155 [==============================] - 0s 156us/sample - loss: 0.8486 - accuracy: 0.6752 - val_loss: 1.1743 - val_accuracy: 0.5380\n",
      "Epoch 17/30\n",
      "2155/2155 [==============================] - 0s 159us/sample - loss: 0.8432 - accuracy: 0.6766 - val_loss: 1.1159 - val_accuracy: 0.5478\n",
      "Epoch 18/30\n",
      "2155/2155 [==============================] - 0s 153us/sample - loss: 0.8016 - accuracy: 0.6905 - val_loss: 1.1132 - val_accuracy: 0.5598\n",
      "Epoch 19/30\n",
      "2155/2155 [==============================] - 0s 157us/sample - loss: 0.7869 - accuracy: 0.6928 - val_loss: 1.2525 - val_accuracy: 0.5109\n",
      "Epoch 20/30\n",
      "2155/2155 [==============================] - 0s 162us/sample - loss: 0.7243 - accuracy: 0.7295 - val_loss: 1.0849 - val_accuracy: 0.5630\n",
      "Epoch 21/30\n",
      "2155/2155 [==============================] - 0s 151us/sample - loss: 0.6904 - accuracy: 0.7448 - val_loss: 1.0749 - val_accuracy: 0.5576\n",
      "Epoch 22/30\n",
      "2155/2155 [==============================] - 0s 158us/sample - loss: 0.6607 - accuracy: 0.7559 - val_loss: 1.0661 - val_accuracy: 0.5739\n",
      "Epoch 23/30\n",
      "2155/2155 [==============================] - 0s 163us/sample - loss: 0.5724 - accuracy: 0.8107 - val_loss: 1.1469 - val_accuracy: 0.5609\n",
      "Epoch 24/30\n",
      "2155/2155 [==============================] - 0s 159us/sample - loss: 0.5883 - accuracy: 0.7944 - val_loss: 1.1009 - val_accuracy: 0.5848\n",
      "Epoch 25/30\n",
      "2155/2155 [==============================] - 0s 157us/sample - loss: 0.5410 - accuracy: 0.8144 - val_loss: 1.0792 - val_accuracy: 0.5859\n",
      "Epoch 26/30\n",
      "2155/2155 [==============================] - 0s 164us/sample - loss: 0.4911 - accuracy: 0.8441 - val_loss: 1.1323 - val_accuracy: 0.6011\n",
      "Epoch 27/30\n",
      "2155/2155 [==============================] - 0s 156us/sample - loss: 0.4289 - accuracy: 0.8673 - val_loss: 1.1283 - val_accuracy: 0.5859\n",
      "Epoch 28/30\n",
      "2155/2155 [==============================] - 0s 158us/sample - loss: 0.4196 - accuracy: 0.8691 - val_loss: 1.2475 - val_accuracy: 0.5576\n",
      "Epoch 29/30\n",
      "2155/2155 [==============================] - 0s 157us/sample - loss: 0.3457 - accuracy: 0.9109 - val_loss: 1.1755 - val_accuracy: 0.5783\n",
      "Epoch 30/30\n",
      "2155/2155 [==============================] - 0s 154us/sample - loss: 0.3540 - accuracy: 0.8900 - val_loss: 1.1576 - val_accuracy: 0.5935\n"
     ]
    }
   ],
   "source": [
    "epochs = 30\n",
    "batch_size = 128\n",
    "history = model4.fit(X_train[25860:28015], y_train[25860:28015], batch_size=batch_size, epochs=epochs,\n",
    "                              validation_data=(X_val[11070:11990], y_val[11070:11990]))"
   ]
  },
  {
   "cell_type": "code",
   "execution_count": 49,
   "metadata": {},
   "outputs": [
    {
     "data": {
      "image/png": "[encoded data removed]",
      "text/plain": [
       "<Figure size 432x288 with 1 Axes>"
      ]
     },
     "metadata": {
      "needs_background": "light"
     },
     "output_type": "display_data"
    },
    {
     "data": {
      "image/png": "[encoded data removed]",
      "text/plain": [
       "<Figure size 432x288 with 1 Axes>"
      ]
     },
     "metadata": {
      "needs_background": "light"
     },
     "output_type": "display_data"
    }
   ],
   "source": [
    "acc = history.history['accuracy']\n",
    "val_acc = history.history['val_accuracy']\n",
    "loss = history.history['loss']\n",
    "val_loss = history.history['val_loss']\n",
    "\n",
    "epochs = range(1, len(acc) + 1)\n",
    "\n",
    "plt.plot(epochs, acc, label='Training acc')\n",
    "plt.plot(epochs, val_acc, label='Validation acc')\n",
    "plt.title('Training and validation accuracy')\n",
    "plt.legend()\n",
    "plt.figure()\n",
    "plt.plot(epochs, loss,  label='Training loss')\n",
    "plt.plot(epochs, val_loss, label='Validation loss')\n",
    "plt.title('Training and validation loss')\n",
    "plt.legend()\n",
    "\n",
    "\n",
    "plt.show()"
   ]
  },
  {
   "cell_type": "code",
   "execution_count": 50,
   "metadata": {
    "colab": {},
    "colab_type": "code",
    "id": "K7MIB1y3m8jd"
   },
   "outputs": [],
   "source": [
    "first_score = model4.evaluate(X_test[4500:4875], y_test[4500:4875], verbose=0)"
   ]
  },
  {
   "cell_type": "code",
   "execution_count": 51,
   "metadata": {
    "colab": {},
    "colab_type": "code",
    "id": "Er6vw_PCm8jh",
    "outputId": "d8314c7f-dfd6-480a-aed9-d7e52c02fb3e"
   },
   "outputs": [
    {
     "name": "stdout",
     "output_type": "stream",
     "text": [
      "accuracy: 65.07%\n"
     ]
    }
   ],
   "source": [
    "print(\"%s: %.2f%%\" % (model4.metrics_names[1], first_score[1]*100))"
   ]
  },
  {
   "cell_type": "code",
   "execution_count": 52,
   "metadata": {
    "colab": {},
    "colab_type": "code",
    "id": "tKMZM5C0m8jm"
   },
   "outputs": [],
   "source": [
    "model4.save('model4.h5')"
   ]
  },
  {
   "cell_type": "code",
   "execution_count": 53,
   "metadata": {
    "colab": {},
    "colab_type": "code",
    "id": "v-bd2FO0m8jo"
   },
   "outputs": [],
   "source": [
    "# First Model Aggregation"
   ]
  },
  {
   "cell_type": "code",
   "execution_count": 54,
   "metadata": {
    "colab": {},
    "colab_type": "code",
    "id": "8L0CG5k3m8jr"
   },
   "outputs": [],
   "source": [
    "M1 = tf.keras.models.load_model('model1.h5')"
   ]
  },
  {
   "cell_type": "code",
   "execution_count": 55,
   "metadata": {
    "colab": {},
    "colab_type": "code",
    "id": "u54a8w3ym8js"
   },
   "outputs": [],
   "source": [
    "M2 = tf.keras.models.load_model('model2.h5')"
   ]
  },
  {
   "cell_type": "code",
   "execution_count": 56,
   "metadata": {
    "colab": {},
    "colab_type": "code",
    "id": "zRjyrIQ5m8ju"
   },
   "outputs": [],
   "source": [
    "M3 = tf.keras.models.load_model('model3.h5')"
   ]
  },
  {
   "cell_type": "code",
   "execution_count": 57,
   "metadata": {
    "colab": {},
    "colab_type": "code",
    "id": "bFfyiOSNm8jv"
   },
   "outputs": [],
   "source": [
    "M4 = tf.keras.models.load_model('model4.h5')"
   ]
  },
  {
   "cell_type": "code",
   "execution_count": 58,
   "metadata": {
    "colab": {},
    "colab_type": "code",
    "id": "5ZFzRYrAm8jx"
   },
   "outputs": [],
   "source": [
    "models = [M1, M2, M3, M4]"
   ]
  },
  {
   "cell_type": "code",
   "execution_count": 59,
   "metadata": {
    "colab": {},
    "colab_type": "code",
    "id": "o1rjlvt6m8jz",
    "outputId": "f6aa95a5-6d38-4fe0-8cf8-975bc6e731cf"
   },
   "outputs": [
    {
     "data": {
      "text/plain": [
       "(90, 90, 1)"
      ]
     },
     "execution_count": 59,
     "metadata": {},
     "output_type": "execute_result"
    }
   ],
   "source": [
    "models[0].input_shape[1:]"
   ]
  },
  {
   "cell_type": "code",
   "execution_count": 60,
   "metadata": {
    "colab": {},
    "colab_type": "code",
    "id": "jq3RLRbfm8j3"
   },
   "outputs": [],
   "source": [
    "model_input = Input(shape=models[0].input_shape[1:]) # c*h*w\n",
    "modelEns = ensembleModels(models, model_input)"
   ]
  },
  {
   "cell_type": "code",
   "execution_count": 61,
   "metadata": {
    "colab": {},
    "colab_type": "code",
    "id": "O2fTD2HTm8j7"
   },
   "outputs": [],
   "source": [
    "# First Client Evaluation with #1 first model aggregation"
   ]
  },
  {
   "cell_type": "code",
   "execution_count": 62,
   "metadata": {
    "colab": {},
    "colab_type": "code",
    "id": "4f8nCHjTm8j9"
   },
   "outputs": [],
   "source": [
    "sgd = optimizers.SGD(lr=0.01, decay=1e-6, momentum=0.9, nesterov=True)\n",
    "modelEns.compile(\n",
    "    loss='categorical_crossentropy', \n",
    "    optimizer=sgd, \n",
    "    metrics=['accuracy']\n",
    ")"
   ]
  },
  {
   "cell_type": "code",
   "execution_count": 63,
   "metadata": {},
   "outputs": [],
   "source": [
    "modelEns.save('ModelEns#1.h5')"
   ]
  },
  {
   "cell_type": "code",
   "execution_count": 64,
   "metadata": {
    "colab": {},
    "colab_type": "code",
    "id": "5yNcqANUm8kA"
   },
   "outputs": [],
   "source": [
    "first_score = modelEns.evaluate(X_test[0:375], y_test[0:375], verbose=0)"
   ]
  },
  {
   "cell_type": "code",
   "execution_count": 65,
   "metadata": {
    "colab": {},
    "colab_type": "code",
    "id": "mwuf4QVqm8kC",
    "outputId": "202d4be2-7b66-4514-f223-47ed5e4cc8e8"
   },
   "outputs": [
    {
     "name": "stdout",
     "output_type": "stream",
     "text": [
      "accuracy: 71.73%\n"
     ]
    }
   ],
   "source": [
    "print(\"%s: %.2f%%\" % (modelEns.metrics_names[1], first_score[1]*100))"
   ]
  },
  {
   "cell_type": "code",
   "execution_count": 66,
   "metadata": {
    "colab": {},
    "colab_type": "code",
    "id": "udwqnn2am8kE"
   },
   "outputs": [],
   "source": [
    "# Second Client Evaluation with #1 first model aggregation"
   ]
  },
  {
   "cell_type": "code",
   "execution_count": 67,
   "metadata": {
    "colab": {},
    "colab_type": "code",
    "id": "JywFHVfBm8kF"
   },
   "outputs": [],
   "source": [
    "first_score = modelEns.evaluate(X_test[1500:1875], y_test[1500:1875], verbose=0)"
   ]
  },
  {
   "cell_type": "code",
   "execution_count": 68,
   "metadata": {
    "colab": {},
    "colab_type": "code",
    "id": "XeBchrWpm8kH",
    "outputId": "45599cb3-7ebc-4756-c1d3-20fad6b02664"
   },
   "outputs": [
    {
     "name": "stdout",
     "output_type": "stream",
     "text": [
      "accuracy: 72.80%\n"
     ]
    }
   ],
   "source": [
    "print(\"%s: %.2f%%\" % (modelEns.metrics_names[1], first_score[1]*100))"
   ]
  },
  {
   "cell_type": "code",
   "execution_count": 69,
   "metadata": {
    "colab": {},
    "colab_type": "code",
    "id": "dkn8EJYmm8kN"
   },
   "outputs": [],
   "source": [
    "# Third Client Evaluation with #1 first model aggregation"
   ]
  },
  {
   "cell_type": "code",
   "execution_count": 70,
   "metadata": {
    "colab": {},
    "colab_type": "code",
    "id": "GoxwAofhm8kO"
   },
   "outputs": [],
   "source": [
    "first_score = modelEns.evaluate(X_test[3000:3375], y_test[3000:3375], verbose=0)"
   ]
  },
  {
   "cell_type": "code",
   "execution_count": 71,
   "metadata": {
    "colab": {},
    "colab_type": "code",
    "id": "UATg06Jmm8kR",
    "outputId": "4157da7b-aced-4089-bdd4-e8e301ff290d"
   },
   "outputs": [
    {
     "name": "stdout",
     "output_type": "stream",
     "text": [
      "accuracy: 68.80%\n"
     ]
    }
   ],
   "source": [
    "print(\"%s: %.2f%%\" % (modelEns.metrics_names[1], first_score[1]*100))"
   ]
  },
  {
   "cell_type": "code",
   "execution_count": 72,
   "metadata": {
    "colab": {},
    "colab_type": "code",
    "id": "fSyvqB2Tm8kT"
   },
   "outputs": [],
   "source": [
    "# Fourth Client Evaluation with #1 first model aggregation"
   ]
  },
  {
   "cell_type": "code",
   "execution_count": 73,
   "metadata": {
    "colab": {},
    "colab_type": "code",
    "id": "tJc65J9tm8kW"
   },
   "outputs": [],
   "source": [
    "first_score = modelEns.evaluate(X_test[4500:4875], y_test[4500:4875], verbose=0)"
   ]
  },
  {
   "cell_type": "code",
   "execution_count": 74,
   "metadata": {
    "colab": {},
    "colab_type": "code",
    "id": "nhhI8nNzm8kX",
    "outputId": "924ee6e0-821b-4d2c-8037-db47d2afe108"
   },
   "outputs": [
    {
     "name": "stdout",
     "output_type": "stream",
     "text": [
      "accuracy: 70.93%\n"
     ]
    }
   ],
   "source": [
    "print(\"%s: %.2f%%\" % (modelEns.metrics_names[1], first_score[1]*100))"
   ]
  },
  {
   "cell_type": "code",
   "execution_count": 75,
   "metadata": {
    "colab": {},
    "colab_type": "code",
    "id": "gBOaQwt-m8kZ"
   },
   "outputs": [],
   "source": [
    "# First Client - Step 2"
   ]
  },
  {
   "cell_type": "code",
   "execution_count": 76,
   "metadata": {
    "colab": {},
    "colab_type": "code",
    "id": "Htvq1n09m8kb",
    "outputId": "a2e83f4b-a178-4c69-bd99-6a31ae162115"
   },
   "outputs": [
    {
     "name": "stdout",
     "output_type": "stream",
     "text": [
      "Train on 2155 samples, validate on 920 samples\n",
      "Epoch 1/30\n",
      "2155/2155 [==============================] - 1s 668us/sample - loss: 0.8326 - accuracy: 0.6729 - val_loss: 0.8186 - val_accuracy: 0.6717\n",
      "Epoch 2/30\n",
      "2155/2155 [==============================] - 1s 420us/sample - loss: 0.7727 - accuracy: 0.7002 - val_loss: 0.8215 - val_accuracy: 0.6783\n",
      "Epoch 3/30\n",
      "2155/2155 [==============================] - 1s 418us/sample - loss: 0.7238 - accuracy: 0.7225 - val_loss: 0.8093 - val_accuracy: 0.6793\n",
      "Epoch 4/30\n",
      "2155/2155 [==============================] - 1s 418us/sample - loss: 0.6776 - accuracy: 0.7476 - val_loss: 0.8105 - val_accuracy: 0.6870\n",
      "Epoch 5/30\n",
      "2155/2155 [==============================] - 1s 419us/sample - loss: 0.6475 - accuracy: 0.7452 - val_loss: 0.8055 - val_accuracy: 0.6870\n",
      "Epoch 6/30\n",
      "2155/2155 [==============================] - 1s 416us/sample - loss: 0.6160 - accuracy: 0.7657 - val_loss: 0.8089 - val_accuracy: 0.6870\n",
      "Epoch 7/30\n",
      "2155/2155 [==============================] - 1s 418us/sample - loss: 0.5857 - accuracy: 0.7884 - val_loss: 0.7939 - val_accuracy: 0.6935\n",
      "Epoch 8/30\n",
      "2155/2155 [==============================] - 1s 419us/sample - loss: 0.5647 - accuracy: 0.7898 - val_loss: 0.8107 - val_accuracy: 0.6859\n",
      "Epoch 9/30\n",
      "2155/2155 [==============================] - 1s 418us/sample - loss: 0.5413 - accuracy: 0.8079 - val_loss: 0.7928 - val_accuracy: 0.6957\n",
      "Epoch 10/30\n",
      "2155/2155 [==============================] - 1s 424us/sample - loss: 0.5193 - accuracy: 0.8204 - val_loss: 0.8059 - val_accuracy: 0.6880\n",
      "Epoch 11/30\n",
      "2155/2155 [==============================] - 1s 424us/sample - loss: 0.5004 - accuracy: 0.8260 - val_loss: 0.7980 - val_accuracy: 0.6891\n",
      "Epoch 12/30\n",
      "2155/2155 [==============================] - 1s 421us/sample - loss: 0.4818 - accuracy: 0.8408 - val_loss: 0.8101 - val_accuracy: 0.6739\n",
      "Epoch 13/30\n",
      "2155/2155 [==============================] - 1s 417us/sample - loss: 0.4664 - accuracy: 0.8441 - val_loss: 0.8008 - val_accuracy: 0.6837\n",
      "Epoch 14/30\n",
      "2155/2155 [==============================] - 1s 419us/sample - loss: 0.4485 - accuracy: 0.8510 - val_loss: 0.7980 - val_accuracy: 0.6935\n",
      "Epoch 15/30\n",
      "2155/2155 [==============================] - 1s 414us/sample - loss: 0.4375 - accuracy: 0.8548 - val_loss: 0.8062 - val_accuracy: 0.6761\n",
      "Epoch 16/30\n",
      "2155/2155 [==============================] - 1s 418us/sample - loss: 0.4194 - accuracy: 0.8696 - val_loss: 0.8065 - val_accuracy: 0.6891\n",
      "Epoch 17/30\n",
      "2155/2155 [==============================] - 1s 420us/sample - loss: 0.4080 - accuracy: 0.8747 - val_loss: 0.8065 - val_accuracy: 0.6880\n",
      "Epoch 18/30\n",
      "2155/2155 [==============================] - 1s 421us/sample - loss: 0.3948 - accuracy: 0.8761 - val_loss: 0.8101 - val_accuracy: 0.6783\n",
      "Epoch 19/30\n",
      "2155/2155 [==============================] - 1s 419us/sample - loss: 0.3856 - accuracy: 0.8849 - val_loss: 0.8046 - val_accuracy: 0.6935\n",
      "Epoch 20/30\n",
      "2155/2155 [==============================] - 1s 419us/sample - loss: 0.3748 - accuracy: 0.8919 - val_loss: 0.8156 - val_accuracy: 0.6870\n",
      "Epoch 21/30\n",
      "2155/2155 [==============================] - 1s 419us/sample - loss: 0.3651 - accuracy: 0.8905 - val_loss: 0.8083 - val_accuracy: 0.6957\n",
      "Epoch 22/30\n",
      "2155/2155 [==============================] - 1s 416us/sample - loss: 0.3532 - accuracy: 0.8923 - val_loss: 0.8227 - val_accuracy: 0.6772\n",
      "Epoch 23/30\n",
      "2155/2155 [==============================] - 1s 424us/sample - loss: 0.3447 - accuracy: 0.9012 - val_loss: 0.8131 - val_accuracy: 0.6891\n",
      "Epoch 24/30\n",
      "2155/2155 [==============================] - 1s 418us/sample - loss: 0.3357 - accuracy: 0.9090 - val_loss: 0.8423 - val_accuracy: 0.6728\n",
      "Epoch 25/30\n",
      "2155/2155 [==============================] - 1s 419us/sample - loss: 0.3268 - accuracy: 0.9049 - val_loss: 0.8220 - val_accuracy: 0.6848\n",
      "Epoch 26/30\n",
      "2155/2155 [==============================] - 1s 418us/sample - loss: 0.3192 - accuracy: 0.9128 - val_loss: 0.8188 - val_accuracy: 0.6924\n",
      "Epoch 27/30\n",
      "2155/2155 [==============================] - 1s 418us/sample - loss: 0.3100 - accuracy: 0.9137 - val_loss: 0.8544 - val_accuracy: 0.6641\n",
      "Epoch 28/30\n",
      "2155/2155 [==============================] - 1s 418us/sample - loss: 0.3055 - accuracy: 0.9137 - val_loss: 0.8172 - val_accuracy: 0.6891\n",
      "Epoch 29/30\n",
      "2155/2155 [==============================] - 1s 419us/sample - loss: 0.2953 - accuracy: 0.9216 - val_loss: 0.8468 - val_accuracy: 0.6826\n",
      "Epoch 30/30\n",
      "2155/2155 [==============================] - 1s 419us/sample - loss: 0.2898 - accuracy: 0.9188 - val_loss: 0.8260 - val_accuracy: 0.6880\n"
     ]
    }
   ],
   "source": [
    "epochs = 30\n",
    "batch_size = 128\n",
    "history = modelEns.fit(X_train[2155:4310], y_train[2155:4310], batch_size=batch_size, epochs=epochs,\n",
    "                              validation_data=(X_val[920:1840], y_val[920:1840]))"
   ]
  },
  {
   "cell_type": "code",
   "execution_count": 77,
   "metadata": {
    "colab": {},
    "colab_type": "code",
    "id": "dYt7Z5RQm8kg"
   },
   "outputs": [],
   "source": [
    "first_score = modelEns.evaluate(X_test[375:750], y_test[375:750], verbose=0)"
   ]
  },
  {
   "cell_type": "code",
   "execution_count": 78,
   "metadata": {
    "colab": {},
    "colab_type": "code",
    "id": "7llo1ByRm8kh",
    "outputId": "e32d02fa-ced6-48ad-e3eb-0e5068281d2c"
   },
   "outputs": [
    {
     "name": "stdout",
     "output_type": "stream",
     "text": [
      "accuracy: 69.60%\n"
     ]
    }
   ],
   "source": [
    "print(\"%s: %.2f%%\" % (modelEns.metrics_names[1], first_score[1]*100))"
   ]
  },
  {
   "cell_type": "code",
   "execution_count": 79,
   "metadata": {},
   "outputs": [
    {
     "data": {
      "image/png": "[encoded data removed]",
      "text/plain": [
       "<Figure size 432x288 with 1 Axes>"
      ]
     },
     "metadata": {
      "needs_background": "light"
     },
     "output_type": "display_data"
    },
    {
     "data": {
      "image/png": "[encoded data removed]",
      "text/plain": [
       "<Figure size 432x288 with 1 Axes>"
      ]
     },
     "metadata": {
      "needs_background": "light"
     },
     "output_type": "display_data"
    }
   ],
   "source": [
    "acc = history.history['accuracy']\n",
    "val_acc = history.history['val_accuracy']\n",
    "loss = history.history['loss']\n",
    "val_loss = history.history['val_loss']\n",
    "\n",
    "epochs = range(1, len(acc) + 1)\n",
    "\n",
    "plt.plot(epochs, acc, label='Training acc')\n",
    "plt.plot(epochs, val_acc, label='Validation acc')\n",
    "plt.title('Training and validation accuracy')\n",
    "plt.legend()\n",
    "plt.figure()\n",
    "plt.plot(epochs, loss,  label='Training loss')\n",
    "plt.plot(epochs, val_loss, label='Validation loss')\n",
    "plt.title('Training and validation loss')\n",
    "plt.legend()\n",
    "\n",
    "\n",
    "plt.show()"
   ]
  },
  {
   "cell_type": "code",
   "execution_count": 80,
   "metadata": {
    "colab": {},
    "colab_type": "code",
    "id": "GqCeUHcNm8kj"
   },
   "outputs": [],
   "source": [
    "\n",
    "modelEns.save('model11.h5')"
   ]
  },
  {
   "cell_type": "code",
   "execution_count": 81,
   "metadata": {
    "colab": {},
    "colab_type": "code",
    "id": "GgJfedjWm8kk"
   },
   "outputs": [],
   "source": [
    "# Second Client - Step 2"
   ]
  },
  {
   "cell_type": "code",
   "execution_count": 82,
   "metadata": {
    "colab": {},
    "colab_type": "code",
    "id": "pYBCzSNFm8km",
    "outputId": "b5932ee8-b697-4fab-f74a-349ed5420ac2"
   },
   "outputs": [
    {
     "name": "stdout",
     "output_type": "stream",
     "text": [
      "Train on 2155 samples, validate on 920 samples\n",
      "Epoch 1/30\n",
      "2155/2155 [==============================] - 1s 435us/sample - loss: 0.9328 - accuracy: 0.6381 - val_loss: 0.8667 - val_accuracy: 0.6739\n",
      "Epoch 2/30\n",
      "2155/2155 [==============================] - 1s 417us/sample - loss: 0.8082 - accuracy: 0.6845 - val_loss: 0.8043 - val_accuracy: 0.6848\n",
      "Epoch 3/30\n",
      "2155/2155 [==============================] - 1s 420us/sample - loss: 0.6923 - accuracy: 0.7165 - val_loss: 0.7820 - val_accuracy: 0.7011\n",
      "Epoch 4/30\n",
      "2155/2155 [==============================] - 1s 420us/sample - loss: 0.6327 - accuracy: 0.7397 - val_loss: 0.7647 - val_accuracy: 0.6989\n",
      "Epoch 5/30\n",
      "2155/2155 [==============================] - 1s 420us/sample - loss: 0.5852 - accuracy: 0.7638 - val_loss: 0.7648 - val_accuracy: 0.7054\n",
      "Epoch 6/30\n",
      "2155/2155 [==============================] - 1s 419us/sample - loss: 0.5512 - accuracy: 0.7773 - val_loss: 0.7667 - val_accuracy: 0.6902\n",
      "Epoch 7/30\n",
      "2155/2155 [==============================] - 1s 416us/sample - loss: 0.5262 - accuracy: 0.7889 - val_loss: 0.7628 - val_accuracy: 0.7054\n",
      "Epoch 8/30\n",
      "2155/2155 [==============================] - 1s 421us/sample - loss: 0.4966 - accuracy: 0.8084 - val_loss: 0.7741 - val_accuracy: 0.7087\n",
      "Epoch 9/30\n",
      "2155/2155 [==============================] - 1s 422us/sample - loss: 0.4751 - accuracy: 0.8125 - val_loss: 0.7506 - val_accuracy: 0.7141\n",
      "Epoch 10/30\n",
      "2155/2155 [==============================] - 1s 416us/sample - loss: 0.4517 - accuracy: 0.8297 - val_loss: 0.7732 - val_accuracy: 0.6880\n",
      "Epoch 11/30\n",
      "2155/2155 [==============================] - 1s 419us/sample - loss: 0.4346 - accuracy: 0.8394 - val_loss: 0.7626 - val_accuracy: 0.7000\n",
      "Epoch 12/30\n",
      "2155/2155 [==============================] - 1s 419us/sample - loss: 0.4184 - accuracy: 0.8510 - val_loss: 0.7624 - val_accuracy: 0.7120\n",
      "Epoch 13/30\n",
      "2155/2155 [==============================] - 1s 419us/sample - loss: 0.3988 - accuracy: 0.8613 - val_loss: 0.7643 - val_accuracy: 0.7109\n",
      "Epoch 14/30\n",
      "2155/2155 [==============================] - 1s 419us/sample - loss: 0.3836 - accuracy: 0.8729 - val_loss: 0.7659 - val_accuracy: 0.7065\n",
      "Epoch 15/30\n",
      "2155/2155 [==============================] - 1s 419us/sample - loss: 0.3729 - accuracy: 0.8738 - val_loss: 0.7783 - val_accuracy: 0.7043\n",
      "Epoch 16/30\n",
      "2155/2155 [==============================] - 1s 419us/sample - loss: 0.3590 - accuracy: 0.8835 - val_loss: 0.7764 - val_accuracy: 0.7152\n",
      "Epoch 17/30\n",
      "2155/2155 [==============================] - 1s 420us/sample - loss: 0.3511 - accuracy: 0.8845 - val_loss: 0.7695 - val_accuracy: 0.7141\n",
      "Epoch 18/30\n",
      "2155/2155 [==============================] - 1s 416us/sample - loss: 0.3393 - accuracy: 0.8923 - val_loss: 0.7742 - val_accuracy: 0.7065\n",
      "Epoch 19/30\n",
      "2155/2155 [==============================] - 1s 419us/sample - loss: 0.3280 - accuracy: 0.8965 - val_loss: 0.7803 - val_accuracy: 0.7120\n",
      "Epoch 20/30\n",
      "2155/2155 [==============================] - 1s 418us/sample - loss: 0.3180 - accuracy: 0.9012 - val_loss: 0.7869 - val_accuracy: 0.7098\n",
      "Epoch 21/30\n",
      "2155/2155 [==============================] - 1s 420us/sample - loss: 0.3097 - accuracy: 0.9026 - val_loss: 0.7936 - val_accuracy: 0.7043\n",
      "Epoch 22/30\n",
      "2155/2155 [==============================] - 1s 419us/sample - loss: 0.3013 - accuracy: 0.9053 - val_loss: 0.7993 - val_accuracy: 0.6978\n",
      "Epoch 23/30\n",
      "2155/2155 [==============================] - 1s 418us/sample - loss: 0.2963 - accuracy: 0.9100 - val_loss: 0.7774 - val_accuracy: 0.7141\n",
      "Epoch 24/30\n",
      "2155/2155 [==============================] - 1s 421us/sample - loss: 0.2867 - accuracy: 0.9109 - val_loss: 0.8007 - val_accuracy: 0.6957\n",
      "Epoch 25/30\n",
      "2155/2155 [==============================] - 1s 417us/sample - loss: 0.2797 - accuracy: 0.9114 - val_loss: 0.8099 - val_accuracy: 0.7076\n",
      "Epoch 26/30\n",
      "2155/2155 [==============================] - 1s 419us/sample - loss: 0.2732 - accuracy: 0.9155 - val_loss: 0.8069 - val_accuracy: 0.6913\n",
      "Epoch 27/30\n",
      "2155/2155 [==============================] - 1s 420us/sample - loss: 0.2681 - accuracy: 0.9146 - val_loss: 0.8027 - val_accuracy: 0.6967\n",
      "Epoch 28/30\n",
      "2155/2155 [==============================] - 1s 417us/sample - loss: 0.2621 - accuracy: 0.9169 - val_loss: 0.7971 - val_accuracy: 0.7141\n",
      "Epoch 29/30\n",
      "2155/2155 [==============================] - 1s 419us/sample - loss: 0.2567 - accuracy: 0.9206 - val_loss: 0.8054 - val_accuracy: 0.7076\n",
      "Epoch 30/30\n",
      "2155/2155 [==============================] - 1s 417us/sample - loss: 0.2502 - accuracy: 0.9230 - val_loss: 0.8133 - val_accuracy: 0.6989\n"
     ]
    }
   ],
   "source": [
    "epochs = 30\n",
    "batch_size = 128\n",
    "history = modelEns.fit(X_train[10775:12930], y_train[10775:12930], batch_size=batch_size, epochs=epochs,\n",
    "                              validation_data=(X_val[4610:5530], y_val[4610:5530]))"
   ]
  },
  {
   "cell_type": "code",
   "execution_count": 83,
   "metadata": {
    "colab": {},
    "colab_type": "code",
    "id": "rbXEYTF7m8kn"
   },
   "outputs": [],
   "source": [
    "first_score = modelEns.evaluate(X_test[1875:2250], y_test[1875:2250], verbose=0)"
   ]
  },
  {
   "cell_type": "code",
   "execution_count": 84,
   "metadata": {
    "colab": {},
    "colab_type": "code",
    "id": "mvEZ7J2km8ko",
    "outputId": "ec604dfe-908f-47d7-8457-f4bbf24ba592"
   },
   "outputs": [
    {
     "name": "stdout",
     "output_type": "stream",
     "text": [
      "accuracy: 73.87%\n"
     ]
    }
   ],
   "source": [
    "print(\"%s: %.2f%%\" % (modelEns.metrics_names[1], first_score[1]*100))"
   ]
  },
  {
   "cell_type": "code",
   "execution_count": 85,
   "metadata": {},
   "outputs": [
    {
     "data": {
      "image/png": "[encoded data removed]",
      "text/plain": [
       "<Figure size 432x288 with 1 Axes>"
      ]
     },
     "metadata": {
      "needs_background": "light"
     },
     "output_type": "display_data"
    },
    {
     "data": {
      "image/png": "[encoded data removed]",
      "text/plain": [
       "<Figure size 432x288 with 1 Axes>"
      ]
     },
     "metadata": {
      "needs_background": "light"
     },
     "output_type": "display_data"
    }
   ],
   "source": [
    "acc = history.history['accuracy']\n",
    "val_acc = history.history['val_accuracy']\n",
    "loss = history.history['loss']\n",
    "val_loss = history.history['val_loss']\n",
    "\n",
    "epochs = range(1, len(acc) + 1)\n",
    "\n",
    "plt.plot(epochs, acc, label='Training acc')\n",
    "plt.plot(epochs, val_acc, label='Validation acc')\n",
    "plt.title('Training and validation accuracy')\n",
    "plt.legend()\n",
    "plt.figure()\n",
    "plt.plot(epochs, loss,  label='Training loss')\n",
    "plt.plot(epochs, val_loss, label='Validation loss')\n",
    "plt.title('Training and validation loss')\n",
    "plt.legend()\n",
    "\n",
    "\n",
    "plt.show()"
   ]
  },
  {
   "cell_type": "code",
   "execution_count": 86,
   "metadata": {
    "colab": {},
    "colab_type": "code",
    "id": "LHFjyaHJm8kq"
   },
   "outputs": [],
   "source": [
    "modelEns.save('model22.h5')"
   ]
  },
  {
   "cell_type": "code",
   "execution_count": 87,
   "metadata": {
    "colab": {},
    "colab_type": "code",
    "id": "jG9EDSePm8ks"
   },
   "outputs": [],
   "source": [
    "# Third Client - Step 2"
   ]
  },
  {
   "cell_type": "code",
   "execution_count": 88,
   "metadata": {
    "colab": {},
    "colab_type": "code",
    "id": "mh5-V_iym8kt",
    "outputId": "21530de1-60f6-4a09-eb23-f4f5c119049f"
   },
   "outputs": [
    {
     "name": "stdout",
     "output_type": "stream",
     "text": [
      "Train on 2155 samples, validate on 920 samples\n",
      "Epoch 1/30\n",
      "2155/2155 [==============================] - 1s 420us/sample - loss: 0.9512 - accuracy: 0.6571 - val_loss: 0.8451 - val_accuracy: 0.7043\n",
      "Epoch 2/30\n",
      "2155/2155 [==============================] - 1s 418us/sample - loss: 0.7827 - accuracy: 0.6956 - val_loss: 0.7587 - val_accuracy: 0.7033\n",
      "Epoch 3/30\n",
      "2155/2155 [==============================] - 1s 417us/sample - loss: 0.6709 - accuracy: 0.7364 - val_loss: 0.7248 - val_accuracy: 0.7130\n",
      "Epoch 4/30\n",
      "2155/2155 [==============================] - 1s 416us/sample - loss: 0.6026 - accuracy: 0.7573 - val_loss: 0.7210 - val_accuracy: 0.7217\n",
      "Epoch 5/30\n",
      "2155/2155 [==============================] - 1s 414us/sample - loss: 0.5540 - accuracy: 0.7745 - val_loss: 0.7127 - val_accuracy: 0.7228\n",
      "Epoch 6/30\n",
      "2155/2155 [==============================] - 1s 418us/sample - loss: 0.5180 - accuracy: 0.7940 - val_loss: 0.7168 - val_accuracy: 0.7174\n",
      "Epoch 7/30\n",
      "2155/2155 [==============================] - 1s 417us/sample - loss: 0.4875 - accuracy: 0.8032 - val_loss: 0.6937 - val_accuracy: 0.7315\n",
      "Epoch 8/30\n",
      "2155/2155 [==============================] - 1s 417us/sample - loss: 0.4581 - accuracy: 0.8181 - val_loss: 0.7092 - val_accuracy: 0.7304\n",
      "Epoch 9/30\n",
      "2155/2155 [==============================] - 1s 419us/sample - loss: 0.4398 - accuracy: 0.8306 - val_loss: 0.7038 - val_accuracy: 0.7283\n",
      "Epoch 10/30\n",
      "2155/2155 [==============================] - 1s 416us/sample - loss: 0.4188 - accuracy: 0.8334 - val_loss: 0.6894 - val_accuracy: 0.7424\n",
      "Epoch 11/30\n",
      "2155/2155 [==============================] - 1s 418us/sample - loss: 0.3990 - accuracy: 0.8548 - val_loss: 0.6849 - val_accuracy: 0.7391\n",
      "Epoch 12/30\n",
      "2155/2155 [==============================] - 1s 418us/sample - loss: 0.3830 - accuracy: 0.8599 - val_loss: 0.6869 - val_accuracy: 0.7413\n",
      "Epoch 13/30\n",
      "2155/2155 [==============================] - 1s 419us/sample - loss: 0.3691 - accuracy: 0.8626 - val_loss: 0.7165 - val_accuracy: 0.7283\n",
      "Epoch 14/30\n",
      "2155/2155 [==============================] - 1s 415us/sample - loss: 0.3573 - accuracy: 0.8752 - val_loss: 0.6828 - val_accuracy: 0.7326\n",
      "Epoch 15/30\n",
      "2155/2155 [==============================] - 1s 416us/sample - loss: 0.3429 - accuracy: 0.8803 - val_loss: 0.6971 - val_accuracy: 0.7402\n",
      "Epoch 16/30\n",
      "2155/2155 [==============================] - 1s 422us/sample - loss: 0.3381 - accuracy: 0.8812 - val_loss: 0.6968 - val_accuracy: 0.7348\n",
      "Epoch 17/30\n",
      "2155/2155 [==============================] - 1s 420us/sample - loss: 0.3257 - accuracy: 0.8863 - val_loss: 0.6878 - val_accuracy: 0.7370\n",
      "Epoch 18/30\n",
      "2155/2155 [==============================] - 1s 428us/sample - loss: 0.3162 - accuracy: 0.8923 - val_loss: 0.7001 - val_accuracy: 0.7391\n",
      "Epoch 19/30\n",
      "2155/2155 [==============================] - 1s 430us/sample - loss: 0.3067 - accuracy: 0.8947 - val_loss: 0.6900 - val_accuracy: 0.7424\n",
      "Epoch 20/30\n",
      "2155/2155 [==============================] - 1s 415us/sample - loss: 0.2981 - accuracy: 0.8961 - val_loss: 0.6985 - val_accuracy: 0.7348\n",
      "Epoch 21/30\n",
      "2155/2155 [==============================] - 1s 419us/sample - loss: 0.2924 - accuracy: 0.8988 - val_loss: 0.7113 - val_accuracy: 0.7467\n",
      "Epoch 22/30\n",
      "2155/2155 [==============================] - 1s 416us/sample - loss: 0.2830 - accuracy: 0.9030 - val_loss: 0.7133 - val_accuracy: 0.7304\n",
      "Epoch 23/30\n",
      "2155/2155 [==============================] - 1s 419us/sample - loss: 0.2782 - accuracy: 0.9053 - val_loss: 0.7007 - val_accuracy: 0.7370\n",
      "Epoch 24/30\n",
      "2155/2155 [==============================] - 1s 412us/sample - loss: 0.2713 - accuracy: 0.9077 - val_loss: 0.7125 - val_accuracy: 0.7391\n",
      "Epoch 25/30\n",
      "2155/2155 [==============================] - 1s 414us/sample - loss: 0.2647 - accuracy: 0.9128 - val_loss: 0.7211 - val_accuracy: 0.7370\n",
      "Epoch 26/30\n",
      "2155/2155 [==============================] - 1s 411us/sample - loss: 0.2594 - accuracy: 0.9114 - val_loss: 0.7156 - val_accuracy: 0.7337\n",
      "Epoch 27/30\n",
      "2155/2155 [==============================] - 1s 411us/sample - loss: 0.2530 - accuracy: 0.9146 - val_loss: 0.7407 - val_accuracy: 0.7250\n",
      "Epoch 28/30\n",
      "2155/2155 [==============================] - 1s 411us/sample - loss: 0.2494 - accuracy: 0.9155 - val_loss: 0.7151 - val_accuracy: 0.7380\n",
      "Epoch 29/30\n",
      "2155/2155 [==============================] - 1s 408us/sample - loss: 0.2434 - accuracy: 0.9183 - val_loss: 0.7112 - val_accuracy: 0.7413\n",
      "Epoch 30/30\n",
      "2155/2155 [==============================] - 1s 408us/sample - loss: 0.2405 - accuracy: 0.9202 - val_loss: 0.7175 - val_accuracy: 0.7413\n"
     ]
    }
   ],
   "source": [
    "epochs = 30\n",
    "batch_size = 128\n",
    "history = modelEns.fit(X_train[19395:21550], y_train[19395:21550], batch_size=batch_size, epochs=epochs,\n",
    "                              validation_data=(X_val[8300:9220], y_val[8300:9220]))"
   ]
  },
  {
   "cell_type": "code",
   "execution_count": 89,
   "metadata": {
    "colab": {},
    "colab_type": "code",
    "id": "09HMBc4zm8ku"
   },
   "outputs": [],
   "source": [
    "first_score = modelEns.evaluate(X_test[3375:3750], y_test[3375:3750],verbose=0)"
   ]
  },
  {
   "cell_type": "code",
   "execution_count": 90,
   "metadata": {
    "colab": {},
    "colab_type": "code",
    "id": "jNCk9uSUm8ky",
    "outputId": "dea76ea9-0d3d-4538-fc0d-5d692d2404f3"
   },
   "outputs": [
    {
     "name": "stdout",
     "output_type": "stream",
     "text": [
      "accuracy: 76.27%\n"
     ]
    }
   ],
   "source": [
    "print(\"%s: %.2f%%\" % (modelEns.metrics_names[1], first_score[1]*100))"
   ]
  },
  {
   "cell_type": "code",
   "execution_count": 91,
   "metadata": {},
   "outputs": [
    {
     "data": {
      "image/png": "[encoded data removed]",
      "text/plain": [
       "<Figure size 432x288 with 1 Axes>"
      ]
     },
     "metadata": {
      "needs_background": "light"
     },
     "output_type": "display_data"
    },
    {
     "data": {
      "image/png": "[encoded data removed]",
      "text/plain": [
       "<Figure size 432x288 with 1 Axes>"
      ]
     },
     "metadata": {
      "needs_background": "light"
     },
     "output_type": "display_data"
    }
   ],
   "source": [
    "acc = history.history['accuracy']\n",
    "val_acc = history.history['val_accuracy']\n",
    "loss = history.history['loss']\n",
    "val_loss = history.history['val_loss']\n",
    "\n",
    "epochs = range(1, len(acc) + 1)\n",
    "\n",
    "plt.plot(epochs, acc, label='Training acc')\n",
    "plt.plot(epochs, val_acc, label='Validation acc')\n",
    "plt.title('Training and validation accuracy')\n",
    "plt.legend()\n",
    "plt.figure()\n",
    "plt.plot(epochs, loss,  label='Training loss')\n",
    "plt.plot(epochs, val_loss, label='Validation loss')\n",
    "plt.title('Training and validation loss')\n",
    "plt.legend()\n",
    "\n",
    "\n",
    "plt.show()"
   ]
  },
  {
   "cell_type": "code",
   "execution_count": 92,
   "metadata": {
    "colab": {},
    "colab_type": "code",
    "id": "czp_8Vdpm8k1"
   },
   "outputs": [],
   "source": [
    "modelEns.save('model33.h5')"
   ]
  },
  {
   "cell_type": "code",
   "execution_count": 93,
   "metadata": {
    "colab": {},
    "colab_type": "code",
    "id": "LQiShKgAm8k2"
   },
   "outputs": [],
   "source": [
    "# Fourth Client - Step 2"
   ]
  },
  {
   "cell_type": "code",
   "execution_count": 94,
   "metadata": {
    "colab": {},
    "colab_type": "code",
    "id": "gfaQXDZ4m8k3",
    "outputId": "69810666-be24-4f90-97c4-3bf4ae40e782"
   },
   "outputs": [
    {
     "name": "stdout",
     "output_type": "stream",
     "text": [
      "Train on 2155 samples, validate on 920 samples\n",
      "Epoch 1/30\n",
      "2155/2155 [==============================] - 1s 418us/sample - loss: 0.7870 - accuracy: 0.6998 - val_loss: 0.9118 - val_accuracy: 0.6533\n",
      "Epoch 2/30\n",
      "2155/2155 [==============================] - 1s 423us/sample - loss: 0.6802 - accuracy: 0.7299 - val_loss: 0.7795 - val_accuracy: 0.7076\n",
      "Epoch 3/30\n",
      "2155/2155 [==============================] - 1s 432us/sample - loss: 0.5571 - accuracy: 0.7717 - val_loss: 0.7452 - val_accuracy: 0.7250\n",
      "Epoch 4/30\n",
      "2155/2155 [==============================] - 1s 420us/sample - loss: 0.4881 - accuracy: 0.8009 - val_loss: 0.7654 - val_accuracy: 0.7217\n",
      "Epoch 5/30\n",
      "2155/2155 [==============================] - 1s 417us/sample - loss: 0.4459 - accuracy: 0.8181 - val_loss: 0.7514 - val_accuracy: 0.7348\n",
      "Epoch 6/30\n",
      "2155/2155 [==============================] - 1s 425us/sample - loss: 0.4091 - accuracy: 0.8339 - val_loss: 0.7256 - val_accuracy: 0.7315\n",
      "Epoch 7/30\n",
      "2155/2155 [==============================] - 1s 419us/sample - loss: 0.3862 - accuracy: 0.8413 - val_loss: 0.7331 - val_accuracy: 0.7315\n",
      "Epoch 8/30\n",
      "2155/2155 [==============================] - 1s 418us/sample - loss: 0.3658 - accuracy: 0.8538 - val_loss: 0.7271 - val_accuracy: 0.7402\n",
      "Epoch 9/30\n",
      "2155/2155 [==============================] - 1s 413us/sample - loss: 0.3482 - accuracy: 0.8705 - val_loss: 0.7352 - val_accuracy: 0.7413\n",
      "Epoch 10/30\n",
      "2155/2155 [==============================] - 1s 415us/sample - loss: 0.3292 - accuracy: 0.8803 - val_loss: 0.7373 - val_accuracy: 0.7446\n",
      "Epoch 11/30\n",
      "2155/2155 [==============================] - 1s 419us/sample - loss: 0.3174 - accuracy: 0.8858 - val_loss: 0.7342 - val_accuracy: 0.7435\n",
      "Epoch 12/30\n",
      "2155/2155 [==============================] - 1s 415us/sample - loss: 0.3028 - accuracy: 0.8988 - val_loss: 0.7552 - val_accuracy: 0.7500\n",
      "Epoch 13/30\n",
      "2155/2155 [==============================] - 1s 415us/sample - loss: 0.2917 - accuracy: 0.8942 - val_loss: 0.7597 - val_accuracy: 0.7413\n",
      "Epoch 14/30\n",
      "2155/2155 [==============================] - 1s 415us/sample - loss: 0.2820 - accuracy: 0.9035 - val_loss: 0.7470 - val_accuracy: 0.7522\n",
      "Epoch 15/30\n",
      "2155/2155 [==============================] - 1s 422us/sample - loss: 0.2726 - accuracy: 0.9095 - val_loss: 0.7523 - val_accuracy: 0.7467\n",
      "Epoch 16/30\n",
      "2155/2155 [==============================] - 1s 420us/sample - loss: 0.2626 - accuracy: 0.9188 - val_loss: 0.7481 - val_accuracy: 0.7424\n",
      "Epoch 17/30\n",
      "2155/2155 [==============================] - 1s 416us/sample - loss: 0.2561 - accuracy: 0.9146 - val_loss: 0.7624 - val_accuracy: 0.7424\n",
      "Epoch 18/30\n",
      "2155/2155 [==============================] - 1s 420us/sample - loss: 0.2493 - accuracy: 0.9225 - val_loss: 0.7776 - val_accuracy: 0.7489\n",
      "Epoch 19/30\n",
      "2155/2155 [==============================] - 1s 420us/sample - loss: 0.2437 - accuracy: 0.9211 - val_loss: 0.7627 - val_accuracy: 0.7380\n",
      "Epoch 20/30\n",
      "2155/2155 [==============================] - 1s 418us/sample - loss: 0.2377 - accuracy: 0.9244 - val_loss: 0.7683 - val_accuracy: 0.7478\n",
      "Epoch 21/30\n",
      "2155/2155 [==============================] - 1s 419us/sample - loss: 0.2315 - accuracy: 0.9267 - val_loss: 0.7714 - val_accuracy: 0.7380\n",
      "Epoch 22/30\n",
      "2155/2155 [==============================] - 1s 418us/sample - loss: 0.2253 - accuracy: 0.9304 - val_loss: 0.7703 - val_accuracy: 0.7370\n",
      "Epoch 23/30\n",
      "2155/2155 [==============================] - 1s 416us/sample - loss: 0.2206 - accuracy: 0.9332 - val_loss: 0.7792 - val_accuracy: 0.7304\n",
      "Epoch 24/30\n",
      "2155/2155 [==============================] - 1s 417us/sample - loss: 0.2160 - accuracy: 0.9313 - val_loss: 0.7731 - val_accuracy: 0.7304\n",
      "Epoch 25/30\n",
      "2155/2155 [==============================] - 1s 441us/sample - loss: 0.2120 - accuracy: 0.9346 - val_loss: 0.7859 - val_accuracy: 0.7370\n",
      "Epoch 26/30\n",
      "2155/2155 [==============================] - 1s 467us/sample - loss: 0.2076 - accuracy: 0.9327 - val_loss: 0.7810 - val_accuracy: 0.7337\n",
      "Epoch 27/30\n",
      "2155/2155 [==============================] - 1s 432us/sample - loss: 0.2038 - accuracy: 0.9401 - val_loss: 0.7877 - val_accuracy: 0.7337\n",
      "Epoch 28/30\n",
      "2155/2155 [==============================] - 1s 428us/sample - loss: 0.2006 - accuracy: 0.9369 - val_loss: 0.7963 - val_accuracy: 0.7359\n",
      "Epoch 29/30\n",
      "2155/2155 [==============================] - 1s 419us/sample - loss: 0.1966 - accuracy: 0.9378 - val_loss: 0.7938 - val_accuracy: 0.7348\n",
      "Epoch 30/30\n",
      "2155/2155 [==============================] - 1s 418us/sample - loss: 0.1927 - accuracy: 0.9406 - val_loss: 0.7934 - val_accuracy: 0.7370\n"
     ]
    }
   ],
   "source": [
    "epochs = 30\n",
    "batch_size = 128\n",
    "history = modelEns.fit(X_train[28015:30170], y_train[28015:30170], batch_size=batch_size, epochs=epochs,\n",
    "                              validation_data=(X_val[11990:12910], y_val[11990:12910]))"
   ]
  },
  {
   "cell_type": "code",
   "execution_count": 95,
   "metadata": {
    "colab": {},
    "colab_type": "code",
    "id": "e6pKdfv1m8k5"
   },
   "outputs": [],
   "source": [
    "first_score = modelEns.evaluate(X_test[4875:5250], y_test[4875:5250],verbose=0)"
   ]
  },
  {
   "cell_type": "code",
   "execution_count": 96,
   "metadata": {
    "colab": {},
    "colab_type": "code",
    "id": "Sy5iBsy3m8k6",
    "outputId": "41f342b2-2eaf-478a-e527-ba9b485295a6"
   },
   "outputs": [
    {
     "name": "stdout",
     "output_type": "stream",
     "text": [
      "accuracy: 77.60%\n"
     ]
    }
   ],
   "source": [
    "print(\"%s: %.2f%%\" % (modelEns.metrics_names[1], first_score[1]*100))"
   ]
  },
  {
   "cell_type": "code",
   "execution_count": 97,
   "metadata": {},
   "outputs": [
    {
     "data": {
      "image/png": "[encoded data removed]",
      "text/plain": [
       "<Figure size 432x288 with 1 Axes>"
      ]
     },
     "metadata": {
      "needs_background": "light"
     },
     "output_type": "display_data"
    },
    {
     "data": {
      "image/png": "[encoded data removed]",
      "text/plain": [
       "<Figure size 432x288 with 1 Axes>"
      ]
     },
     "metadata": {
      "needs_background": "light"
     },
     "output_type": "display_data"
    }
   ],
   "source": [
    "acc = history.history['accuracy']\n",
    "val_acc = history.history['val_accuracy']\n",
    "loss = history.history['loss']\n",
    "val_loss = history.history['val_loss']\n",
    "\n",
    "epochs = range(1, len(acc) + 1)\n",
    "\n",
    "plt.plot(epochs, acc, label='Training acc')\n",
    "plt.plot(epochs, val_acc, label='Validation acc')\n",
    "plt.title('Training and validation accuracy')\n",
    "plt.legend()\n",
    "plt.figure()\n",
    "plt.plot(epochs, loss,  label='Training loss')\n",
    "plt.plot(epochs, val_loss, label='Validation loss')\n",
    "plt.title('Training and validation loss')\n",
    "plt.legend()\n",
    "\n",
    "\n",
    "plt.show()"
   ]
  },
  {
   "cell_type": "code",
   "execution_count": 98,
   "metadata": {
    "colab": {},
    "colab_type": "code",
    "id": "qf5hERywm8k8"
   },
   "outputs": [],
   "source": [
    "modelEns.save('model44.h5')"
   ]
  },
  {
   "cell_type": "code",
   "execution_count": 99,
   "metadata": {
    "colab": {},
    "colab_type": "code",
    "id": "5DhBa_PSm8k9"
   },
   "outputs": [],
   "source": [
    "# Second Model Aggregation"
   ]
  },
  {
   "cell_type": "code",
   "execution_count": 100,
   "metadata": {
    "colab": {},
    "colab_type": "code",
    "id": "LxhMBb0vm8k-"
   },
   "outputs": [],
   "source": [
    "M1 = tf.keras.models.load_model('model11.h5')\n",
    "M2 = tf.keras.models.load_model('model22.h5')\n",
    "M3 = tf.keras.models.load_model('model33.h5')\n",
    "M4 = tf.keras.models.load_model('model44.h5')"
   ]
  },
  {
   "cell_type": "code",
   "execution_count": 101,
   "metadata": {
    "colab": {},
    "colab_type": "code",
    "id": "dzeUIM_sm8lA"
   },
   "outputs": [],
   "source": [
    "models = [M1, M2, M3, M4]"
   ]
  },
  {
   "cell_type": "code",
   "execution_count": 102,
   "metadata": {
    "colab": {},
    "colab_type": "code",
    "id": "rapqCH26m8lD"
   },
   "outputs": [],
   "source": [
    "M1._name = 'hello1'"
   ]
  },
  {
   "cell_type": "code",
   "execution_count": 103,
   "metadata": {
    "colab": {},
    "colab_type": "code",
    "id": "CvogJQZPm8lE"
   },
   "outputs": [],
   "source": [
    "M2._name = 'hello2'"
   ]
  },
  {
   "cell_type": "code",
   "execution_count": 104,
   "metadata": {
    "colab": {},
    "colab_type": "code",
    "id": "cUavmdMHm8lG"
   },
   "outputs": [],
   "source": [
    "M3._name = 'hello3'"
   ]
  },
  {
   "cell_type": "code",
   "execution_count": 105,
   "metadata": {
    "colab": {},
    "colab_type": "code",
    "id": "LgkrNk0Zm8lH"
   },
   "outputs": [],
   "source": [
    "M4._name = 'hello4'"
   ]
  },
  {
   "cell_type": "code",
   "execution_count": 106,
   "metadata": {
    "colab": {},
    "colab_type": "code",
    "id": "Y-oniKMqm8lL"
   },
   "outputs": [],
   "source": [
    "model_input = Input(shape=models[0].input_shape[1:]) # c*h*w\n",
    "modelEns = ensembleModels(models, model_input)"
   ]
  },
  {
   "cell_type": "code",
   "execution_count": 107,
   "metadata": {
    "colab": {},
    "colab_type": "code",
    "id": "K_iF-o_bm8lN"
   },
   "outputs": [],
   "source": [
    "# First Client Evaluation with #2 second model aggregation"
   ]
  },
  {
   "cell_type": "code",
   "execution_count": 108,
   "metadata": {
    "colab": {},
    "colab_type": "code",
    "id": "21-S5Busm8lP"
   },
   "outputs": [],
   "source": [
    "sgd = optimizers.SGD(lr=0.01, decay=1e-6, momentum=0.9, nesterov=True)\n",
    "modelEns.compile(\n",
    "    loss='categorical_crossentropy', \n",
    "    optimizer=sgd, \n",
    "    metrics=['accuracy']\n",
    ")"
   ]
  },
  {
   "cell_type": "code",
   "execution_count": 109,
   "metadata": {},
   "outputs": [],
   "source": [
    "modelEns.save('ModelEns#2.h5')"
   ]
  },
  {
   "cell_type": "code",
   "execution_count": 110,
   "metadata": {
    "colab": {},
    "colab_type": "code",
    "id": "d_IpfpS7m8lQ"
   },
   "outputs": [],
   "source": [
    "first_score = modelEns.evaluate(X_test[375:750], y_test[375:750], verbose=0)"
   ]
  },
  {
   "cell_type": "code",
   "execution_count": 111,
   "metadata": {
    "colab": {},
    "colab_type": "code",
    "id": "49UDklvum8lR",
    "outputId": "11031966-48a2-451e-eab5-c857d29b0cf7"
   },
   "outputs": [
    {
     "name": "stdout",
     "output_type": "stream",
     "text": [
      "accuracy: 77.07%\n"
     ]
    }
   ],
   "source": [
    "print(\"%s: %.2f%%\" % (modelEns.metrics_names[1], first_score[1]*100))"
   ]
  },
  {
   "cell_type": "code",
   "execution_count": 112,
   "metadata": {
    "colab": {},
    "colab_type": "code",
    "id": "QoSxJIyqm8lS"
   },
   "outputs": [],
   "source": [
    "# Second Client Evaluation with #2 second model aggregation"
   ]
  },
  {
   "cell_type": "code",
   "execution_count": 113,
   "metadata": {
    "colab": {},
    "colab_type": "code",
    "id": "pDu2-16Xm8lT"
   },
   "outputs": [],
   "source": [
    "second_score = modelEns.evaluate(X_test[1875:2250], y_test[1875:2250], verbose=0)"
   ]
  },
  {
   "cell_type": "code",
   "execution_count": 114,
   "metadata": {
    "colab": {},
    "colab_type": "code",
    "id": "spFyCChzm8lU",
    "outputId": "5d704120-0961-4a1b-9fa6-cb9d9e314341"
   },
   "outputs": [
    {
     "name": "stdout",
     "output_type": "stream",
     "text": [
      "accuracy: 77.87%\n"
     ]
    }
   ],
   "source": [
    "print(\"%s: %.2f%%\" % (modelEns.metrics_names[1], second_score[1]*100))"
   ]
  },
  {
   "cell_type": "code",
   "execution_count": 115,
   "metadata": {
    "colab": {},
    "colab_type": "code",
    "id": "gaBq3Nw-m8lV"
   },
   "outputs": [],
   "source": [
    "# Third Client Evaluation with #2 second model aggregation"
   ]
  },
  {
   "cell_type": "code",
   "execution_count": 116,
   "metadata": {
    "colab": {},
    "colab_type": "code",
    "id": "jhGyk5yYm8lW"
   },
   "outputs": [],
   "source": [
    "third_score = modelEns.evaluate(X_test[3375:3750], y_test[3375:3750], verbose=0)"
   ]
  },
  {
   "cell_type": "code",
   "execution_count": 117,
   "metadata": {
    "colab": {},
    "colab_type": "code",
    "id": "Oof4flZTm8lX",
    "outputId": "6a892035-9133-45ba-9ed6-ea35a2a9dd03"
   },
   "outputs": [
    {
     "name": "stdout",
     "output_type": "stream",
     "text": [
      "accuracy: 78.67%\n"
     ]
    }
   ],
   "source": [
    "print(\"%s: %.2f%%\" % (modelEns.metrics_names[1], third_score[1]*100))"
   ]
  },
  {
   "cell_type": "code",
   "execution_count": 118,
   "metadata": {},
   "outputs": [],
   "source": [
    "# modelEns = tf.keras.models.load_model('ModelEns#2.h5')"
   ]
  },
  {
   "cell_type": "code",
   "execution_count": 119,
   "metadata": {
    "colab": {},
    "colab_type": "code",
    "id": "piYAaEjUm8lb"
   },
   "outputs": [],
   "source": [
    "# Fourth Client Evaluation with #2 second model aggregation"
   ]
  },
  {
   "cell_type": "code",
   "execution_count": 120,
   "metadata": {
    "colab": {},
    "colab_type": "code",
    "id": "iuckl_WAm8lc"
   },
   "outputs": [],
   "source": [
    "fourth_score = modelEns.evaluate(X_test[4875:5250], y_test[4875:5250], verbose=0)"
   ]
  },
  {
   "cell_type": "code",
   "execution_count": 121,
   "metadata": {
    "colab": {},
    "colab_type": "code",
    "id": "0ag-w7P4m8ld",
    "outputId": "97fc5799-bea0-46c4-85b7-71a11fda24a8"
   },
   "outputs": [
    {
     "name": "stdout",
     "output_type": "stream",
     "text": [
      "accuracy: 76.00%\n"
     ]
    }
   ],
   "source": [
    "print(\"%s: %.2f%%\" % (modelEns.metrics_names[1], fourth_score[1]*100))"
   ]
  },
  {
   "cell_type": "code",
   "execution_count": 122,
   "metadata": {
    "colab": {},
    "colab_type": "code",
    "id": "jpBjn7a-m8le"
   },
   "outputs": [],
   "source": [
    "# First client - Step 3"
   ]
  },
  {
   "cell_type": "code",
   "execution_count": 123,
   "metadata": {
    "colab": {},
    "colab_type": "code",
    "id": "ZWN0Lovwm8lg",
    "outputId": "99663569-262c-4101-986f-3ee27ce990c0"
   },
   "outputs": [
    {
     "name": "stdout",
     "output_type": "stream",
     "text": [
      "Train on 2155 samples, validate on 920 samples\n",
      "Epoch 1/30\n",
      "2155/2155 [==============================] - 5s 2ms/sample - loss: 0.6940 - accuracy: 0.7285 - val_loss: 0.7315 - val_accuracy: 0.7380\n",
      "Epoch 2/30\n",
      "2155/2155 [==============================] - 3s 1ms/sample - loss: 0.6487 - accuracy: 0.7397 - val_loss: 0.7166 - val_accuracy: 0.7337\n",
      "Epoch 3/30\n",
      "2155/2155 [==============================] - 3s 1ms/sample - loss: 0.6137 - accuracy: 0.7522 - val_loss: 0.7182 - val_accuracy: 0.7391\n",
      "Epoch 4/30\n",
      "2155/2155 [==============================] - 3s 1ms/sample - loss: 0.5848 - accuracy: 0.7592 - val_loss: 0.7082 - val_accuracy: 0.7435\n",
      "Epoch 5/30\n",
      "2155/2155 [==============================] - 3s 1ms/sample - loss: 0.5699 - accuracy: 0.7712 - val_loss: 0.7062 - val_accuracy: 0.7315\n",
      "Epoch 6/30\n",
      "2155/2155 [==============================] - 3s 1ms/sample - loss: 0.5504 - accuracy: 0.7763 - val_loss: 0.7052 - val_accuracy: 0.7348\n",
      "Epoch 7/30\n",
      "2155/2155 [==============================] - 3s 1ms/sample - loss: 0.5345 - accuracy: 0.7889 - val_loss: 0.7109 - val_accuracy: 0.7359\n",
      "Epoch 8/30\n",
      "2155/2155 [==============================] - 3s 1ms/sample - loss: 0.5237 - accuracy: 0.7921 - val_loss: 0.7072 - val_accuracy: 0.7293\n",
      "Epoch 9/30\n",
      "2155/2155 [==============================] - 3s 1ms/sample - loss: 0.5117 - accuracy: 0.7940 - val_loss: 0.7063 - val_accuracy: 0.7348\n",
      "Epoch 10/30\n",
      "2155/2155 [==============================] - 3s 1ms/sample - loss: 0.5009 - accuracy: 0.8060 - val_loss: 0.7146 - val_accuracy: 0.7261\n",
      "Epoch 11/30\n",
      "2155/2155 [==============================] - 3s 1ms/sample - loss: 0.4925 - accuracy: 0.8065 - val_loss: 0.7094 - val_accuracy: 0.7283\n",
      "Epoch 12/30\n",
      "2155/2155 [==============================] - 3s 1ms/sample - loss: 0.4835 - accuracy: 0.8121 - val_loss: 0.7029 - val_accuracy: 0.7293\n",
      "Epoch 13/30\n",
      "2155/2155 [==============================] - 3s 1ms/sample - loss: 0.4753 - accuracy: 0.8153 - val_loss: 0.7052 - val_accuracy: 0.7326\n",
      "Epoch 14/30\n",
      "2155/2155 [==============================] - 3s 1ms/sample - loss: 0.4676 - accuracy: 0.8204 - val_loss: 0.7072 - val_accuracy: 0.7337\n",
      "Epoch 15/30\n",
      "2155/2155 [==============================] - 3s 1ms/sample - loss: 0.4611 - accuracy: 0.8223 - val_loss: 0.7058 - val_accuracy: 0.7326\n",
      "Epoch 16/30\n",
      "2155/2155 [==============================] - 3s 1ms/sample - loss: 0.4526 - accuracy: 0.8274 - val_loss: 0.7108 - val_accuracy: 0.7293\n",
      "Epoch 17/30\n",
      "2155/2155 [==============================] - 3s 1ms/sample - loss: 0.4468 - accuracy: 0.8288 - val_loss: 0.7094 - val_accuracy: 0.7370\n",
      "Epoch 18/30\n",
      "2155/2155 [==============================] - 3s 1ms/sample - loss: 0.4395 - accuracy: 0.8320 - val_loss: 0.7097 - val_accuracy: 0.7315\n",
      "Epoch 19/30\n",
      "2155/2155 [==============================] - 3s 1ms/sample - loss: 0.4338 - accuracy: 0.8376 - val_loss: 0.7082 - val_accuracy: 0.7370\n",
      "Epoch 20/30\n",
      "2155/2155 [==============================] - 3s 1ms/sample - loss: 0.4279 - accuracy: 0.8436 - val_loss: 0.7090 - val_accuracy: 0.7359\n",
      "Epoch 21/30\n",
      "2155/2155 [==============================] - 3s 1ms/sample - loss: 0.4229 - accuracy: 0.8464 - val_loss: 0.7131 - val_accuracy: 0.7293\n",
      "Epoch 22/30\n",
      "2155/2155 [==============================] - 3s 1ms/sample - loss: 0.4175 - accuracy: 0.8441 - val_loss: 0.7127 - val_accuracy: 0.7315\n",
      "Epoch 23/30\n",
      "2155/2155 [==============================] - 3s 1ms/sample - loss: 0.4125 - accuracy: 0.8483 - val_loss: 0.7132 - val_accuracy: 0.7272\n",
      "Epoch 24/30\n",
      "2155/2155 [==============================] - 3s 1ms/sample - loss: 0.4073 - accuracy: 0.8529 - val_loss: 0.7087 - val_accuracy: 0.7283\n",
      "Epoch 25/30\n",
      "2155/2155 [==============================] - 3s 1ms/sample - loss: 0.4027 - accuracy: 0.8506 - val_loss: 0.7113 - val_accuracy: 0.7359\n",
      "Epoch 26/30\n",
      "2155/2155 [==============================] - 3s 1ms/sample - loss: 0.3987 - accuracy: 0.8571 - val_loss: 0.7117 - val_accuracy: 0.7293\n",
      "Epoch 27/30\n",
      "2155/2155 [==============================] - 3s 1ms/sample - loss: 0.3935 - accuracy: 0.8580 - val_loss: 0.7148 - val_accuracy: 0.7348\n",
      "Epoch 28/30\n",
      "2155/2155 [==============================] - 3s 1ms/sample - loss: 0.3902 - accuracy: 0.8603 - val_loss: 0.7154 - val_accuracy: 0.7348\n",
      "Epoch 29/30\n",
      "2155/2155 [==============================] - 3s 1ms/sample - loss: 0.3855 - accuracy: 0.8585 - val_loss: 0.7167 - val_accuracy: 0.7304\n",
      "Epoch 30/30\n",
      "2155/2155 [==============================] - 3s 1ms/sample - loss: 0.3812 - accuracy: 0.8654 - val_loss: 0.7154 - val_accuracy: 0.7239\n"
     ]
    }
   ],
   "source": [
    "epochs = 30\n",
    "batch_size = 128\n",
    "history = modelEns.fit(X_train[4310:6465], y_train[4310:6465], batch_size=batch_size, epochs=epochs,\n",
    "                              validation_data=(X_val[1840:2760], y_val[1840:2760]))"
   ]
  },
  {
   "cell_type": "code",
   "execution_count": 124,
   "metadata": {
    "colab": {},
    "colab_type": "code",
    "id": "eD1_OzYzm8lh"
   },
   "outputs": [],
   "source": [
    "first_score = modelEns.evaluate(X_test[750:1125], y_test[750:1125], verbose=0)"
   ]
  },
  {
   "cell_type": "code",
   "execution_count": 125,
   "metadata": {
    "colab": {},
    "colab_type": "code",
    "id": "XkQ3VEgem8lj",
    "outputId": "66503896-e346-430b-a0f7-0a287ca7fd6c"
   },
   "outputs": [
    {
     "name": "stdout",
     "output_type": "stream",
     "text": [
      "accuracy: 77.60%\n"
     ]
    }
   ],
   "source": [
    "print(\"%s: %.2f%%\" % (modelEns.metrics_names[1], first_score[1]*100))"
   ]
  },
  {
   "cell_type": "code",
   "execution_count": 126,
   "metadata": {},
   "outputs": [
    {
     "data": {
      "image/png": "[encoded data removed]",
      "text/plain": [
       "<Figure size 432x288 with 1 Axes>"
      ]
     },
     "metadata": {
      "needs_background": "light"
     },
     "output_type": "display_data"
    },
    {
     "data": {
      "image/png": "[encoded data removed]",
      "text/plain": [
       "<Figure size 432x288 with 1 Axes>"
      ]
     },
     "metadata": {
      "needs_background": "light"
     },
     "output_type": "display_data"
    }
   ],
   "source": [
    "acc = history.history['accuracy']\n",
    "val_acc = history.history['val_accuracy']\n",
    "loss = history.history['loss']\n",
    "val_loss = history.history['val_loss']\n",
    "\n",
    "epochs = range(1, len(acc) + 1)\n",
    "\n",
    "plt.plot(epochs, acc, label='Training acc')\n",
    "plt.plot(epochs, val_acc, label='Validation acc')\n",
    "plt.title('Training and validation accuracy')\n",
    "plt.legend()\n",
    "plt.figure()\n",
    "plt.plot(epochs, loss,  label='Training loss')\n",
    "plt.plot(epochs, val_loss, label='Validation loss')\n",
    "plt.title('Training and validation loss')\n",
    "plt.legend()\n",
    "\n",
    "\n",
    "plt.show()"
   ]
  },
  {
   "cell_type": "code",
   "execution_count": 127,
   "metadata": {
    "colab": {},
    "colab_type": "code",
    "id": "UTFp3EZ4m8ll"
   },
   "outputs": [],
   "source": [
    "modelEns.save('model111.h5')"
   ]
  },
  {
   "cell_type": "code",
   "execution_count": 128,
   "metadata": {
    "colab": {},
    "colab_type": "code",
    "id": "h2VJ6qjAm8lm"
   },
   "outputs": [],
   "source": [
    "# Second client - Step 3"
   ]
  },
  {
   "cell_type": "code",
   "execution_count": 129,
   "metadata": {
    "colab": {},
    "colab_type": "code",
    "id": "v6xFL3Q4m8ln",
    "outputId": "11691cab-2aef-4d39-e973-360aa5b376d4"
   },
   "outputs": [
    {
     "name": "stdout",
     "output_type": "stream",
     "text": [
      "Train on 2155 samples, validate on 920 samples\n",
      "Epoch 1/30\n",
      "2155/2155 [==============================] - 5s 2ms/sample - loss: 0.7982 - accuracy: 0.7271 - val_loss: 0.8740 - val_accuracy: 0.7120\n",
      "Epoch 2/30\n",
      "2155/2155 [==============================] - 5s 2ms/sample - loss: 0.7383 - accuracy: 0.7513 - val_loss: 0.8616 - val_accuracy: 0.7000\n",
      "Epoch 3/30\n",
      "2155/2155 [==============================] - 5s 2ms/sample - loss: 0.7020 - accuracy: 0.7712 - val_loss: 0.8805 - val_accuracy: 0.6870\n",
      "Epoch 4/30\n",
      "2155/2155 [==============================] - 5s 2ms/sample - loss: 0.6356 - accuracy: 0.7977 - val_loss: 0.8235 - val_accuracy: 0.6957\n",
      "Epoch 5/30\n",
      "2155/2155 [==============================] - 5s 2ms/sample - loss: 0.5790 - accuracy: 0.8167 - val_loss: 0.8017 - val_accuracy: 0.7098\n",
      "Epoch 6/30\n",
      "2155/2155 [==============================] - 5s 2ms/sample - loss: 0.5309 - accuracy: 0.8204 - val_loss: 0.7953 - val_accuracy: 0.6978\n",
      "Epoch 7/30\n",
      "2155/2155 [==============================] - 5s 2ms/sample - loss: 0.5000 - accuracy: 0.8413 - val_loss: 0.7917 - val_accuracy: 0.7065\n",
      "Epoch 8/30\n",
      "2155/2155 [==============================] - 5s 2ms/sample - loss: 0.4732 - accuracy: 0.8506 - val_loss: 0.7860 - val_accuracy: 0.7022\n",
      "Epoch 9/30\n",
      "2155/2155 [==============================] - 5s 2ms/sample - loss: 0.4473 - accuracy: 0.8659 - val_loss: 0.7824 - val_accuracy: 0.7087\n",
      "Epoch 10/30\n",
      "2155/2155 [==============================] - 5s 2ms/sample - loss: 0.4239 - accuracy: 0.8817 - val_loss: 0.7858 - val_accuracy: 0.7065\n",
      "Epoch 11/30\n",
      "2155/2155 [==============================] - 5s 2ms/sample - loss: 0.4019 - accuracy: 0.8835 - val_loss: 0.7766 - val_accuracy: 0.7022\n",
      "Epoch 12/30\n",
      "2155/2155 [==============================] - 5s 2ms/sample - loss: 0.3868 - accuracy: 0.8914 - val_loss: 0.7836 - val_accuracy: 0.7033\n",
      "Epoch 13/30\n",
      "2155/2155 [==============================] - 5s 2ms/sample - loss: 0.3677 - accuracy: 0.8998 - val_loss: 0.7974 - val_accuracy: 0.7065\n",
      "Epoch 14/30\n",
      "2155/2155 [==============================] - 5s 2ms/sample - loss: 0.3548 - accuracy: 0.9030 - val_loss: 0.7908 - val_accuracy: 0.7043\n",
      "Epoch 15/30\n",
      "2155/2155 [==============================] - 5s 2ms/sample - loss: 0.3446 - accuracy: 0.9123 - val_loss: 0.7856 - val_accuracy: 0.7022\n",
      "Epoch 16/30\n",
      "2155/2155 [==============================] - 5s 2ms/sample - loss: 0.3315 - accuracy: 0.9183 - val_loss: 0.7993 - val_accuracy: 0.7022\n",
      "Epoch 17/30\n",
      "2155/2155 [==============================] - 5s 2ms/sample - loss: 0.3227 - accuracy: 0.9239 - val_loss: 0.7869 - val_accuracy: 0.7033\n",
      "Epoch 18/30\n",
      "2155/2155 [==============================] - 5s 2ms/sample - loss: 0.3137 - accuracy: 0.9262 - val_loss: 0.8053 - val_accuracy: 0.7022\n",
      "Epoch 19/30\n",
      "2155/2155 [==============================] - 5s 2ms/sample - loss: 0.3056 - accuracy: 0.9323 - val_loss: 0.8045 - val_accuracy: 0.6957\n",
      "Epoch 20/30\n",
      "2155/2155 [==============================] - 5s 2ms/sample - loss: 0.2976 - accuracy: 0.9374 - val_loss: 0.8014 - val_accuracy: 0.6989\n",
      "Epoch 21/30\n",
      "2155/2155 [==============================] - 5s 2ms/sample - loss: 0.2923 - accuracy: 0.9360 - val_loss: 0.7963 - val_accuracy: 0.7076\n",
      "Epoch 22/30\n",
      "2155/2155 [==============================] - 5s 2ms/sample - loss: 0.2848 - accuracy: 0.9401 - val_loss: 0.8005 - val_accuracy: 0.7000\n",
      "Epoch 23/30\n",
      "2155/2155 [==============================] - 5s 2ms/sample - loss: 0.2798 - accuracy: 0.9420 - val_loss: 0.8057 - val_accuracy: 0.7022\n",
      "Epoch 24/30\n",
      "2155/2155 [==============================] - 5s 2ms/sample - loss: 0.2736 - accuracy: 0.9448 - val_loss: 0.7985 - val_accuracy: 0.6978\n",
      "Epoch 25/30\n",
      "2155/2155 [==============================] - 5s 2ms/sample - loss: 0.2701 - accuracy: 0.9466 - val_loss: 0.8245 - val_accuracy: 0.6880\n",
      "Epoch 26/30\n",
      "2155/2155 [==============================] - 5s 2ms/sample - loss: 0.2644 - accuracy: 0.9452 - val_loss: 0.8173 - val_accuracy: 0.6913\n",
      "Epoch 27/30\n",
      "2155/2155 [==============================] - 5s 2ms/sample - loss: 0.2597 - accuracy: 0.9480 - val_loss: 0.8199 - val_accuracy: 0.7076\n",
      "Epoch 28/30\n",
      "2155/2155 [==============================] - 5s 2ms/sample - loss: 0.2550 - accuracy: 0.9480 - val_loss: 0.8179 - val_accuracy: 0.6957\n",
      "Epoch 29/30\n",
      "2155/2155 [==============================] - 5s 2ms/sample - loss: 0.2512 - accuracy: 0.9494 - val_loss: 0.8067 - val_accuracy: 0.6978\n",
      "Epoch 30/30\n",
      "2155/2155 [==============================] - 5s 2ms/sample - loss: 0.2482 - accuracy: 0.9508 - val_loss: 0.8239 - val_accuracy: 0.6978\n"
     ]
    }
   ],
   "source": [
    "epochs = 30\n",
    "batch_size = 28\n",
    "history = modelEns.fit(X_train[12930:15085], y_train[12930:15085], batch_size=batch_size, epochs=epochs,\n",
    "                              validation_data=(X_val[5530:6450], y_val[5530:6450]))"
   ]
  },
  {
   "cell_type": "code",
   "execution_count": 130,
   "metadata": {},
   "outputs": [
    {
     "data": {
      "image/png": "[encoded data removed]",
      "text/plain": [
       "<Figure size 432x288 with 1 Axes>"
      ]
     },
     "metadata": {
      "needs_background": "light"
     },
     "output_type": "display_data"
    },
    {
     "data": {
      "image/png": "[encoded data removed]",
      "text/plain": [
       "<Figure size 432x288 with 1 Axes>"
      ]
     },
     "metadata": {
      "needs_background": "light"
     },
     "output_type": "display_data"
    }
   ],
   "source": [
    "acc = history.history['accuracy']\n",
    "val_acc = history.history['val_accuracy']\n",
    "loss = history.history['loss']\n",
    "val_loss = history.history['val_loss']\n",
    "\n",
    "epochs = range(1, len(acc) + 1)\n",
    "\n",
    "plt.plot(epochs, acc, label='Training acc')\n",
    "plt.plot(epochs, val_acc, label='Validation acc')\n",
    "plt.title('Training and validation accuracy')\n",
    "plt.legend()\n",
    "plt.figure()\n",
    "plt.plot(epochs, loss,  label='Training loss')\n",
    "plt.plot(epochs, val_loss, label='Validation loss')\n",
    "plt.title('Training and validation loss')\n",
    "plt.legend()\n",
    "\n",
    "\n",
    "plt.show()"
   ]
  },
  {
   "cell_type": "code",
   "execution_count": 131,
   "metadata": {
    "colab": {},
    "colab_type": "code",
    "id": "lra9yPYNm8lo",
    "outputId": "e87ae710-f473-4d7e-df21-76d0c8c7f80a"
   },
   "outputs": [
    {
     "name": "stdout",
     "output_type": "stream",
     "text": [
      "accuracy: 78.67%\n"
     ]
    }
   ],
   "source": [
    "Second_score = modelEns.evaluate(X_test[3750:4125], y_test[3750:4125], verbose=0)\n",
    "print(\"%s: %.2f%%\" % (modelEns.metrics_names[1], Second_score[1]*100))\n",
    "modelEns.save('model222.h5')"
   ]
  },
  {
   "cell_type": "code",
   "execution_count": 132,
   "metadata": {
    "colab": {},
    "colab_type": "code",
    "id": "ZADtt786m8lp"
   },
   "outputs": [],
   "source": [
    "# Third client - Step 3"
   ]
  },
  {
   "cell_type": "code",
   "execution_count": 133,
   "metadata": {
    "colab": {},
    "colab_type": "code",
    "id": "7NsTN1icm8lq",
    "outputId": "6c12f511-1218-4d08-ccb5-a3a1b2f6740a"
   },
   "outputs": [
    {
     "name": "stdout",
     "output_type": "stream",
     "text": [
      "Train on 2155 samples, validate on 920 samples\n",
      "Epoch 1/15\n",
      "2155/2155 [==============================] - 3s 1ms/sample - loss: 0.6904 - accuracy: 0.7420 - val_loss: 0.7032 - val_accuracy: 0.7359\n",
      "Epoch 2/15\n",
      "2155/2155 [==============================] - 3s 1ms/sample - loss: 0.6251 - accuracy: 0.7596 - val_loss: 0.6785 - val_accuracy: 0.7467\n",
      "Epoch 3/15\n",
      "2155/2155 [==============================] - 3s 1ms/sample - loss: 0.5800 - accuracy: 0.7698 - val_loss: 0.6785 - val_accuracy: 0.7489\n",
      "Epoch 4/15\n",
      "2155/2155 [==============================] - 3s 1ms/sample - loss: 0.5506 - accuracy: 0.7833 - val_loss: 0.6715 - val_accuracy: 0.7533\n",
      "Epoch 5/15\n",
      "2155/2155 [==============================] - 3s 1ms/sample - loss: 0.5283 - accuracy: 0.7935 - val_loss: 0.6659 - val_accuracy: 0.7587\n",
      "Epoch 6/15\n",
      "2155/2155 [==============================] - 3s 1ms/sample - loss: 0.5104 - accuracy: 0.8046 - val_loss: 0.6632 - val_accuracy: 0.7533\n",
      "Epoch 7/15\n",
      "2155/2155 [==============================] - 3s 1ms/sample - loss: 0.4963 - accuracy: 0.8107 - val_loss: 0.6649 - val_accuracy: 0.7533\n",
      "Epoch 8/15\n",
      "2155/2155 [==============================] - 3s 1ms/sample - loss: 0.4857 - accuracy: 0.8195 - val_loss: 0.6673 - val_accuracy: 0.7609\n",
      "Epoch 9/15\n",
      "2155/2155 [==============================] - 3s 1ms/sample - loss: 0.4756 - accuracy: 0.8241 - val_loss: 0.6638 - val_accuracy: 0.7533\n",
      "Epoch 10/15\n",
      "2155/2155 [==============================] - 3s 1ms/sample - loss: 0.4645 - accuracy: 0.8278 - val_loss: 0.6647 - val_accuracy: 0.7554\n",
      "Epoch 11/15\n",
      "2155/2155 [==============================] - 3s 1ms/sample - loss: 0.4550 - accuracy: 0.8339 - val_loss: 0.6590 - val_accuracy: 0.7620\n",
      "Epoch 12/15\n",
      "2155/2155 [==============================] - 3s 1ms/sample - loss: 0.4466 - accuracy: 0.8404 - val_loss: 0.6668 - val_accuracy: 0.7554\n",
      "Epoch 13/15\n",
      "2155/2155 [==============================] - 3s 1ms/sample - loss: 0.4407 - accuracy: 0.8381 - val_loss: 0.6634 - val_accuracy: 0.7543\n",
      "Epoch 14/15\n",
      "2155/2155 [==============================] - 3s 1ms/sample - loss: 0.4332 - accuracy: 0.8469 - val_loss: 0.6582 - val_accuracy: 0.7587\n",
      "Epoch 15/15\n",
      "2155/2155 [==============================] - 3s 1ms/sample - loss: 0.4268 - accuracy: 0.8492 - val_loss: 0.6611 - val_accuracy: 0.7543\n"
     ]
    }
   ],
   "source": [
    "epochs = 15\n",
    "batch_size = 128\n",
    "history = modelEns.fit(X_train[30170:32325], y_train[30170:32325], batch_size=batch_size, epochs=epochs,\n",
    "                              validation_data=(X_val[12910:13830], y_val[12910:13830]))"
   ]
  },
  {
   "cell_type": "code",
   "execution_count": 134,
   "metadata": {},
   "outputs": [
    {
     "data": {
      "image/png": "[encoded data removed]",
      "text/plain": [
       "<Figure size 432x288 with 1 Axes>"
      ]
     },
     "metadata": {
      "needs_background": "light"
     },
     "output_type": "display_data"
    },
    {
     "data": {
      "image/png": "[encoded data removed]",
      "text/plain": [
       "<Figure size 432x288 with 1 Axes>"
      ]
     },
     "metadata": {
      "needs_background": "light"
     },
     "output_type": "display_data"
    }
   ],
   "source": [
    "acc = history.history['accuracy']\n",
    "val_acc = history.history['val_accuracy']\n",
    "loss = history.history['loss']\n",
    "val_loss = history.history['val_loss']\n",
    "\n",
    "epochs = range(1, len(acc) + 1)\n",
    "\n",
    "plt.plot(epochs, acc, label='Training acc')\n",
    "plt.plot(epochs, val_acc, label='Validation acc')\n",
    "plt.title('Training and validation accuracy')\n",
    "plt.legend()\n",
    "plt.figure()\n",
    "plt.plot(epochs, loss,  label='Training loss')\n",
    "plt.plot(epochs, val_loss, label='Validation loss')\n",
    "plt.title('Training and validation loss')\n",
    "plt.legend()\n",
    "\n",
    "\n",
    "plt.show()"
   ]
  },
  {
   "cell_type": "code",
   "execution_count": 135,
   "metadata": {
    "colab": {},
    "colab_type": "code",
    "id": "7xyqInvTm8ls",
    "outputId": "791843b1-5d14-4f3c-b341-d1e3d4ff93ff"
   },
   "outputs": [
    {
     "name": "stdout",
     "output_type": "stream",
     "text": [
      "accuracy: 81.33%\n"
     ]
    }
   ],
   "source": [
    "third_score = modelEns.evaluate(X_test[5250:5625], y_test[5250:5625], verbose=0)\n",
    "print(\"%s: %.2f%%\" % (modelEns.metrics_names[1], third_score[1]*100))\n",
    "modelEns.save('model333.h5')"
   ]
  },
  {
   "cell_type": "code",
   "execution_count": 136,
   "metadata": {
    "colab": {},
    "colab_type": "code",
    "id": "JCs6W3aZm8lx"
   },
   "outputs": [],
   "source": [
    "# Fourth client - Step 3"
   ]
  },
  {
   "cell_type": "code",
   "execution_count": 137,
   "metadata": {
    "colab": {},
    "colab_type": "code",
    "id": "UH4YFdz4m8ly",
    "outputId": "b985c67f-f21c-4647-d24c-8acdcc38ba6a"
   },
   "outputs": [
    {
     "name": "stdout",
     "output_type": "stream",
     "text": [
      "Train on 2155 samples, validate on 920 samples\n",
      "Epoch 1/30\n",
      "2155/2155 [==============================] - 3s 1ms/sample - loss: 0.6701 - accuracy: 0.7513 - val_loss: 0.6414 - val_accuracy: 0.7467\n",
      "Epoch 2/30\n",
      "2155/2155 [==============================] - 3s 1ms/sample - loss: 0.6200 - accuracy: 0.7698 - val_loss: 0.6252 - val_accuracy: 0.7565\n",
      "Epoch 3/30\n",
      "2155/2155 [==============================] - 3s 1ms/sample - loss: 0.5826 - accuracy: 0.7763 - val_loss: 0.6201 - val_accuracy: 0.7533\n",
      "Epoch 4/30\n",
      "2155/2155 [==============================] - 3s 1ms/sample - loss: 0.5554 - accuracy: 0.7926 - val_loss: 0.6141 - val_accuracy: 0.7500\n",
      "Epoch 5/30\n",
      "2155/2155 [==============================] - 3s 1ms/sample - loss: 0.5389 - accuracy: 0.7986 - val_loss: 0.6154 - val_accuracy: 0.7522\n",
      "Epoch 6/30\n",
      "2155/2155 [==============================] - 3s 1ms/sample - loss: 0.5237 - accuracy: 0.8019 - val_loss: 0.6107 - val_accuracy: 0.7543\n",
      "Epoch 7/30\n",
      "2155/2155 [==============================] - 3s 1ms/sample - loss: 0.5099 - accuracy: 0.8093 - val_loss: 0.6064 - val_accuracy: 0.7511\n",
      "Epoch 8/30\n",
      "2155/2155 [==============================] - 3s 1ms/sample - loss: 0.4971 - accuracy: 0.8153 - val_loss: 0.6075 - val_accuracy: 0.7543\n",
      "Epoch 9/30\n",
      "2155/2155 [==============================] - 3s 1ms/sample - loss: 0.4866 - accuracy: 0.8181 - val_loss: 0.6116 - val_accuracy: 0.7500\n",
      "Epoch 10/30\n",
      "2155/2155 [==============================] - 3s 1ms/sample - loss: 0.4772 - accuracy: 0.8251 - val_loss: 0.6100 - val_accuracy: 0.7641\n",
      "Epoch 11/30\n",
      "2155/2155 [==============================] - 3s 1ms/sample - loss: 0.4678 - accuracy: 0.8311 - val_loss: 0.6055 - val_accuracy: 0.7576\n",
      "Epoch 12/30\n",
      "2155/2155 [==============================] - 3s 1ms/sample - loss: 0.4608 - accuracy: 0.8306 - val_loss: 0.6067 - val_accuracy: 0.7598\n",
      "Epoch 13/30\n",
      "2155/2155 [==============================] - 3s 1ms/sample - loss: 0.4539 - accuracy: 0.8357 - val_loss: 0.6066 - val_accuracy: 0.7576\n",
      "Epoch 14/30\n",
      "2155/2155 [==============================] - 3s 1ms/sample - loss: 0.4459 - accuracy: 0.8390 - val_loss: 0.6094 - val_accuracy: 0.7587\n",
      "Epoch 15/30\n",
      "2155/2155 [==============================] - 3s 1ms/sample - loss: 0.4396 - accuracy: 0.8432 - val_loss: 0.6052 - val_accuracy: 0.7609\n",
      "Epoch 16/30\n",
      "2155/2155 [==============================] - 3s 1ms/sample - loss: 0.4333 - accuracy: 0.8473 - val_loss: 0.6041 - val_accuracy: 0.7685\n",
      "Epoch 17/30\n",
      "2155/2155 [==============================] - 3s 1ms/sample - loss: 0.4279 - accuracy: 0.8501 - val_loss: 0.6064 - val_accuracy: 0.7598\n",
      "Epoch 18/30\n",
      "2155/2155 [==============================] - 3s 1ms/sample - loss: 0.4230 - accuracy: 0.8492 - val_loss: 0.6043 - val_accuracy: 0.7685\n",
      "Epoch 19/30\n",
      "2155/2155 [==============================] - 3s 1ms/sample - loss: 0.4165 - accuracy: 0.8557 - val_loss: 0.6045 - val_accuracy: 0.7609\n",
      "Epoch 20/30\n",
      "2155/2155 [==============================] - 3s 1ms/sample - loss: 0.4114 - accuracy: 0.8640 - val_loss: 0.6022 - val_accuracy: 0.7609\n",
      "Epoch 21/30\n",
      "2155/2155 [==============================] - 3s 1ms/sample - loss: 0.4066 - accuracy: 0.8687 - val_loss: 0.6058 - val_accuracy: 0.7685\n",
      "Epoch 22/30\n",
      "2155/2155 [==============================] - 3s 1ms/sample - loss: 0.4020 - accuracy: 0.8659 - val_loss: 0.6058 - val_accuracy: 0.7630\n",
      "Epoch 23/30\n",
      "2155/2155 [==============================] - 3s 1ms/sample - loss: 0.3980 - accuracy: 0.8710 - val_loss: 0.6052 - val_accuracy: 0.7652\n",
      "Epoch 24/30\n",
      "2155/2155 [==============================] - 3s 1ms/sample - loss: 0.3929 - accuracy: 0.8710 - val_loss: 0.6046 - val_accuracy: 0.7685\n",
      "Epoch 25/30\n",
      "2155/2155 [==============================] - 3s 1ms/sample - loss: 0.3890 - accuracy: 0.8742 - val_loss: 0.6034 - val_accuracy: 0.7728\n",
      "Epoch 26/30\n",
      "2155/2155 [==============================] - 3s 1ms/sample - loss: 0.3862 - accuracy: 0.8784 - val_loss: 0.6052 - val_accuracy: 0.7663\n",
      "Epoch 27/30\n",
      "2155/2155 [==============================] - 3s 1ms/sample - loss: 0.3820 - accuracy: 0.8807 - val_loss: 0.6029 - val_accuracy: 0.7674\n",
      "Epoch 28/30\n",
      "2155/2155 [==============================] - 3s 1ms/sample - loss: 0.3782 - accuracy: 0.8840 - val_loss: 0.6041 - val_accuracy: 0.7685\n",
      "Epoch 29/30\n",
      "2155/2155 [==============================] - 3s 1ms/sample - loss: 0.3747 - accuracy: 0.8849 - val_loss: 0.6034 - val_accuracy: 0.7707\n",
      "Epoch 30/30\n",
      "2155/2155 [==============================] - 3s 1ms/sample - loss: 0.3718 - accuracy: 0.8858 - val_loss: 0.6027 - val_accuracy: 0.7696\n"
     ]
    }
   ],
   "source": [
    "epochs = 30\n",
    "batch_size = 128\n",
    "history = modelEns.fit(X_train[21550:23705], y_train[21550:23705], batch_size=batch_size, epochs=epochs,\n",
    "                              validation_data=(X_val[9220:10140], y_val[9220:10140]))"
   ]
  },
  {
   "cell_type": "code",
   "execution_count": 138,
   "metadata": {},
   "outputs": [
    {
     "data": {
      "image/png": "[encoded data removed]",
      "text/plain": [
       "<Figure size 432x288 with 1 Axes>"
      ]
     },
     "metadata": {
      "needs_background": "light"
     },
     "output_type": "display_data"
    },
    {
     "data": {
      "image/png": "[encoded data removed]",
      "text/plain": [
       "<Figure size 432x288 with 1 Axes>"
      ]
     },
     "metadata": {
      "needs_background": "light"
     },
     "output_type": "display_data"
    }
   ],
   "source": [
    "acc = history.history['accuracy']\n",
    "val_acc = history.history['val_accuracy']\n",
    "loss = history.history['loss']\n",
    "val_loss = history.history['val_loss']\n",
    "\n",
    "epochs = range(1, len(acc) + 1)\n",
    "\n",
    "plt.plot(epochs, acc, label='Training acc')\n",
    "plt.plot(epochs, val_acc, label='Validation acc')\n",
    "plt.title('Training and validation accuracy')\n",
    "plt.legend()\n",
    "plt.figure()\n",
    "plt.plot(epochs, loss,  label='Training loss')\n",
    "plt.plot(epochs, val_loss, label='Validation loss')\n",
    "plt.title('Training and validation loss')\n",
    "plt.legend()\n",
    "\n",
    "\n",
    "plt.show()"
   ]
  },
  {
   "cell_type": "code",
   "execution_count": 139,
   "metadata": {
    "colab": {},
    "colab_type": "code",
    "id": "IsdXhp19m8lz",
    "outputId": "d685da82-30b8-48d2-8280-29c603f110dd"
   },
   "outputs": [
    {
     "name": "stdout",
     "output_type": "stream",
     "text": [
      "accuracy: 81.60%\n"
     ]
    }
   ],
   "source": [
    "fourth_score = modelEns.evaluate(X_test[3750:4125], y_test[3750:4125], verbose=0)\n",
    "print(\"%s: %.2f%%\" % (modelEns.metrics_names[1], fourth_score[1]*100))\n",
    "modelEns.save('model444.h5')"
   ]
  },
  {
   "cell_type": "code",
   "execution_count": 140,
   "metadata": {
    "colab": {},
    "colab_type": "code",
    "id": "nKTfi75Tm8l2"
   },
   "outputs": [],
   "source": [
    "# Third Model Aggregation"
   ]
  },
  {
   "cell_type": "code",
   "execution_count": 141,
   "metadata": {
    "colab": {},
    "colab_type": "code",
    "id": "y-p7lD0xm8l3"
   },
   "outputs": [],
   "source": [
    "M1 = tf.keras.models.load_model('model111.h5')\n",
    "M2 = tf.keras.models.load_model('model222.h5')\n",
    "M3 = tf.keras.models.load_model('model333.h5')\n",
    "M4 = tf.keras.models.load_model('model444.h5')\n",
    "M1._name = 'hello111'\n",
    "M2._name = 'hello222'\n",
    "M3._name = 'hello333'\n",
    "M4._name = 'hello444'\n",
    "models = [M1, M2, M3, M4]"
   ]
  },
  {
   "cell_type": "code",
   "execution_count": 142,
   "metadata": {
    "colab": {},
    "colab_type": "code",
    "id": "70Y3UXLtm8l4"
   },
   "outputs": [],
   "source": [
    "model_input = Input(shape=models[0].input_shape[1:]) # c*h*w\n",
    "modelEns = ensembleModels(models, model_input)"
   ]
  },
  {
   "cell_type": "code",
   "execution_count": 143,
   "metadata": {
    "colab": {},
    "colab_type": "code",
    "id": "aCEsjrBym8l5"
   },
   "outputs": [],
   "source": [
    "# First Client Evaluation with #3 third model aggregation"
   ]
  },
  {
   "cell_type": "code",
   "execution_count": 144,
   "metadata": {
    "colab": {},
    "colab_type": "code",
    "id": "ud1DYaxwm8l6"
   },
   "outputs": [],
   "source": [
    "sgd = optimizers.SGD(lr=0.01, decay=1e-6, momentum=0.9, nesterov=True)\n",
    "modelEns.compile(\n",
    "    loss='categorical_crossentropy', \n",
    "    optimizer=sgd, \n",
    "    metrics=['accuracy']\n",
    ")"
   ]
  },
  {
   "cell_type": "code",
   "execution_count": 145,
   "metadata": {},
   "outputs": [],
   "source": [
    "modelEns.save('ModelEns#3.h5')"
   ]
  },
  {
   "cell_type": "code",
   "execution_count": 146,
   "metadata": {
    "colab": {},
    "colab_type": "code",
    "id": "ND4TNFLgm8l7",
    "outputId": "ba3eb416-101d-4f8d-d613-e0b6fbb3926c"
   },
   "outputs": [
    {
     "name": "stdout",
     "output_type": "stream",
     "text": [
      "accuracy: 79.73%\n"
     ]
    }
   ],
   "source": [
    "first_score = modelEns.evaluate(X_test[750:1125], y_test[750:1125], verbose=0)\n",
    "print(\"%s: %.2f%%\" % (modelEns.metrics_names[1], first_score[1]*100))"
   ]
  },
  {
   "cell_type": "code",
   "execution_count": 147,
   "metadata": {
    "colab": {},
    "colab_type": "code",
    "id": "spr0MkCAm8l8"
   },
   "outputs": [],
   "source": [
    "# Second Client Evaluation with #3 third model aggregation"
   ]
  },
  {
   "cell_type": "code",
   "execution_count": 148,
   "metadata": {
    "colab": {},
    "colab_type": "code",
    "id": "-DKSzUFTm8l-",
    "outputId": "81ed1914-ecff-452a-9b56-f9194c53bd5c"
   },
   "outputs": [
    {
     "name": "stdout",
     "output_type": "stream",
     "text": [
      "accuracy: 81.33%\n"
     ]
    }
   ],
   "source": [
    "Second_score = modelEns.evaluate(X_test[3750:4125], y_test[3750:4125], verbose=0)\n",
    "print(\"%s: %.2f%%\" % (modelEns.metrics_names[1], Second_score[1]*100))"
   ]
  },
  {
   "cell_type": "code",
   "execution_count": 149,
   "metadata": {
    "colab": {},
    "colab_type": "code",
    "id": "PDZf9ZbGm8l_"
   },
   "outputs": [],
   "source": [
    "# third Client Evaluation with #3 third model aggregation"
   ]
  },
  {
   "cell_type": "code",
   "execution_count": 150,
   "metadata": {
    "colab": {},
    "colab_type": "code",
    "id": "01zIj6pHm8mA",
    "outputId": "64f87d62-7757-47fc-fb2f-989a085014ee"
   },
   "outputs": [
    {
     "name": "stdout",
     "output_type": "stream",
     "text": [
      "accuracy: 81.87%\n"
     ]
    }
   ],
   "source": [
    "third_score = modelEns.evaluate(X_test[5250:5625], y_test[5250:5625], verbose=0)\n",
    "print(\"%s: %.2f%%\" % (modelEns.metrics_names[1], third_score[1]*100))"
   ]
  },
  {
   "cell_type": "code",
   "execution_count": 151,
   "metadata": {
    "colab": {},
    "colab_type": "code",
    "id": "ItljsS3Um8mB"
   },
   "outputs": [],
   "source": [
    "# Fourth Client Evaluation with #3 third model aggregation"
   ]
  },
  {
   "cell_type": "code",
   "execution_count": 152,
   "metadata": {
    "colab": {},
    "colab_type": "code",
    "id": "o0K8S-amm8mC",
    "outputId": "88c9feb5-a9d5-4e3c-c623-f6af4dd83ce9"
   },
   "outputs": [
    {
     "name": "stdout",
     "output_type": "stream",
     "text": [
      "accuracy: 81.33%\n"
     ]
    }
   ],
   "source": [
    "fourth_score = modelEns.evaluate(X_test[3750:4125], y_test[3750:4125], verbose=0)\n",
    "print(\"%s: %.2f%%\" % (modelEns.metrics_names[1], fourth_score[1]*100))"
   ]
  },
  {
   "cell_type": "code",
   "execution_count": 153,
   "metadata": {},
   "outputs": [],
   "source": [
    "# modelEns = tf.keras.models.load_model('ModelEns#3.h5')"
   ]
  },
  {
   "cell_type": "code",
   "execution_count": null,
   "metadata": {
    "colab": {},
    "colab_type": "code",
    "id": "KHdR0VO6m8mD",
    "outputId": "e3eec8d5-0b12-4395-f4a1-e8ab8a88749e"
   },
   "outputs": [
    {
     "name": "stdout",
     "output_type": "stream",
     "text": [
      "Train on 2455 samples, validate on 920 samples\n",
      "Epoch 1/30\n"
     ]
    }
   ],
   "source": [
    "# First client - Step 4\n",
    "epochs = 30\n",
    "batch_size = 128\n",
    "history = modelEns.fit(X_train[6465:8920], y_train[6465:8920], batch_size=batch_size, epochs=epochs,\n",
    "                              validation_data=(X_val[2760:3680], y_val[2760:3680]))\n",
    "first_score = modelEns.evaluate(X_test[1125:1500], y_test[1125:1500], verbose=0)\n",
    "print(\"%s: %.2f%%\" % (modelEns.metrics_names[1], first_score[1]*100))\n",
    "# modelEns.save('model1111.h5')\n",
    "\n",
    "acc = history.history['accuracy']\n",
    "val_acc = history.history['val_accuracy']\n",
    "loss = history.history['loss']\n",
    "val_loss = history.history['val_loss']\n",
    "\n",
    "epochs = range(1, len(acc) + 1)\n",
    "\n",
    "plt.plot(epochs, acc, label='Training acc')\n",
    "plt.plot(epochs, val_acc, label='Validation acc')\n",
    "plt.title('Training and validation accuracy')\n",
    "plt.legend()\n",
    "plt.figure()\n",
    "plt.plot(epochs, loss,  label='Training loss')\n",
    "plt.plot(epochs, val_loss, label='Validation loss')\n",
    "plt.title('Training and validation loss')\n",
    "plt.legend()\n",
    "\n",
    "\n",
    "plt.show()"
   ]
  },
  {
   "cell_type": "code",
   "execution_count": 14,
   "metadata": {
    "colab": {},
    "colab_type": "code",
    "id": "E5Sg0t0lm8mE",
    "outputId": "bb291d30-590c-48ef-b66f-10740f27d161"
   },
   "outputs": [
    {
     "name": "stdout",
     "output_type": "stream",
     "text": [
      "Train on 3000 samples, validate on 750 samples\n",
      "Epoch 1/3\n",
      "3000/3000 [==============================] - 135s 45ms/sample - loss: 0.0722 - accuracy: 0.9857 - val_loss: 0.0661 - val_accuracy: 0.9853\n",
      "Epoch 2/3\n",
      "3000/3000 [==============================] - 132s 44ms/sample - loss: 0.0437 - accuracy: 0.9900 - val_loss: 0.0443 - val_accuracy: 0.9907\n",
      "Epoch 3/3\n",
      "3000/3000 [==============================] - 127s 42ms/sample - loss: 0.0279 - accuracy: 0.9943 - val_loss: 0.0319 - val_accuracy: 0.9907\n",
      "accuracy: 98.20%\n"
     ]
    },
    {
     "data": {
      "image/png": "[encoded data removed]",
      "text/plain": [
       "<Figure size 432x288 with 1 Axes>"
      ]
     },
     "metadata": {
      "needs_background": "light"
     },
     "output_type": "display_data"
    }
   ],
   "source": [
    "# Second client - Step 4\n",
    "epochs = 30\n",
    "batch_size = 128\n",
    "history = modelEns.fit(X_train[15085:17240], y_train[15085:17240], batch_size=batch_size, epochs=epochs,\n",
    "                              validation_data=(X_val[6450:7370], y_val[6450:7370]))\n",
    "second_score = modelEns.evaluate(X_test[2625:3000], y_test[2625:3000], verbose=0)\n",
    "print(\"%s: %.2f%%\" % (modelEns.metrics_names[1], second_score[1]*100))\n",
    "modelEns.save('model2222.h5')\n",
    "\n",
    "acc = history.history['accuracy']\n",
    "val_acc = history.history['val_accuracy']\n",
    "loss = history.history['loss']\n",
    "val_loss = history.history['val_loss']\n",
    "\n",
    "epochs = range(1, len(acc) + 1)\n",
    "\n",
    "plt.plot(epochs, acc, label='Training acc')\n",
    "plt.plot(epochs, val_acc, label='Validation acc')\n",
    "plt.title('Training and validation accuracy')\n",
    "plt.legend()\n",
    "plt.figure()\n",
    "plt.plot(epochs, loss,  label='Training loss')\n",
    "plt.plot(epochs, val_loss, label='Validation loss')\n",
    "plt.title('Training and validation loss')\n",
    "plt.legend()\n",
    "\n",
    "\n",
    "plt.show()"
   ]
  },
  {
   "cell_type": "code",
   "execution_count": 15,
   "metadata": {
    "colab": {},
    "colab_type": "code",
    "id": "ektk3ikXm8mG",
    "outputId": "23aa545d-6139-41c2-8fbb-1598adab9e3e"
   },
   "outputs": [
    {
     "name": "stdout",
     "output_type": "stream",
     "text": [
      "Train on 3000 samples, validate on 5750 samples\n",
      "Epoch 1/3\n",
      "3000/3000 [==============================] - 167s 56ms/sample - loss: 0.0636 - accuracy: 0.9823 - val_loss: 0.0725 - val_accuracy: 0.9803\n",
      "Epoch 2/3\n",
      "3000/3000 [==============================] - 170s 57ms/sample - loss: 0.0377 - accuracy: 0.9890 - val_loss: 0.0610 - val_accuracy: 0.9810\n",
      "Epoch 3/3\n",
      "3000/3000 [==============================] - 175s 58ms/sample - loss: 0.0277 - accuracy: 0.9937 - val_loss: 0.0553 - val_accuracy: 0.9819\n",
      "accuracy: 99.60%\n"
     ]
    },
    {
     "data": {
      "image/png": "[encoded data removed]",
      "text/plain": [
       "<Figure size 432x288 with 1 Axes>"
      ]
     },
     "metadata": {
      "needs_background": "light"
     },
     "output_type": "display_data"
    }
   ],
   "source": [
    "# Third client - Step 4\n",
    "epochs = 30\n",
    "batch_size = 128\n",
    "history = modelEns.fit(X_train[23705:25860], y_train[23705:25860], batch_size=batch_size, epochs=epochs,\n",
    "                              validation_data=(X_val[10140:11060], y_val[10140:11060]))\n",
    "third_score = modelEns.evaluate(X_test[4125:4500], y_test[4125:4500], verbose=0)\n",
    "print(\"%s: %.2f%%\" % (modelEns.metrics_names[1], third_score[1]*100))\n",
    "modelEns.save('model3333.h5')\n",
    "\n",
    "acc = history.history['accuracy']\n",
    "val_acc = history.history['val_accuracy']\n",
    "loss = history.history['loss']\n",
    "val_loss = history.history['val_loss']\n",
    "\n",
    "epochs = range(1, len(acc) + 1)\n",
    "\n",
    "plt.plot(epochs, acc, label='Training acc')\n",
    "plt.plot(epochs, val_acc, label='Validation acc')\n",
    "plt.title('Training and validation accuracy')\n",
    "plt.legend()\n",
    "plt.figure()\n",
    "plt.plot(epochs, loss,  label='Training loss')\n",
    "plt.plot(epochs, val_loss, label='Validation loss')\n",
    "plt.title('Training and validation loss')\n",
    "plt.legend()\n",
    "\n",
    "\n",
    "plt.show()"
   ]
  },
  {
   "cell_type": "code",
   "execution_count": 16,
   "metadata": {
    "colab": {},
    "colab_type": "code",
    "id": "RBJjf5c7m8mI",
    "outputId": "9a967a37-5f2d-495b-c7fd-2aaaf58b5a80"
   },
   "outputs": [
    {
     "name": "stdout",
     "output_type": "stream",
     "text": [
      "Train on 3000 samples, validate on 750 samples\n",
      "Epoch 1/3\n",
      "3000/3000 [==============================] - 120s 40ms/sample - loss: 0.0478 - accuracy: 0.9873 - val_loss: 0.1069 - val_accuracy: 0.9867\n",
      "Epoch 2/3\n",
      "3000/3000 [==============================] - 122s 41ms/sample - loss: 0.0297 - accuracy: 0.9920 - val_loss: 0.0761 - val_accuracy: 0.9840\n",
      "Epoch 3/3\n",
      "3000/3000 [==============================] - 125s 42ms/sample - loss: 0.0190 - accuracy: 0.9953 - val_loss: 0.0740 - val_accuracy: 0.9893\n",
      "accuracy: 98.00%\n"
     ]
    },
    {
     "data": {
      "image/png": "[encoded data removed]",
      "text/plain": [
       "<Figure size 432x288 with 1 Axes>"
      ]
     },
     "metadata": {
      "needs_background": "light"
     },
     "output_type": "display_data"
    }
   ],
   "source": [
    "# Fourth client - Step 4\n",
    "epochs = 30\n",
    "batch_size = 128\n",
    "history = modelEns.fit(X_train[32325:34480], y_train[32325:34480], batch_size=batch_size, epochs=epochs,\n",
    "                              validation_data=(X_val[13830:14750], y_val[13830:14750]))\n",
    "fourth_score = modelEns.evaluate(X_test[5625:6000], y_test[5625:6000], verbose=0)\n",
    "print(\"%s: %.2f%%\" % (modelEns.metrics_names[1], fourth_score[1]*100))\n",
    "modelEns.save('model4444.h5')\n",
    "\n",
    "acc = history.history['accuracy']\n",
    "val_acc = history.history['val_accuracy']\n",
    "loss = history.history['loss']\n",
    "val_loss = history.history['val_loss']\n",
    "\n",
    "epochs = range(1, len(acc) + 1)\n",
    "\n",
    "plt.plot(epochs, acc, label='Training acc')\n",
    "plt.plot(epochs, val_acc, label='Validation acc')\n",
    "plt.title('Training and validation accuracy')\n",
    "plt.legend()\n",
    "plt.figure()\n",
    "plt.plot(epochs, loss,  label='Training loss')\n",
    "plt.plot(epochs, val_loss, label='Validation loss')\n",
    "plt.title('Training and validation loss')\n",
    "plt.legend()\n",
    "\n",
    "\n",
    "plt.show()"
   ]
  },
  {
   "cell_type": "code",
   "execution_count": 12,
   "metadata": {
    "colab": {},
    "colab_type": "code",
    "id": "2Fmuj2Zwm8mJ"
   },
   "outputs": [],
   "source": [
    "# Fourth model aggregation\n",
    "M1 = tf.keras.models.load_model('model1111.h5')\n",
    "M2 = tf.keras.models.load_model('model2222.h5')\n",
    "M3 = tf.keras.models.load_model('model3333.h5')\n",
    "M4 = tf.keras.models.load_model('model4444.h5')\n",
    "M1._name = 'hello1111'\n",
    "M2._name = 'hello2222'\n",
    "M3._name = 'hello3333'\n",
    "M4._name = 'hello4444'\n",
    "models = [M1, M2, M3, M4]"
   ]
  },
  {
   "cell_type": "code",
   "execution_count": 13,
   "metadata": {
    "colab": {},
    "colab_type": "code",
    "id": "u73cTyeSm8mL"
   },
   "outputs": [],
   "source": [
    "model_input = Input(shape=models[0].input_shape[1:]) # c*h*w\n",
    "modelEns = ensembleModels(models, model_input)"
   ]
  },
  {
   "cell_type": "code",
   "execution_count": 14,
   "metadata": {
    "colab": {},
    "colab_type": "code",
    "id": "0xi_IrQ6m8mM"
   },
   "outputs": [],
   "source": [
    "sgd = optimizers.SGD(lr=0.01, decay=1e-6, momentum=0.9, nesterov=True)\n",
    "\n",
    "modelEns.compile(\n",
    "    loss='categorical_crossentropy', \n",
    "    optimizer=sgd, \n",
    "    metrics=['accuracy']\n",
    ")"
   ]
  },
  {
   "cell_type": "code",
   "execution_count": 15,
   "metadata": {
    "colab": {},
    "colab_type": "code",
    "id": "fgn8EZOum8mN",
    "outputId": "049909b5-50f1-4118-cc79-f9c1a3bc7302"
   },
   "outputs": [
    {
     "name": "stdout",
     "output_type": "stream",
     "text": [
      "accuracy: 97.40%\n"
     ]
    }
   ],
   "source": [
    "# First Client Evaluation with #3 third model aggregation\n",
    "first_score = modelEns.evaluate(X_test[1125:1500], y_test[1125:1500], verbose=0)\n",
    "print(\"%s: %.2f%%\" % (modelEns.metrics_names[1], first_score[1]*100))"
   ]
  },
  {
   "cell_type": "code",
   "execution_count": 16,
   "metadata": {
    "colab": {},
    "colab_type": "code",
    "id": "X2-jMewim8mO",
    "outputId": "351e9579-de72-47b3-a529-64f0a00f3f7e"
   },
   "outputs": [
    {
     "name": "stdout",
     "output_type": "stream",
     "text": [
      "accuracy: 98.20%\n"
     ]
    }
   ],
   "source": [
    "# Second Client Evaluation with #3 third model aggregation\n",
    "second_score = modelEns.evaluate(X_test[2625:3000], y_test[2625:3000], verbose=0)\n",
    "print(\"%s: %.2f%%\" % (modelEns.metrics_names[1], second_score[1]*100))"
   ]
  },
  {
   "cell_type": "code",
   "execution_count": 17,
   "metadata": {
    "colab": {},
    "colab_type": "code",
    "id": "rrOokINXm8mP",
    "outputId": "0dd8421d-9a04-4b75-a102-897ab6d463a9"
   },
   "outputs": [
    {
     "name": "stdout",
     "output_type": "stream",
     "text": [
      "accuracy: 99.40%\n"
     ]
    }
   ],
   "source": [
    "# Third Client Evaluation with #3 third model aggregation\n",
    "third_score = modelEns.evaluate(X_test[4125:4500], y_test[4125:4500], verbose=0)\n",
    "print(\"%s: %.2f%%\" % (modelEns.metrics_names[1], third_score[1]*100))"
   ]
  },
  {
   "cell_type": "code",
   "execution_count": 18,
   "metadata": {
    "colab": {},
    "colab_type": "code",
    "id": "biBMVb9Sm8mS",
    "outputId": "4e95a436-b2d9-4e6c-b055-309113b2fa72"
   },
   "outputs": [
    {
     "name": "stdout",
     "output_type": "stream",
     "text": [
      "accuracy: 98.20%\n"
     ]
    }
   ],
   "source": [
    "# Fourth Client Evaluation with #3 third model aggregation\n",
    "fourth_score = modelEns.evaluate(X_test[5625:6000], y_test[5625:6000], verbose=0)\n",
    "print(\"%s: %.2f%%\" % (modelEns.metrics_names[1], fourth_score[1]*100))"
   ]
  },
  {
   "cell_type": "code",
   "execution_count": null,
   "metadata": {
    "colab": {},
    "colab_type": "code",
    "id": "t0Ax98v4m8mT"
   },
   "outputs": [],
   "source": []
  }
 ],
 "metadata": {
  "accelerator": "GPU",
  "colab": {
   "collapsed_sections": [],
   "name": "Google Second Model Structure.ipynb",
   "provenance": []
  },
  "kernelspec": {
   "display_name": "Python 3",
   "language": "python",
   "name": "python3"
  },
  "language_info": {
   "codemirror_mode": {
    "name": "ipython",
    "version": 3
   },
   "file_extension": ".py",
   "mimetype": "text/x-python",
   "name": "python",
   "nbconvert_exporter": "python",
   "pygments_lexer": "ipython3",
   "version": "3.7.3"
  }
 },
 "nbformat": 4,
 "nbformat_minor": 4
}
