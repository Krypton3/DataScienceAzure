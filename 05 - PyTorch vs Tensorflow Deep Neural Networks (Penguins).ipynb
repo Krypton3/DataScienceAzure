{
 "cells": [
  {
   "cell_type": "code",
   "execution_count": 31,
   "metadata": {},
   "outputs": [],
   "source": [
    "import pandas as pd\n",
    "\n",
    "data = pd.read_csv('./penguins.csv')"
   ]
  },
  {
   "cell_type": "code",
   "execution_count": 32,
   "metadata": {},
   "outputs": [
    {
     "data": {
      "text/html": [
       "<div>\n",
       "<style scoped>\n",
       "    .dataframe tbody tr th:only-of-type {\n",
       "        vertical-align: middle;\n",
       "    }\n",
       "\n",
       "    .dataframe tbody tr th {\n",
       "        vertical-align: top;\n",
       "    }\n",
       "\n",
       "    .dataframe thead th {\n",
       "        text-align: right;\n",
       "    }\n",
       "</style>\n",
       "<table border=\"1\" class=\"dataframe\">\n",
       "  <thead>\n",
       "    <tr style=\"text-align: right;\">\n",
       "      <th></th>\n",
       "      <th>CulmenLength</th>\n",
       "      <th>CulmenDepth</th>\n",
       "      <th>FlipperLength</th>\n",
       "      <th>BodyMass</th>\n",
       "      <th>Species</th>\n",
       "    </tr>\n",
       "  </thead>\n",
       "  <tbody>\n",
       "    <tr>\n",
       "      <th>0</th>\n",
       "      <td>39.1</td>\n",
       "      <td>18.7</td>\n",
       "      <td>181.0</td>\n",
       "      <td>3750.0</td>\n",
       "      <td>0</td>\n",
       "    </tr>\n",
       "    <tr>\n",
       "      <th>1</th>\n",
       "      <td>39.5</td>\n",
       "      <td>17.4</td>\n",
       "      <td>186.0</td>\n",
       "      <td>3800.0</td>\n",
       "      <td>0</td>\n",
       "    </tr>\n",
       "    <tr>\n",
       "      <th>2</th>\n",
       "      <td>40.3</td>\n",
       "      <td>18.0</td>\n",
       "      <td>195.0</td>\n",
       "      <td>3250.0</td>\n",
       "      <td>0</td>\n",
       "    </tr>\n",
       "    <tr>\n",
       "      <th>3</th>\n",
       "      <td>NaN</td>\n",
       "      <td>NaN</td>\n",
       "      <td>NaN</td>\n",
       "      <td>NaN</td>\n",
       "      <td>0</td>\n",
       "    </tr>\n",
       "    <tr>\n",
       "      <th>4</th>\n",
       "      <td>36.7</td>\n",
       "      <td>19.3</td>\n",
       "      <td>193.0</td>\n",
       "      <td>3450.0</td>\n",
       "      <td>0</td>\n",
       "    </tr>\n",
       "    <tr>\n",
       "      <th>5</th>\n",
       "      <td>39.3</td>\n",
       "      <td>20.6</td>\n",
       "      <td>190.0</td>\n",
       "      <td>3650.0</td>\n",
       "      <td>0</td>\n",
       "    </tr>\n",
       "    <tr>\n",
       "      <th>6</th>\n",
       "      <td>38.9</td>\n",
       "      <td>17.8</td>\n",
       "      <td>181.0</td>\n",
       "      <td>3625.0</td>\n",
       "      <td>0</td>\n",
       "    </tr>\n",
       "    <tr>\n",
       "      <th>7</th>\n",
       "      <td>39.2</td>\n",
       "      <td>19.6</td>\n",
       "      <td>195.0</td>\n",
       "      <td>4675.0</td>\n",
       "      <td>0</td>\n",
       "    </tr>\n",
       "    <tr>\n",
       "      <th>8</th>\n",
       "      <td>34.1</td>\n",
       "      <td>18.1</td>\n",
       "      <td>193.0</td>\n",
       "      <td>3475.0</td>\n",
       "      <td>0</td>\n",
       "    </tr>\n",
       "    <tr>\n",
       "      <th>9</th>\n",
       "      <td>42.0</td>\n",
       "      <td>20.2</td>\n",
       "      <td>190.0</td>\n",
       "      <td>4250.0</td>\n",
       "      <td>0</td>\n",
       "    </tr>\n",
       "  </tbody>\n",
       "</table>\n",
       "</div>"
      ],
      "text/plain": [
       "   CulmenLength  CulmenDepth  FlipperLength  BodyMass  Species\n",
       "0          39.1         18.7          181.0    3750.0        0\n",
       "1          39.5         17.4          186.0    3800.0        0\n",
       "2          40.3         18.0          195.0    3250.0        0\n",
       "3           NaN          NaN            NaN       NaN        0\n",
       "4          36.7         19.3          193.0    3450.0        0\n",
       "5          39.3         20.6          190.0    3650.0        0\n",
       "6          38.9         17.8          181.0    3625.0        0\n",
       "7          39.2         19.6          195.0    4675.0        0\n",
       "8          34.1         18.1          193.0    3475.0        0\n",
       "9          42.0         20.2          190.0    4250.0        0"
      ]
     },
     "execution_count": 32,
     "metadata": {},
     "output_type": "execute_result"
    }
   ],
   "source": [
    "data.head(10)"
   ]
  },
  {
   "cell_type": "code",
   "execution_count": 3,
   "metadata": {},
   "outputs": [
    {
     "data": {
      "text/plain": [
       "CulmenLength     2\n",
       "CulmenDepth      2\n",
       "FlipperLength    2\n",
       "BodyMass         2\n",
       "Species          0\n",
       "dtype: int64"
      ]
     },
     "execution_count": 3,
     "metadata": {},
     "output_type": "execute_result"
    }
   ],
   "source": [
    "data.isnull().sum()"
   ]
  },
  {
   "cell_type": "markdown",
   "metadata": {},
   "source": [
    "# Let's drop em"
   ]
  },
  {
   "cell_type": "code",
   "execution_count": 4,
   "metadata": {},
   "outputs": [],
   "source": [
    "data = data.dropna()"
   ]
  },
  {
   "cell_type": "code",
   "execution_count": 5,
   "metadata": {},
   "outputs": [
    {
     "data": {
      "text/plain": [
       "CulmenLength     0\n",
       "CulmenDepth      0\n",
       "FlipperLength    0\n",
       "BodyMass         0\n",
       "Species          0\n",
       "dtype: int64"
      ]
     },
     "execution_count": 5,
     "metadata": {},
     "output_type": "execute_result"
    }
   ],
   "source": [
    "data.isnull().sum()"
   ]
  },
  {
   "cell_type": "code",
   "execution_count": 6,
   "metadata": {},
   "outputs": [
    {
     "data": {
      "text/plain": [
       "(342, 5)"
      ]
     },
     "execution_count": 6,
     "metadata": {},
     "output_type": "execute_result"
    }
   ],
   "source": [
    "data.shape"
   ]
  },
  {
   "cell_type": "markdown",
   "metadata": {},
   "source": [
    "# Normalize the data"
   ]
  },
  {
   "cell_type": "code",
   "execution_count": 7,
   "metadata": {},
   "outputs": [],
   "source": [
    "data['FlipperLength'] = data['FlipperLength']/10\n",
    "data['BodyMass'] = data['BodyMass']/100"
   ]
  },
  {
   "cell_type": "code",
   "execution_count": 8,
   "metadata": {},
   "outputs": [],
   "source": [
    "# too low datasets; let's make it bigger\n",
    "for i in range(1,3):\n",
    "    data = data.append(data)"
   ]
  },
  {
   "cell_type": "code",
   "execution_count": 9,
   "metadata": {},
   "outputs": [
    {
     "data": {
      "text/plain": [
       "(1368, 5)"
      ]
     },
     "execution_count": 9,
     "metadata": {},
     "output_type": "execute_result"
    }
   ],
   "source": [
    "data.shape"
   ]
  },
  {
   "cell_type": "markdown",
   "metadata": {},
   "source": [
    "# Let's build pyTorch Model"
   ]
  },
  {
   "cell_type": "code",
   "execution_count": 10,
   "metadata": {},
   "outputs": [
    {
     "name": "stdout",
     "output_type": "stream",
     "text": [
      "Training Set: 957, Test Set: 411 \n",
      "\n"
     ]
    }
   ],
   "source": [
    "from sklearn.model_selection import train_test_split\n",
    "\n",
    "features = ['CulmenLength', 'CulmenDepth', 'FlipperLength', 'BodyMass']\n",
    "labels = 'Species'\n",
    "\n",
    "x_train, x_test, y_train, y_test = train_test_split(data[features].values, data[labels].values, test_size=0.30, random_state=0)\n",
    "\n",
    "print ('Training Set: %d, Test Set: %d \\n' % (len(x_train), len(x_test)))"
   ]
  },
  {
   "cell_type": "code",
   "execution_count": 11,
   "metadata": {},
   "outputs": [
    {
     "name": "stdout",
     "output_type": "stream",
     "text": [
      "Looking in links: https://download.pytorch.org/whl/torch_stable.html\n",
      "Requirement already satisfied: torch==1.7.1+cpu in c:\\users\\user\\anaconda3\\lib\\site-packages (1.7.1+cpu)\n",
      "Requirement already satisfied: torchvision==0.8.2+cpu in c:\\users\\user\\anaconda3\\lib\\site-packages (0.8.2+cpu)\n",
      "Requirement already satisfied: torchaudio==0.7.2 in c:\\users\\user\\anaconda3\\lib\\site-packages (0.7.2)\n",
      "Requirement already satisfied: numpy in c:\\users\\user\\anaconda3\\lib\\site-packages (from torch==1.7.1+cpu) (1.16.0)\n",
      "Requirement already satisfied: typing-extensions in c:\\users\\user\\anaconda3\\lib\\site-packages (from torch==1.7.1+cpu) (3.10.0.0)\n",
      "Requirement already satisfied: pillow>=4.1.1 in c:\\users\\user\\anaconda3\\lib\\site-packages (from torchvision==0.8.2+cpu) (5.4.1)\n"
     ]
    }
   ],
   "source": [
    "# install and import pytorch libraries\n",
    "!pip install torch==1.7.1+cpu torchvision==0.8.2+cpu torchaudio==0.7.2 -f https://download.pytorch.org/whl/torch_stable.html"
   ]
  },
  {
   "cell_type": "code",
   "execution_count": 12,
   "metadata": {},
   "outputs": [
    {
     "name": "stdout",
     "output_type": "stream",
     "text": [
      "Libraries imported - ready to use PyTorch 1.7.1+cpu\n"
     ]
    }
   ],
   "source": [
    "import torch\n",
    "import torch.nn as nn\n",
    "import torch.utils.data as td\n",
    "\n",
    "# Set random seed for reproducability\n",
    "torch.manual_seed(0)\n",
    "\n",
    "print(\"Libraries imported - ready to use PyTorch\", torch.__version__)"
   ]
  },
  {
   "cell_type": "markdown",
   "metadata": {},
   "source": [
    "# Prepare the data for PyTorch"
   ]
  },
  {
   "cell_type": "code",
   "execution_count": 13,
   "metadata": {},
   "outputs": [],
   "source": [
    "# Train data\n",
    "train_x = torch.Tensor(x_train).float()\n",
    "train_y = torch.Tensor(y_train).long()\n",
    "train_ds = td.TensorDataset(train_x, train_y)\n",
    "train_loader = td.DataLoader(train_ds, batch_size=20, shuffle=False, num_workers=1)\n",
    "\n",
    "# test data\n",
    "test_x = torch.Tensor(x_test).float()\n",
    "test_y = torch.Tensor(y_test).long()\n",
    "test_ds = td.TensorDataset(test_x, test_y)\n",
    "test_loader = td.DataLoader(test_ds, batch_size=20, shuffle=False, num_workers=1)"
   ]
  },
  {
   "cell_type": "markdown",
   "metadata": {},
   "source": [
    "# Neural Network Setup"
   ]
  },
  {
   "cell_type": "code",
   "execution_count": 14,
   "metadata": {},
   "outputs": [
    {
     "name": "stdout",
     "output_type": "stream",
     "text": [
      "NModel(\n",
      "  (fc1): Linear(in_features=4, out_features=10, bias=True)\n",
      "  (fc2): Linear(in_features=10, out_features=10, bias=True)\n",
      "  (fc3): Linear(in_features=10, out_features=3, bias=True)\n",
      ")\n"
     ]
    }
   ],
   "source": [
    "# number of neurons in each laeyss\n",
    "\n",
    "NN = 10\n",
    "\n",
    "class NModel(nn.Module):\n",
    "    def __init__(self):\n",
    "        super(NModel, self).__init__()\n",
    "        self.fc1 = nn.Linear(len(features), NN)\n",
    "        self.fc2 = nn.Linear(NN, NN)\n",
    "        self.fc3 = nn.Linear(NN, 3)\n",
    "        \n",
    "    def forward(self, x):\n",
    "        x = torch.relu(self.fc1(x))\n",
    "        x = torch.relu(self.fc2(x))\n",
    "        x = torch.softmax(self.fc3(x), dim=1)\n",
    "        \n",
    "        return x\n",
    "model = NModel()\n",
    "print(model)"
   ]
  },
  {
   "cell_type": "markdown",
   "metadata": {},
   "source": [
    "# Train and Test"
   ]
  },
  {
   "cell_type": "code",
   "execution_count": 15,
   "metadata": {},
   "outputs": [
    {
     "name": "stdout",
     "output_type": "stream",
     "text": [
      "Epoch: 1\n",
      "Training set: Average loss: 1.091498\n",
      "Validation set: Average loss: 1.025534, Accuracy: 246/411 (60%)\n",
      "\n",
      "Epoch: 2\n",
      "Training set: Average loss: 1.000949\n",
      "Validation set: Average loss: 0.982450, Accuracy: 314/411 (76%)\n",
      "\n",
      "Epoch: 3\n",
      "Training set: Average loss: 0.953905\n",
      "Validation set: Average loss: 0.937909, Accuracy: 321/411 (78%)\n",
      "\n",
      "Epoch: 4\n",
      "Training set: Average loss: 0.906742\n",
      "Validation set: Average loss: 0.893166, Accuracy: 322/411 (78%)\n",
      "\n",
      "Epoch: 5\n",
      "Training set: Average loss: 0.860262\n",
      "Validation set: Average loss: 0.853027, Accuracy: 322/411 (78%)\n",
      "\n",
      "Epoch: 6\n",
      "Training set: Average loss: 0.818910\n",
      "Validation set: Average loss: 0.816758, Accuracy: 323/411 (79%)\n",
      "\n",
      "Epoch: 7\n",
      "Training set: Average loss: 0.783247\n",
      "Validation set: Average loss: 0.782575, Accuracy: 334/411 (81%)\n",
      "\n",
      "Epoch: 8\n",
      "Training set: Average loss: 0.750349\n",
      "Validation set: Average loss: 0.748868, Accuracy: 353/411 (86%)\n",
      "\n",
      "Epoch: 9\n",
      "Training set: Average loss: 0.719538\n",
      "Validation set: Average loss: 0.718091, Accuracy: 373/411 (91%)\n",
      "\n",
      "Epoch: 10\n",
      "Training set: Average loss: 0.692613\n",
      "Validation set: Average loss: 0.692608, Accuracy: 393/411 (96%)\n",
      "\n",
      "Epoch: 11\n",
      "Training set: Average loss: 0.670806\n",
      "Validation set: Average loss: 0.672144, Accuracy: 393/411 (96%)\n",
      "\n",
      "Epoch: 12\n",
      "Training set: Average loss: 0.653745\n",
      "Validation set: Average loss: 0.656235, Accuracy: 394/411 (96%)\n",
      "\n",
      "Epoch: 13\n",
      "Training set: Average loss: 0.640456\n",
      "Validation set: Average loss: 0.643868, Accuracy: 397/411 (97%)\n",
      "\n",
      "Epoch: 14\n",
      "Training set: Average loss: 0.630051\n",
      "Validation set: Average loss: 0.634227, Accuracy: 397/411 (97%)\n",
      "\n",
      "Epoch: 15\n",
      "Training set: Average loss: 0.621806\n",
      "Validation set: Average loss: 0.626200, Accuracy: 397/411 (97%)\n",
      "\n",
      "Epoch: 16\n",
      "Training set: Average loss: 0.615029\n",
      "Validation set: Average loss: 0.619777, Accuracy: 397/411 (97%)\n",
      "\n",
      "Epoch: 17\n",
      "Training set: Average loss: 0.609496\n",
      "Validation set: Average loss: 0.614362, Accuracy: 397/411 (97%)\n",
      "\n",
      "Epoch: 18\n",
      "Training set: Average loss: 0.604905\n",
      "Validation set: Average loss: 0.609811, Accuracy: 397/411 (97%)\n",
      "\n",
      "Epoch: 19\n",
      "Training set: Average loss: 0.601028\n",
      "Validation set: Average loss: 0.605904, Accuracy: 397/411 (97%)\n",
      "\n",
      "Epoch: 20\n",
      "Training set: Average loss: 0.597696\n",
      "Validation set: Average loss: 0.602500, Accuracy: 400/411 (97%)\n",
      "\n",
      "Epoch: 21\n",
      "Training set: Average loss: 0.594816\n",
      "Validation set: Average loss: 0.599624, Accuracy: 400/411 (97%)\n",
      "\n",
      "Epoch: 22\n",
      "Training set: Average loss: 0.592313\n",
      "Validation set: Average loss: 0.597009, Accuracy: 400/411 (97%)\n",
      "\n",
      "Epoch: 23\n",
      "Training set: Average loss: 0.590136\n",
      "Validation set: Average loss: 0.594744, Accuracy: 400/411 (97%)\n",
      "\n",
      "Epoch: 24\n",
      "Training set: Average loss: 0.588191\n",
      "Validation set: Average loss: 0.592705, Accuracy: 402/411 (98%)\n",
      "\n",
      "Epoch: 25\n",
      "Training set: Average loss: 0.586471\n",
      "Validation set: Average loss: 0.590853, Accuracy: 402/411 (98%)\n",
      "\n",
      "Epoch: 26\n",
      "Training set: Average loss: 0.584909\n",
      "Validation set: Average loss: 0.589179, Accuracy: 402/411 (98%)\n",
      "\n",
      "Epoch: 27\n",
      "Training set: Average loss: 0.583516\n",
      "Validation set: Average loss: 0.587716, Accuracy: 402/411 (98%)\n",
      "\n",
      "Epoch: 28\n",
      "Training set: Average loss: 0.582258\n",
      "Validation set: Average loss: 0.586354, Accuracy: 402/411 (98%)\n",
      "\n",
      "Epoch: 29\n",
      "Training set: Average loss: 0.581106\n",
      "Validation set: Average loss: 0.585135, Accuracy: 402/411 (98%)\n",
      "\n",
      "Epoch: 30\n",
      "Training set: Average loss: 0.580057\n",
      "Validation set: Average loss: 0.584025, Accuracy: 402/411 (98%)\n",
      "\n",
      "Epoch: 31\n",
      "Training set: Average loss: 0.579082\n",
      "Validation set: Average loss: 0.582968, Accuracy: 402/411 (98%)\n",
      "\n",
      "Epoch: 32\n",
      "Training set: Average loss: 0.578188\n",
      "Validation set: Average loss: 0.582009, Accuracy: 402/411 (98%)\n",
      "\n",
      "Epoch: 33\n",
      "Training set: Average loss: 0.577365\n",
      "Validation set: Average loss: 0.581083, Accuracy: 404/411 (98%)\n",
      "\n",
      "Epoch: 34\n",
      "Training set: Average loss: 0.576596\n",
      "Validation set: Average loss: 0.580243, Accuracy: 404/411 (98%)\n",
      "\n",
      "Epoch: 35\n",
      "Training set: Average loss: 0.575884\n",
      "Validation set: Average loss: 0.579427, Accuracy: 404/411 (98%)\n",
      "\n",
      "Epoch: 36\n",
      "Training set: Average loss: 0.575213\n",
      "Validation set: Average loss: 0.578680, Accuracy: 404/411 (98%)\n",
      "\n",
      "Epoch: 37\n",
      "Training set: Average loss: 0.574589\n",
      "Validation set: Average loss: 0.577967, Accuracy: 405/411 (99%)\n",
      "\n",
      "Epoch: 38\n",
      "Training set: Average loss: 0.574000\n",
      "Validation set: Average loss: 0.577299, Accuracy: 407/411 (99%)\n",
      "\n",
      "Epoch: 39\n",
      "Training set: Average loss: 0.573451\n",
      "Validation set: Average loss: 0.576663, Accuracy: 407/411 (99%)\n",
      "\n",
      "Epoch: 40\n",
      "Training set: Average loss: 0.572933\n",
      "Validation set: Average loss: 0.576061, Accuracy: 407/411 (99%)\n",
      "\n",
      "Epoch: 41\n",
      "Training set: Average loss: 0.572443\n",
      "Validation set: Average loss: 0.575482, Accuracy: 407/411 (99%)\n",
      "\n",
      "Epoch: 42\n",
      "Training set: Average loss: 0.571979\n",
      "Validation set: Average loss: 0.574928, Accuracy: 407/411 (99%)\n",
      "\n",
      "Epoch: 43\n",
      "Training set: Average loss: 0.571539\n",
      "Validation set: Average loss: 0.574397, Accuracy: 408/411 (99%)\n",
      "\n",
      "Epoch: 44\n",
      "Training set: Average loss: 0.571120\n",
      "Validation set: Average loss: 0.573888, Accuracy: 408/411 (99%)\n",
      "\n",
      "Epoch: 45\n",
      "Training set: Average loss: 0.570724\n",
      "Validation set: Average loss: 0.573403, Accuracy: 408/411 (99%)\n",
      "\n",
      "Epoch: 46\n",
      "Training set: Average loss: 0.570347\n",
      "Validation set: Average loss: 0.572939, Accuracy: 408/411 (99%)\n",
      "\n",
      "Epoch: 47\n",
      "Training set: Average loss: 0.569989\n",
      "Validation set: Average loss: 0.572491, Accuracy: 408/411 (99%)\n",
      "\n",
      "Epoch: 48\n",
      "Training set: Average loss: 0.569646\n",
      "Validation set: Average loss: 0.572059, Accuracy: 408/411 (99%)\n",
      "\n",
      "Epoch: 49\n",
      "Training set: Average loss: 0.569319\n",
      "Validation set: Average loss: 0.571643, Accuracy: 408/411 (99%)\n",
      "\n",
      "Epoch: 50\n",
      "Training set: Average loss: 0.569007\n",
      "Validation set: Average loss: 0.571244, Accuracy: 408/411 (99%)\n",
      "\n"
     ]
    }
   ],
   "source": [
    "def train(model, data_loader, optimizer):\n",
    "    # Set the model to training mode\n",
    "    model.train()\n",
    "    train_loss = 0\n",
    "    \n",
    "    for batch, tensor in enumerate(data_loader):\n",
    "        data, target = tensor\n",
    "        #feedforward\n",
    "        optimizer.zero_grad()\n",
    "        out = model(data)\n",
    "        loss = loss_criteria(out, target)\n",
    "        train_loss += loss.item()\n",
    "\n",
    "        # backpropagate\n",
    "        loss.backward()\n",
    "        optimizer.step()\n",
    "\n",
    "    #Return average loss\n",
    "    avg_loss = train_loss / (batch+1)\n",
    "    print('Training set: Average loss: {:.6f}'.format(avg_loss))\n",
    "    return avg_loss\n",
    "           \n",
    "            \n",
    "def test(model, data_loader):\n",
    "    # Switch the model to evaluation mode (so we don't backpropagate)\n",
    "    model.eval()\n",
    "    test_loss = 0\n",
    "    correct = 0\n",
    "\n",
    "    with torch.no_grad():\n",
    "        batch_count = 0\n",
    "        for batch, tensor in enumerate(data_loader):\n",
    "            batch_count += 1\n",
    "            data, target = tensor\n",
    "            # Get the predictions\n",
    "            out = model(data)\n",
    "\n",
    "            # calculate the loss\n",
    "            test_loss += loss_criteria(out, target).item()\n",
    "\n",
    "            # Calculate the accuracy\n",
    "            _, predicted = torch.max(out.data, 1)\n",
    "            correct += torch.sum(target==predicted).item()\n",
    "            \n",
    "    # Calculate the average loss and total accuracy for this epoch\n",
    "    avg_loss = test_loss/batch_count\n",
    "    print('Validation set: Average loss: {:.6f}, Accuracy: {}/{} ({:.0f}%)\\n'.format(\n",
    "        avg_loss, correct, len(data_loader.dataset),\n",
    "        100. * correct / len(data_loader.dataset)))\n",
    "    \n",
    "    # return average loss for the epoch\n",
    "    return avg_loss\n",
    "\n",
    "# Specify the loss criteria (CrossEntropyLoss for multi-class classification)\n",
    "loss_criteria = nn.CrossEntropyLoss()\n",
    "\n",
    "# Use an \"Adam\" optimizer to adjust weights\n",
    "# (see https://pytorch.org/docs/stable/optim.html#algorithms for details of supported algorithms)\n",
    "learning_rate = 0.001\n",
    "optimizer = torch.optim.Adam(model.parameters(), lr=learning_rate)\n",
    "optimizer.zero_grad()\n",
    "\n",
    "# We'll track metrics for each epoch in these arrays\n",
    "epoch_nums = []\n",
    "training_loss = []\n",
    "validation_loss = []\n",
    "\n",
    "# Train over 50 epochs\n",
    "epochs = 50\n",
    "for epoch in range(1, epochs + 1):\n",
    "\n",
    "    # print the epoch number\n",
    "    print('Epoch: {}'.format(epoch))\n",
    "    \n",
    "    # Feed training data into the model to optimize the weights\n",
    "    train_loss = train(model, train_loader, optimizer)\n",
    "    \n",
    "    # Feed the test data into the model to check its performance\n",
    "    test_loss = test(model, test_loader)\n",
    "    \n",
    "    # Log the metrics for this epoch\n",
    "    epoch_nums.append(epoch)\n",
    "    training_loss.append(train_loss)\n",
    "    validation_loss.append(test_loss)"
   ]
  },
  {
   "cell_type": "code",
   "execution_count": 16,
   "metadata": {},
   "outputs": [
    {
     "data": {
      "image/png": "[encoded data removed]",
      "text/plain": [
       "<Figure size 432x288 with 1 Axes>"
      ]
     },
     "metadata": {
      "needs_background": "light"
     },
     "output_type": "display_data"
    }
   ],
   "source": [
    "%matplotlib inline\n",
    "from matplotlib import pyplot as plt\n",
    "\n",
    "plt.plot(epoch_nums, training_loss)\n",
    "plt.plot(epoch_nums, validation_loss)\n",
    "plt.xlabel('epoch')\n",
    "plt.ylabel('loss')\n",
    "plt.legend(['training', 'validation'], loc='upper right')\n",
    "plt.show()"
   ]
  },
  {
   "cell_type": "markdown",
   "metadata": {},
   "source": [
    "# model weights and biases"
   ]
  },
  {
   "cell_type": "code",
   "execution_count": 17,
   "metadata": {},
   "outputs": [
    {
     "name": "stdout",
     "output_type": "stream",
     "text": [
      "fc1.weight \n",
      " [[-0.00374341  0.2682218  -0.41152257 -0.3679695 ]\n",
      " [-0.20487966 -0.28398493  0.13597898  0.6053104 ]\n",
      " [-0.04437202  0.13230628 -0.15110654 -0.09828269]\n",
      " [-0.47767425 -0.33114105 -0.20611155  0.01852179]\n",
      " [ 0.17907079  0.28123733 -0.35748705 -0.23587279]\n",
      " [ 0.40088734  0.382148   -0.20181231  0.3537034 ]\n",
      " [-0.08059168  0.05290705  0.4527381  -0.46383518]\n",
      " [-0.35555413 -0.16605727 -0.23530953  0.38971528]\n",
      " [-0.32408983 -0.23016644 -0.34932023 -0.4682805 ]\n",
      " [-0.43653095  0.80248505  0.29239044  0.17577983]]\n",
      "fc1.bias \n",
      " [ 0.02629578 -0.26949045  0.08459234 -0.46684736 -0.3798124  -0.4262236\n",
      "  0.31546897  0.25337356 -0.22174752  0.2345465 ]\n",
      "fc2.weight \n",
      " [[ 2.02246875e-01  3.14372510e-01  1.25505149e-01  4.27201092e-02\n",
      "   2.12026387e-01 -1.86195642e-01  5.89271486e-02 -2.45173126e-01\n",
      "  -2.19173074e-01 -1.63358063e-01]\n",
      " [ 1.43084526e-01  1.60798699e-01 -1.87318310e-01  9.55346525e-02\n",
      "   1.92188621e-01  1.52368024e-01  1.20740533e-02  4.16618437e-02\n",
      "   1.96180314e-01  9.25334394e-01]\n",
      " [-2.43692577e-01 -1.43560484e-01  1.24280632e-01  2.62010306e-01\n",
      "   2.59306699e-01  3.23746145e-01  6.29339218e-02 -2.45525643e-01\n",
      "   2.90905833e-02 -6.68823123e-01]\n",
      " [-2.94709772e-01  5.11151612e-01  2.40446895e-01 -3.15446049e-01\n",
      "   5.91889918e-02 -1.04206558e-02 -5.20388186e-02 -1.01968892e-01\n",
      "   1.21607333e-01 -4.82648820e-01]\n",
      " [ 1.15926355e-01  1.59918934e-01  2.26378471e-01  1.18241072e-01\n",
      "  -3.12981755e-01 -2.05135971e-01  1.57897264e-01  6.61869049e-02\n",
      "  -2.46684223e-01 -1.82090104e-01]\n",
      " [ 2.97491044e-01  5.08512676e-01 -1.37883261e-01 -7.95897096e-02\n",
      "  -3.19968253e-01 -9.41922441e-02 -2.38138139e-01 -2.13026911e-01\n",
      "  -1.74240172e-02 -3.14111978e-01]\n",
      " [-1.29504845e-01  1.87642485e-01 -1.92436963e-01  2.86935598e-01\n",
      "   2.16710836e-01 -2.66669482e-01 -7.87041336e-02  1.42690241e-02\n",
      "   4.61379588e-02  7.50010908e-02]\n",
      " [ 1.24096721e-01  1.89420879e-02 -1.54296622e-01  1.49635494e-01\n",
      "  -3.03341120e-01 -1.87430307e-01 -7.91612566e-02 -1.54038772e-01\n",
      "  -1.10627025e-01 -2.59187132e-01]\n",
      " [-6.72664344e-02  3.37419212e-01 -2.06011564e-01 -1.62286162e-02\n",
      "   2.08991051e-01 -1.28818750e-01  8.78867507e-03  8.23016744e-04\n",
      "   6.39986098e-02  2.39946589e-01]\n",
      " [ 2.99545556e-01  2.00822324e-01  3.00230891e-01 -2.28701234e-02\n",
      "  -2.84074187e-01 -1.49916381e-01  2.15321153e-01 -2.04995275e-03\n",
      "  -1.57179862e-01 -2.42329061e-01]]\n",
      "fc2.bias \n",
      " [-0.2959424   0.13159421 -0.27384382  0.07626942  0.17096573 -0.4653062\n",
      "  0.19725719 -0.24745122 -0.09499434 -0.1282217 ]\n",
      "fc3.weight \n",
      " [[-0.06091028  0.32780746 -0.9960096  -1.0807507  -0.04948315 -0.3577183\n",
      "  -0.14365433  0.11912274  0.19421846 -0.02134135]\n",
      " [ 0.27809682 -0.47728527  0.09838016  0.83235973 -0.2853832   0.9088981\n",
      "  -0.03649095 -0.14116624  0.38886335 -0.25554216]\n",
      " [ 0.03393281 -0.19362502  1.0301037  -0.24135342  0.15194914 -0.6721673\n",
      "  -0.07604478 -0.06650442 -1.1390747   0.17134616]]\n",
      "fc3.bias \n",
      " [ 0.5242965  -0.09666859 -0.13340557]\n"
     ]
    }
   ],
   "source": [
    "for param_tensor in model.state_dict():\n",
    "    print(param_tensor, \"\\n\", model.state_dict()[param_tensor].numpy())"
   ]
  },
  {
   "cell_type": "markdown",
   "metadata": {},
   "source": [
    "# How good is the model?"
   ]
  },
  {
   "cell_type": "code",
   "execution_count": 19,
   "metadata": {},
   "outputs": [
    {
     "data": {
      "image/png": "[encoded data removed]",
      "text/plain": [
       "<Figure size 432x288 with 2 Axes>"
      ]
     },
     "metadata": {
      "needs_background": "light"
     },
     "output_type": "display_data"
    }
   ],
   "source": [
    "from sklearn.metrics import confusion_matrix\n",
    "import numpy as np\n",
    "\n",
    "# Set the model to evaluate mode\n",
    "model.eval()\n",
    "\n",
    "# Get predictions for the test data\n",
    "x = torch.Tensor(x_test).float()\n",
    "_, predicted = torch.max(model(x).data, 1)\n",
    "\n",
    "# Plot the confusion matrix\n",
    "penguin_classes = ['Adelie', 'Gentoo', 'Chinstrap']\n",
    "\n",
    "cm = confusion_matrix(y_test, predicted.numpy())\n",
    "plt.imshow(cm, interpolation=\"nearest\", cmap=plt.cm.Blues)\n",
    "plt.colorbar()\n",
    "tick_marks = np.arange(len(penguin_classes))\n",
    "plt.xticks(tick_marks, penguin_classes, rotation=45)\n",
    "plt.yticks(tick_marks, penguin_classes)\n",
    "plt.xlabel(\"Actual Species\")\n",
    "plt.ylabel(\"Predicted Species\")\n",
    "plt.show()"
   ]
  },
  {
   "cell_type": "markdown",
   "metadata": {},
   "source": [
    "# Tensorflow Version"
   ]
  },
  {
   "cell_type": "code",
   "execution_count": 21,
   "metadata": {},
   "outputs": [],
   "source": [
    "import pandas as pd\n",
    "\n",
    "data = pd.read_csv('./penguins.csv').dropna()\n",
    "\n",
    "data['FlipperLength'] = data['FlipperLength']/10\n",
    "data['BodyMass'] = data['BodyMass']/100\n",
    "\n",
    "for i in range(1,3):\n",
    "    data = data.append(data)"
   ]
  },
  {
   "cell_type": "code",
   "execution_count": 22,
   "metadata": {},
   "outputs": [
    {
     "name": "stdout",
     "output_type": "stream",
     "text": [
      "Training Set: 957, Test Set: 411 \n",
      "\n"
     ]
    }
   ],
   "source": [
    "from sklearn.model_selection import train_test_split\n",
    "\n",
    "features = ['CulmenLength', 'CulmenDepth', 'FlipperLength', 'BodyMass']\n",
    "labels = 'Species'\n",
    "\n",
    "x_train, x_test, y_train, y_test = train_test_split(data[features].values, data[labels].values, test_size=0.30, random_state=0)\n",
    "\n",
    "print ('Training Set: %d, Test Set: %d \\n' % (len(x_train), len(x_test)))"
   ]
  },
  {
   "cell_type": "code",
   "execution_count": 23,
   "metadata": {},
   "outputs": [
    {
     "name": "stdout",
     "output_type": "stream",
     "text": [
      "Collecting tensorflow\n",
      "  Downloading https://files.pythonhosted.org/packages/68/8c/42bbb31a25a708e2e24881724ec7bcea05530492de8b1a2e0d8fe43eb2f6/tensorflow-2.4.1-cp37-cp37m-win_amd64.whl (370.7MB)\n",
      "Collecting tensorboard~=2.4 (from tensorflow)\n",
      "  Downloading https://files.pythonhosted.org/packages/44/f5/7feea02a3fb54d5db827ac4b822a7ba8933826b36de21880518250b8733a/tensorboard-2.5.0-py3-none-any.whl (6.0MB)\n",
      "Collecting opt-einsum~=3.3.0 (from tensorflow)\n",
      "  Downloading https://files.pythonhosted.org/packages/bc/19/404708a7e54ad2798907210462fd950c3442ea51acc8790f3da48d2bee8b/opt_einsum-3.3.0-py3-none-any.whl (65kB)\n",
      "Collecting astunparse~=1.6.3 (from tensorflow)\n",
      "  Downloading https://files.pythonhosted.org/packages/2b/03/13dde6512ad7b4557eb792fbcf0c653af6076b81e5941d36ec61f7ce6028/astunparse-1.6.3-py2.py3-none-any.whl\n",
      "Collecting h5py~=2.10.0 (from tensorflow)\n",
      "  Using cached https://files.pythonhosted.org/packages/a1/6b/7f62017e3f0b32438dd90bdc1ff0b7b1448b6cb04a1ed84f37b6de95cd7b/h5py-2.10.0-cp37-cp37m-win_amd64.whl\n",
      "Collecting typing-extensions~=3.7.4 (from tensorflow)\n",
      "  Using cached https://files.pythonhosted.org/packages/60/7a/e881b5abb54db0e6e671ab088d079c57ce54e8a01a3ca443f561ccadb37e/typing_extensions-3.7.4.3-py3-none-any.whl\n",
      "Collecting wrapt~=1.12.1 (from tensorflow)\n",
      "  Downloading https://files.pythonhosted.org/packages/82/f7/e43cefbe88c5fd371f4cf0cf5eb3feccd07515af9fd6cf7dbf1d1793a797/wrapt-1.12.1.tar.gz\n",
      "Collecting wheel~=0.35 (from tensorflow)\n",
      "  Downloading https://files.pythonhosted.org/packages/65/63/39d04c74222770ed1589c0eaba06c05891801219272420b40311cd60c880/wheel-0.36.2-py2.py3-none-any.whl\n",
      "Collecting numpy~=1.19.2 (from tensorflow)\n",
      "  Downloading https://files.pythonhosted.org/packages/ff/18/60ac053857fb924b0324c81200b59c00317ebaa3c14b7478266b50ffed19/numpy-1.19.5-cp37-cp37m-win_amd64.whl (13.2MB)\n",
      "Requirement already satisfied, skipping upgrade: protobuf>=3.9.2 in c:\\users\\user\\anaconda3\\lib\\site-packages (from tensorflow) (3.10.0)\n",
      "Collecting gast==0.3.3 (from tensorflow)\n",
      "  Downloading https://files.pythonhosted.org/packages/d6/84/759f5dd23fec8ba71952d97bcc7e2c9d7d63bdc582421f3cd4be845f0c98/gast-0.3.3-py2.py3-none-any.whl\n",
      "Requirement already satisfied, skipping upgrade: termcolor~=1.1.0 in c:\\users\\user\\anaconda3\\lib\\site-packages (from tensorflow) (1.1.0)\n",
      "Collecting tensorflow-estimator<2.5.0,>=2.4.0 (from tensorflow)\n",
      "  Downloading https://files.pythonhosted.org/packages/74/7e/622d9849abf3afb81e482ffc170758742e392ee129ce1540611199a59237/tensorflow_estimator-2.4.0-py2.py3-none-any.whl (462kB)\n",
      "Collecting absl-py~=0.10 (from tensorflow)\n",
      "  Downloading https://files.pythonhosted.org/packages/92/c9/ef0fae29182d7a867d203f0eff8296b60da92098cc41db33a434f4be84bf/absl_py-0.12.0-py3-none-any.whl (129kB)\n",
      "Collecting six~=1.15.0 (from tensorflow)\n",
      "  Using cached https://files.pythonhosted.org/packages/ee/ff/48bde5c0f013094d729fe4b0316ba2a24774b3ff1c52d924a8a4cb04078a/six-1.15.0-py2.py3-none-any.whl\n",
      "Collecting flatbuffers~=1.12.0 (from tensorflow)\n",
      "  Downloading https://files.pythonhosted.org/packages/eb/26/712e578c5f14e26ae3314c39a1bdc4eb2ec2f4ddc89b708cf8e0a0d20423/flatbuffers-1.12-py2.py3-none-any.whl\n",
      "Collecting keras-preprocessing~=1.1.2 (from tensorflow)\n",
      "  Downloading https://files.pythonhosted.org/packages/79/4c/7c3275a01e12ef9368a892926ab932b33bb13d55794881e3573482b378a7/Keras_Preprocessing-1.1.2-py2.py3-none-any.whl (42kB)\n",
      "Collecting grpcio~=1.32.0 (from tensorflow)\n",
      "  Downloading https://files.pythonhosted.org/packages/67/5f/bf822211f7f94a2f6d0f8fd3bda3b804d7b24b6d5c84dbc6e6c9df4c74c2/grpcio-1.32.0-cp37-cp37m-win_amd64.whl (2.5MB)\n",
      "Collecting google-pasta~=0.2 (from tensorflow)\n",
      "  Downloading https://files.pythonhosted.org/packages/a3/de/c648ef6835192e6e2cc03f40b19eeda4382c49b5bafb43d88b931c4c74ac/google_pasta-0.2.0-py3-none-any.whl (57kB)\n",
      "Requirement already satisfied, skipping upgrade: requests<3,>=2.21.0 in c:\\users\\user\\anaconda3\\lib\\site-packages (from tensorboard~=2.4->tensorflow) (2.21.0)\n",
      "Requirement already satisfied, skipping upgrade: google-auth-oauthlib<0.5,>=0.4.1 in c:\\users\\user\\anaconda3\\lib\\site-packages (from tensorboard~=2.4->tensorflow) (0.4.1)\n",
      "Requirement already satisfied, skipping upgrade: markdown>=2.6.8 in c:\\users\\user\\anaconda3\\lib\\site-packages (from tensorboard~=2.4->tensorflow) (3.1.1)\n",
      "Requirement already satisfied, skipping upgrade: setuptools>=41.0.0 in c:\\users\\user\\anaconda3\\lib\\site-packages (from tensorboard~=2.4->tensorflow) (41.6.0)\n",
      "Requirement already satisfied, skipping upgrade: werkzeug>=0.11.15 in c:\\users\\user\\anaconda3\\lib\\site-packages (from tensorboard~=2.4->tensorflow) (0.14.1)\n",
      "Requirement already satisfied, skipping upgrade: google-auth<2,>=1.6.3 in c:\\users\\user\\anaconda3\\lib\\site-packages (from tensorboard~=2.4->tensorflow) (1.6.3)\n",
      "Collecting tensorboard-data-server<0.7.0,>=0.6.0 (from tensorboard~=2.4->tensorflow)\n",
      "  Downloading https://files.pythonhosted.org/packages/ff/00/3e8ffeb44502904ace252340ca1f20874e0132599ea0fa8f3d8838a4c148/tensorboard_data_server-0.6.0-py3-none-any.whl\n",
      "Collecting tensorboard-plugin-wit>=1.6.0 (from tensorboard~=2.4->tensorflow)\n",
      "  Downloading https://files.pythonhosted.org/packages/1a/c1/499e600ba0c618b451cd9c425ae1c177249940a2086316552fee7d86c954/tensorboard_plugin_wit-1.8.0-py3-none-any.whl (781kB)\n",
      "Requirement already satisfied, skipping upgrade: certifi>=2017.4.17 in c:\\users\\user\\anaconda3\\lib\\site-packages (from requests<3,>=2.21.0->tensorboard~=2.4->tensorflow) (2020.12.5)\n",
      "Requirement already satisfied, skipping upgrade: idna<2.9,>=2.5 in c:\\users\\user\\anaconda3\\lib\\site-packages (from requests<3,>=2.21.0->tensorboard~=2.4->tensorflow) (2.8)\n",
      "Requirement already satisfied, skipping upgrade: urllib3<1.25,>=1.21.1 in c:\\users\\user\\anaconda3\\lib\\site-packages (from requests<3,>=2.21.0->tensorboard~=2.4->tensorflow) (1.24.1)\n",
      "Requirement already satisfied, skipping upgrade: chardet<3.1.0,>=3.0.2 in c:\\users\\user\\anaconda3\\lib\\site-packages (from requests<3,>=2.21.0->tensorboard~=2.4->tensorflow) (3.0.4)\n",
      "Requirement already satisfied, skipping upgrade: requests-oauthlib>=0.7.0 in c:\\users\\user\\anaconda3\\lib\\site-packages (from google-auth-oauthlib<0.5,>=0.4.1->tensorboard~=2.4->tensorflow) (1.2.0)\n",
      "Requirement already satisfied, skipping upgrade: pyasn1-modules>=0.2.1 in c:\\users\\user\\anaconda3\\lib\\site-packages (from google-auth<2,>=1.6.3->tensorboard~=2.4->tensorflow) (0.2.7)\n",
      "Requirement already satisfied, skipping upgrade: rsa>=3.1.4 in c:\\users\\user\\anaconda3\\lib\\site-packages (from google-auth<2,>=1.6.3->tensorboard~=2.4->tensorflow) (4.0)\n",
      "Requirement already satisfied, skipping upgrade: cachetools>=2.0.0 in c:\\users\\user\\anaconda3\\lib\\site-packages (from google-auth<2,>=1.6.3->tensorboard~=2.4->tensorflow) (3.1.1)\n",
      "Requirement already satisfied, skipping upgrade: oauthlib>=3.0.0 in c:\\users\\user\\anaconda3\\lib\\site-packages (from requests-oauthlib>=0.7.0->google-auth-oauthlib<0.5,>=0.4.1->tensorboard~=2.4->tensorflow) (3.1.0)\n",
      "Requirement already satisfied, skipping upgrade: pyasn1<0.5.0,>=0.4.6 in c:\\users\\user\\anaconda3\\lib\\site-packages (from pyasn1-modules>=0.2.1->google-auth<2,>=1.6.3->tensorboard~=2.4->tensorflow) (0.4.7)\n",
      "Building wheels for collected packages: wrapt\n",
      "  Building wheel for wrapt (setup.py): started\n",
      "  Building wheel for wrapt (setup.py): finished with status 'done'\n",
      "  Stored in directory: C:\\Users\\USER\\AppData\\Local\\pip\\Cache\\wheels\\b1\\c2\\ed\\d62208260edbd3fa7156545c00ef966f45f2063d0a84f8208a\n",
      "Successfully built wrapt\n",
      "Installing collected packages: six, grpcio, absl-py, numpy, wheel, tensorboard-data-server, tensorboard-plugin-wit, tensorboard, opt-einsum, astunparse, h5py, typing-extensions, wrapt, gast, tensorflow-estimator, flatbuffers, keras-preprocessing, google-pasta, tensorflow\n",
      "  Found existing installation: six 1.12.0\n",
      "    Uninstalling six-1.12.0:\n",
      "      Successfully uninstalled six-1.12.0\n",
      "  Found existing installation: grpcio 1.24.3\n",
      "    Uninstalling grpcio-1.24.3:\n",
      "      Successfully uninstalled grpcio-1.24.3\n",
      "  Found existing installation: absl-py 0.8.1\n",
      "    Uninstalling absl-py-0.8.1:\n",
      "      Successfully uninstalled absl-py-0.8.1\n",
      "  Found existing installation: numpy 1.16.0\n",
      "    Uninstalling numpy-1.16.0:\n",
      "      Successfully uninstalled numpy-1.16.0\n"
     ]
    },
    {
     "name": "stderr",
     "output_type": "stream",
     "text": [
      "astroid 2.2.5 requires typed-ast>=1.3.0; implementation_name == \"cpython\", which is not installed.\n",
      "Could not install packages due to an EnvironmentError: [WinError 5] Access is denied: 'c:\\\\users\\\\user\\\\anaconda3\\\\lib\\\\site-packages\\\\~-mpy\\\\.libs\\\\libopenblas.IPBC74C7KURV7CB2PKT5Z5FNR3SIBV4J.gfortran-win_amd64.dll'\n",
      "Consider using the `--user` option or check the permissions.\n",
      "\n"
     ]
    }
   ],
   "source": [
    "!pip install --upgrade tensorflow"
   ]
  },
  {
   "cell_type": "code",
   "execution_count": 24,
   "metadata": {},
   "outputs": [
    {
     "name": "stdout",
     "output_type": "stream",
     "text": [
      "Libraries imported.\n",
      "Keras version: 2.2.4-tf\n",
      "TensorFlow version: 2.0.0-alpha0\n"
     ]
    }
   ],
   "source": [
    "import tensorflow\n",
    "from tensorflow import keras\n",
    "from tensorflow.keras import models\n",
    "from tensorflow.keras.models import Sequential\n",
    "from tensorflow.keras.layers import Dense\n",
    "from tensorflow.keras import utils\n",
    "from tensorflow.keras import optimizers\n",
    "\n",
    "# Set random seed for reproducability\n",
    "tensorflow.random.set_seed(0)\n",
    "\n",
    "print(\"Libraries imported.\")\n",
    "print('Keras version:',keras.__version__)\n",
    "print('TensorFlow version:',tensorflow.__version__)"
   ]
  },
  {
   "cell_type": "code",
   "execution_count": 25,
   "metadata": {},
   "outputs": [],
   "source": [
    "# Set data types for float features\n",
    "x_train = x_train.astype('float32')\n",
    "x_test = x_test.astype('float32')\n",
    "\n",
    "# Set data types for categorical labels\n",
    "y_train = utils.to_categorical(y_train)\n",
    "y_test = utils.to_categorical(y_test)"
   ]
  },
  {
   "cell_type": "code",
   "execution_count": 26,
   "metadata": {},
   "outputs": [
    {
     "name": "stdout",
     "output_type": "stream",
     "text": [
      "Model: \"sequential\"\n",
      "_________________________________________________________________\n",
      "Layer (type)                 Output Shape              Param #   \n",
      "=================================================================\n",
      "dense (Dense)                (None, 10)                50        \n",
      "_________________________________________________________________\n",
      "dense_1 (Dense)              (None, 10)                110       \n",
      "_________________________________________________________________\n",
      "dense_2 (Dense)              (None, 3)                 33        \n",
      "=================================================================\n",
      "Total params: 193\n",
      "Trainable params: 193\n",
      "Non-trainable params: 0\n",
      "_________________________________________________________________\n",
      "None\n"
     ]
    }
   ],
   "source": [
    "model = Sequential()\n",
    "model.add(Dense(10, input_dim=len(features), activation='relu'))\n",
    "model.add(Dense(10, input_dim=10, activation='relu'))\n",
    "model.add(Dense(len(penguin_classes), input_dim=10, activation='softmax'))\n",
    "\n",
    "print(model.summary())"
   ]
  },
  {
   "cell_type": "code",
   "execution_count": 27,
   "metadata": {},
   "outputs": [
    {
     "name": "stdout",
     "output_type": "stream",
     "text": [
      "Train on 957 samples, validate on 411 samples\n",
      "Epoch 1/50\n",
      "957/957 [==============================] - ETA: 22s - loss: 34.9876 - accuracy: 0.30 - ETA: 0s - loss: 30.2694 - accuracy: 0.1875 - 0s 483us/sample - loss: 24.2906 - accuracy: 0.1912 - val_loss: 11.6705 - val_accuracy: 0.2165\n",
      "Epoch 2/50\n",
      "957/957 [==============================] - ETA: 0s - loss: 13.1846 - accuracy: 0.100 - ETA: 0s - loss: 7.4084 - accuracy: 0.203 - 0s 114us/sample - loss: 5.3083 - accuracy: 0.2257 - val_loss: 1.6073 - val_accuracy: 0.3309\n",
      "Epoch 3/50\n",
      "957/957 [==============================] - ETA: 0s - loss: 1.7195 - accuracy: 0.30 - ETA: 0s - loss: 1.3424 - accuracy: 0.21 - 0s 118us/sample - loss: 1.2737 - accuracy: 0.2727 - val_loss: 1.1593 - val_accuracy: 0.3698\n",
      "Epoch 4/50\n",
      "957/957 [==============================] - ETA: 0s - loss: 1.3012 - accuracy: 0.30 - ETA: 0s - loss: 1.1230 - accuracy: 0.38 - 0s 115us/sample - loss: 1.1009 - accuracy: 0.4002 - val_loss: 1.0774 - val_accuracy: 0.4258\n",
      "Epoch 5/50\n",
      "957/957 [==============================] - ETA: 0s - loss: 1.0932 - accuracy: 0.40 - ETA: 0s - loss: 1.0448 - accuracy: 0.47 - 0s 116us/sample - loss: 1.0416 - accuracy: 0.4796 - val_loss: 1.0520 - val_accuracy: 0.5474\n",
      "Epoch 6/50\n",
      "957/957 [==============================] - ETA: 0s - loss: 1.0022 - accuracy: 0.80 - ETA: 0s - loss: 1.0181 - accuracy: 0.53 - 0s 119us/sample - loss: 1.0242 - accuracy: 0.5246 - val_loss: 1.0389 - val_accuracy: 0.5523\n",
      "Epoch 7/50\n",
      "957/957 [==============================] - ETA: 0s - loss: 1.0045 - accuracy: 0.60 - ETA: 0s - loss: 1.0285 - accuracy: 0.55 - 0s 119us/sample - loss: 1.0127 - accuracy: 0.5778 - val_loss: 1.0306 - val_accuracy: 0.5061\n",
      "Epoch 8/50\n",
      "957/957 [==============================] - ETA: 0s - loss: 0.9372 - accuracy: 0.60 - ETA: 0s - loss: 1.0104 - accuracy: 0.61 - 0s 111us/sample - loss: 0.9993 - accuracy: 0.5925 - val_loss: 1.0211 - val_accuracy: 0.5620\n",
      "Epoch 9/50\n",
      "957/957 [==============================] - ETA: 0s - loss: 1.0932 - accuracy: 0.40 - ETA: 0s - loss: 0.9963 - accuracy: 0.63 - 0s 135us/sample - loss: 0.9859 - accuracy: 0.6656 - val_loss: 1.0079 - val_accuracy: 0.5839\n",
      "Epoch 10/50\n",
      "957/957 [==============================] - ETA: 0s - loss: 1.1423 - accuracy: 0.40 - ETA: 0s - loss: 0.9821 - accuracy: 0.65 - 0s 136us/sample - loss: 0.9736 - accuracy: 0.6625 - val_loss: 0.9883 - val_accuracy: 0.6691\n",
      "Epoch 11/50\n",
      "957/957 [==============================] - ETA: 0s - loss: 0.9695 - accuracy: 0.70 - ETA: 0s - loss: 0.9592 - accuracy: 0.70 - 0s 117us/sample - loss: 0.9567 - accuracy: 0.6991 - val_loss: 0.9752 - val_accuracy: 0.6326\n",
      "Epoch 12/50\n",
      "957/957 [==============================] - ETA: 0s - loss: 1.0150 - accuracy: 0.60 - ETA: 0s - loss: 0.8767 - accuracy: 0.67 - 0s 130us/sample - loss: 0.8519 - accuracy: 0.6938 - val_loss: 0.8279 - val_accuracy: 0.6715\n",
      "Epoch 13/50\n",
      "957/957 [==============================] - ETA: 0s - loss: 0.9654 - accuracy: 0.40 - ETA: 0s - loss: 0.7752 - accuracy: 0.73 - 0s 111us/sample - loss: 0.7637 - accuracy: 0.7409 - val_loss: 0.7577 - val_accuracy: 0.7372\n",
      "Epoch 14/50\n",
      "957/957 [==============================] - ETA: 0s - loss: 0.7405 - accuracy: 0.80 - ETA: 0s - loss: 0.7346 - accuracy: 0.73 - 0s 113us/sample - loss: 0.7097 - accuracy: 0.7576 - val_loss: 0.7149 - val_accuracy: 0.7397\n",
      "Epoch 15/50\n",
      "957/957 [==============================] - ETA: 0s - loss: 1.1567 - accuracy: 0.30 - ETA: 0s - loss: 0.6766 - accuracy: 0.76 - 0s 119us/sample - loss: 0.6529 - accuracy: 0.7827 - val_loss: 0.6553 - val_accuracy: 0.7518\n",
      "Epoch 16/50\n",
      "957/957 [==============================] - ETA: 0s - loss: 0.6243 - accuracy: 0.80 - ETA: 0s - loss: 0.6111 - accuracy: 0.78 - 0s 117us/sample - loss: 0.6035 - accuracy: 0.7879 - val_loss: 0.6204 - val_accuracy: 0.7470\n",
      "Epoch 17/50\n",
      "957/957 [==============================] - ETA: 0s - loss: 0.4481 - accuracy: 0.90 - ETA: 0s - loss: 0.5763 - accuracy: 0.78 - 0s 119us/sample - loss: 0.5592 - accuracy: 0.7962 - val_loss: 0.5868 - val_accuracy: 0.7470\n",
      "Epoch 18/50\n",
      "957/957 [==============================] - ETA: 0s - loss: 0.5490 - accuracy: 0.80 - ETA: 0s - loss: 0.5328 - accuracy: 0.78 - 0s 130us/sample - loss: 0.5289 - accuracy: 0.8015 - val_loss: 0.5376 - val_accuracy: 0.7664\n",
      "Epoch 19/50\n",
      "957/957 [==============================] - ETA: 0s - loss: 0.5802 - accuracy: 0.80 - ETA: 0s - loss: 0.4782 - accuracy: 0.81 - 0s 130us/sample - loss: 0.4908 - accuracy: 0.8046 - val_loss: 0.5058 - val_accuracy: 0.7810\n",
      "Epoch 20/50\n",
      "957/957 [==============================] - ETA: 0s - loss: 0.5036 - accuracy: 0.90 - ETA: 0s - loss: 0.4714 - accuracy: 0.83 - 0s 122us/sample - loss: 0.4639 - accuracy: 0.8286 - val_loss: 0.4874 - val_accuracy: 0.7689\n",
      "Epoch 21/50\n",
      "957/957 [==============================] - ETA: 0s - loss: 0.5200 - accuracy: 0.70 - ETA: 0s - loss: 0.4489 - accuracy: 0.80 - 0s 124us/sample - loss: 0.4330 - accuracy: 0.8234 - val_loss: 0.4577 - val_accuracy: 0.7786\n",
      "Epoch 22/50\n",
      "957/957 [==============================] - ETA: 0s - loss: 0.2514 - accuracy: 1.00 - ETA: 0s - loss: 0.4178 - accuracy: 0.84 - 0s 112us/sample - loss: 0.4069 - accuracy: 0.8495 - val_loss: 0.4372 - val_accuracy: 0.7932\n",
      "Epoch 23/50\n",
      "957/957 [==============================] - ETA: 0s - loss: 0.4180 - accuracy: 0.80 - ETA: 0s - loss: 0.3852 - accuracy: 0.84 - 0s 115us/sample - loss: 0.3874 - accuracy: 0.8485 - val_loss: 0.4085 - val_accuracy: 0.8224\n",
      "Epoch 24/50\n",
      "957/957 [==============================] - ETA: 0s - loss: 0.3421 - accuracy: 1.00 - ETA: 0s - loss: 0.3603 - accuracy: 0.87 - 0s 122us/sample - loss: 0.3665 - accuracy: 0.8725 - val_loss: 0.3886 - val_accuracy: 0.8321\n",
      "Epoch 25/50\n",
      "957/957 [==============================] - ETA: 0s - loss: 0.2911 - accuracy: 0.90 - ETA: 0s - loss: 0.3477 - accuracy: 0.87 - 0s 122us/sample - loss: 0.3474 - accuracy: 0.8819 - val_loss: 0.3730 - val_accuracy: 0.8662\n",
      "Epoch 26/50\n",
      "957/957 [==============================] - ETA: 0s - loss: 0.1653 - accuracy: 1.00 - ETA: 0s - loss: 0.3416 - accuracy: 0.88 - 0s 116us/sample - loss: 0.3328 - accuracy: 0.8976 - val_loss: 0.3582 - val_accuracy: 0.8321\n",
      "Epoch 27/50\n",
      "957/957 [==============================] - ETA: 0s - loss: 0.2452 - accuracy: 0.90 - ETA: 0s - loss: 0.3204 - accuracy: 0.91 - 0s 137us/sample - loss: 0.3147 - accuracy: 0.9080 - val_loss: 0.3341 - val_accuracy: 0.9027\n",
      "Epoch 28/50\n",
      "957/957 [==============================] - ETA: 0s - loss: 0.4499 - accuracy: 0.90 - ETA: 0s - loss: 0.3279 - accuracy: 0.89 - 0s 128us/sample - loss: 0.3030 - accuracy: 0.9227 - val_loss: 0.3300 - val_accuracy: 0.8394\n",
      "Epoch 29/50\n",
      "957/957 [==============================] - ETA: 0s - loss: 0.1409 - accuracy: 1.00 - ETA: 0s - loss: 0.3012 - accuracy: 0.90 - 0s 135us/sample - loss: 0.2853 - accuracy: 0.9279 - val_loss: 0.3043 - val_accuracy: 0.9197\n",
      "Epoch 30/50\n",
      "957/957 [==============================] - ETA: 0s - loss: 0.2882 - accuracy: 0.90 - ETA: 0s - loss: 0.2739 - accuracy: 0.93 - 0s 123us/sample - loss: 0.2691 - accuracy: 0.9310 - val_loss: 0.2923 - val_accuracy: 0.9221\n",
      "Epoch 31/50\n",
      "957/957 [==============================] - ETA: 0s - loss: 0.1210 - accuracy: 1.00 - ETA: 0s - loss: 0.2459 - accuracy: 0.94 - 0s 115us/sample - loss: 0.2520 - accuracy: 0.9394 - val_loss: 0.2736 - val_accuracy: 0.9197\n",
      "Epoch 32/50\n",
      "957/957 [==============================] - ETA: 0s - loss: 0.4316 - accuracy: 0.80 - ETA: 0s - loss: 0.2419 - accuracy: 0.95 - 0s 123us/sample - loss: 0.2383 - accuracy: 0.9488 - val_loss: 0.2771 - val_accuracy: 0.8929\n",
      "Epoch 33/50\n",
      "957/957 [==============================] - ETA: 0s - loss: 0.2629 - accuracy: 0.90 - ETA: 0s - loss: 0.2343 - accuracy: 0.93 - 0s 127us/sample - loss: 0.2342 - accuracy: 0.9436 - val_loss: 0.2501 - val_accuracy: 0.9635\n",
      "Epoch 34/50\n",
      "957/957 [==============================] - ETA: 0s - loss: 0.0895 - accuracy: 1.00 - ETA: 0s - loss: 0.2139 - accuracy: 0.94 - 0s 111us/sample - loss: 0.2166 - accuracy: 0.9457 - val_loss: 0.2372 - val_accuracy: 0.9246\n",
      "Epoch 35/50\n",
      "957/957 [==============================] - ETA: 0s - loss: 0.4088 - accuracy: 0.80 - ETA: 0s - loss: 0.2059 - accuracy: 0.95 - 0s 143us/sample - loss: 0.2010 - accuracy: 0.9561 - val_loss: 0.2212 - val_accuracy: 0.9538\n",
      "Epoch 36/50\n"
     ]
    },
    {
     "name": "stdout",
     "output_type": "stream",
     "text": [
      "957/957 [==============================] - ETA: 0s - loss: 0.1695 - accuracy: 1.00 - ETA: 0s - loss: 0.2156 - accuracy: 0.95 - ETA: 0s - loss: 0.1976 - accuracy: 0.96 - 0s 144us/sample - loss: 0.1942 - accuracy: 0.9603 - val_loss: 0.2071 - val_accuracy: 0.9586\n",
      "Epoch 37/50\n",
      "957/957 [==============================] - ETA: 0s - loss: 0.0858 - accuracy: 1.00 - ETA: 0s - loss: 0.1780 - accuracy: 0.96 - 0s 102us/sample - loss: 0.1795 - accuracy: 0.9613 - val_loss: 0.1954 - val_accuracy: 0.9635\n",
      "Epoch 38/50\n",
      "957/957 [==============================] - ETA: 0s - loss: 0.1878 - accuracy: 1.00 - ETA: 0s - loss: 0.1765 - accuracy: 0.96 - 0s 110us/sample - loss: 0.1708 - accuracy: 0.9624 - val_loss: 0.1850 - val_accuracy: 0.9708\n",
      "Epoch 39/50\n",
      "957/957 [==============================] - ETA: 0s - loss: 0.1261 - accuracy: 1.00 - ETA: 0s - loss: 0.1550 - accuracy: 0.97 - 0s 113us/sample - loss: 0.1603 - accuracy: 0.9718 - val_loss: 0.1809 - val_accuracy: 0.9538\n",
      "Epoch 40/50\n",
      "957/957 [==============================] - ETA: 0s - loss: 0.4370 - accuracy: 0.70 - ETA: 0s - loss: 0.1502 - accuracy: 0.96 - 0s 131us/sample - loss: 0.1523 - accuracy: 0.9697 - val_loss: 0.1676 - val_accuracy: 0.9732\n",
      "Epoch 41/50\n",
      "957/957 [==============================] - ETA: 0s - loss: 0.0689 - accuracy: 1.00 - ETA: 0s - loss: 0.1499 - accuracy: 0.97 - 0s 111us/sample - loss: 0.1413 - accuracy: 0.9697 - val_loss: 0.1558 - val_accuracy: 0.9757\n",
      "Epoch 42/50\n",
      "957/957 [==============================] - ETA: 0s - loss: 0.1420 - accuracy: 1.00 - ETA: 0s - loss: 0.1398 - accuracy: 0.96 - 0s 110us/sample - loss: 0.1353 - accuracy: 0.9739 - val_loss: 0.1523 - val_accuracy: 0.9732\n",
      "Epoch 43/50\n",
      "957/957 [==============================] - ETA: 0s - loss: 0.0675 - accuracy: 1.00 - ETA: 0s - loss: 0.1369 - accuracy: 0.97 - 0s 109us/sample - loss: 0.1332 - accuracy: 0.9728 - val_loss: 0.1446 - val_accuracy: 0.9805\n",
      "Epoch 44/50\n",
      "957/957 [==============================] - ETA: 0s - loss: 0.1642 - accuracy: 1.00 - ETA: 0s - loss: 0.1248 - accuracy: 0.97 - 0s 110us/sample - loss: 0.1224 - accuracy: 0.9749 - val_loss: 0.1298 - val_accuracy: 0.9805\n",
      "Epoch 45/50\n",
      "957/957 [==============================] - ETA: 0s - loss: 0.0300 - accuracy: 1.00 - ETA: 0s - loss: 0.1177 - accuracy: 0.98 - 0s 111us/sample - loss: 0.1133 - accuracy: 0.9791 - val_loss: 0.1247 - val_accuracy: 0.9805\n",
      "Epoch 46/50\n",
      "957/957 [==============================] - ETA: 0s - loss: 0.0214 - accuracy: 1.00 - ETA: 0s - loss: 0.1025 - accuracy: 0.98 - 0s 116us/sample - loss: 0.1116 - accuracy: 0.9749 - val_loss: 0.1324 - val_accuracy: 0.9635\n",
      "Epoch 47/50\n",
      "957/957 [==============================] - ETA: 0s - loss: 0.1854 - accuracy: 0.90 - ETA: 0s - loss: 0.1081 - accuracy: 0.97 - 0s 109us/sample - loss: 0.1073 - accuracy: 0.9739 - val_loss: 0.1230 - val_accuracy: 0.9830\n",
      "Epoch 48/50\n",
      "957/957 [==============================] - ETA: 0s - loss: 0.0697 - accuracy: 1.00 - ETA: 0s - loss: 0.1037 - accuracy: 0.97 - 0s 116us/sample - loss: 0.0994 - accuracy: 0.9812 - val_loss: 0.1116 - val_accuracy: 0.9805\n",
      "Epoch 49/50\n",
      "957/957 [==============================] - ETA: 0s - loss: 0.0896 - accuracy: 1.00 - ETA: 0s - loss: 0.1031 - accuracy: 0.97 - 0s 122us/sample - loss: 0.0968 - accuracy: 0.9770 - val_loss: 0.1008 - val_accuracy: 0.9830\n",
      "Epoch 50/50\n",
      "957/957 [==============================] - ETA: 0s - loss: 0.0447 - accuracy: 1.00 - ETA: 0s - loss: 0.0942 - accuracy: 0.97 - 0s 126us/sample - loss: 0.0922 - accuracy: 0.9833 - val_loss: 0.1066 - val_accuracy: 0.9781\n"
     ]
    }
   ],
   "source": [
    "learning_rate = 0.001\n",
    "opt = optimizers.Adam(lr=learning_rate)\n",
    "\n",
    "model.compile(loss='categorical_crossentropy',\n",
    "              optimizer=opt,\n",
    "              metrics=['accuracy'])\n",
    "\n",
    "num_epochs = 50\n",
    "history = model.fit(x_train, y_train, epochs=num_epochs, batch_size=10, validation_data=(x_test, y_test))"
   ]
  },
  {
   "cell_type": "code",
   "execution_count": 28,
   "metadata": {},
   "outputs": [
    {
     "data": {
      "image/png": "[encoded data removed]",
      "text/plain": [
       "<Figure size 432x288 with 1 Axes>"
      ]
     },
     "metadata": {
      "needs_background": "light"
     },
     "output_type": "display_data"
    }
   ],
   "source": [
    "%matplotlib inline\n",
    "from matplotlib import pyplot as plt\n",
    "\n",
    "epoch_nums = range(1,num_epochs+1)\n",
    "training_loss = history.history[\"loss\"]\n",
    "validation_loss = history.history[\"val_loss\"]\n",
    "plt.plot(epoch_nums, training_loss)\n",
    "plt.plot(epoch_nums, validation_loss)\n",
    "plt.xlabel('epoch')\n",
    "plt.ylabel('loss')\n",
    "plt.legend(['training', 'validation'], loc='upper right')\n",
    "plt.show()"
   ]
  },
  {
   "cell_type": "code",
   "execution_count": 29,
   "metadata": {},
   "outputs": [
    {
     "name": "stdout",
     "output_type": "stream",
     "text": [
      "------------\n",
      "Weights:\n",
      " [[-0.27236846 -0.3841947   0.03234848  0.08020484 -0.10909867  0.06330433\n",
      "  -0.19313203  0.84640336  0.36701852 -0.4905011 ]\n",
      " [ 0.27471453  0.21265197  0.08079417 -0.17707926 -0.10406601  0.80510986\n",
      "   0.3481228  -0.04539559 -0.62267196 -0.5447268 ]\n",
      " [-0.28836262 -0.634329    0.28234363  0.34767175  0.23550075 -0.00817027\n",
      "   0.14570452 -0.7969777  -0.5233428   0.3296095 ]\n",
      " [-0.42851955 -0.24623463 -0.2871196  -0.5230521  -0.43773973  0.37682083\n",
      "  -0.0763066   0.23378253  0.74960405 -0.4691702 ]] \n",
      "Biases:\n",
      " [ 0.          0.         -0.01398832  0.          0.          0.20292243\n",
      " -0.19176428 -0.2576086  -0.3294029   0.        ]\n",
      "------------\n",
      "Weights:\n",
      " [[ 0.0607031  -0.30530828  0.39975524  0.3037489   0.15896738  0.03326017\n",
      "  -0.53190327  0.40915883 -0.03316814 -0.1240823 ]\n",
      " [ 0.42301047  0.14984506 -0.54566675  0.3919103  -0.4295466   0.50397205\n",
      "  -0.31616646  0.17803025 -0.41518384 -0.38429344]\n",
      " [ 0.5336163   0.37752342 -0.46671256  0.17206895 -0.04215616  0.5297911\n",
      "   0.4396385   0.2792814   0.2627702  -0.2233491 ]\n",
      " [-0.04491103  0.19579428 -0.26655364  0.17358297  0.3112036   0.53520477\n",
      "  -0.3109483  -0.5284722  -0.00098199 -0.44063687]\n",
      " [ 0.5135      0.39074183  0.39206952 -0.03048635  0.02663547  0.20555359\n",
      "   0.09307003  0.24590033 -0.49007446 -0.2917699 ]\n",
      " [ 0.50351286 -0.3901862   0.6034433   0.29417115 -0.26569188 -0.5313456\n",
      "   0.41638133 -0.15550071  0.00485109 -0.04526619]\n",
      " [ 0.26545775 -0.19090915  0.06236434 -0.30627972  0.12806404 -0.38203925\n",
      "  -0.21348043  0.41777134  0.26362625 -0.51192576]\n",
      " [-0.43856043 -0.21495155 -0.1461127  -0.46094683 -0.20800981  0.3025053\n",
      "  -0.00639509  0.40292972  0.2737926  -0.2580092 ]\n",
      " [-0.5078605  -0.4176368  -0.24811995 -0.49696004 -0.27225545 -0.38996994\n",
      "  -0.4037082   0.16782355 -0.2606465   0.22881041]\n",
      " [ 0.32320213 -0.30822456 -0.37115166  0.45703936 -0.35191107  0.24120325\n",
      "  -0.2000556   0.23292273 -0.33508268 -0.51532805]] \n",
      "Biases:\n",
      " [-0.03098752  0.          0.44007653  0.          0.          0.\n",
      "  0.13158555 -0.28722948 -0.30139711 -0.01467387]\n",
      "------------\n",
      "Weights:\n",
      " [[-0.38429576  0.3262583  -0.04640121]\n",
      " [ 0.50995994 -0.12620813 -0.6595991 ]\n",
      " [ 0.54413134  0.01471629 -0.22374861]\n",
      " [ 0.54463303 -0.50025463  0.06109887]\n",
      " [ 0.26757038 -0.67376095 -0.18467396]\n",
      " [ 0.08888024 -0.2536324   0.20257705]\n",
      " [ 1.1826342  -1.5543535   0.6450739 ]\n",
      " [-0.48484278  0.38147986  0.19515398]\n",
      " [-0.51660526 -0.35239688  0.6803643 ]\n",
      " [ 0.6415732  -0.61359274 -0.03051702]] \n",
      "Biases:\n",
      " [ 0.3130718   0.48137134 -0.49553102]\n"
     ]
    }
   ],
   "source": [
    "for layer in model.layers:\n",
    "    weights = layer.get_weights()[0]\n",
    "    biases = layer.get_weights()[1]\n",
    "    print('------------\\nWeights:\\n',weights,'\\nBiases:\\n', biases)"
   ]
  },
  {
   "cell_type": "code",
   "execution_count": 30,
   "metadata": {},
   "outputs": [
    {
     "data": {
      "image/png": "[encoded data removed]",
      "text/plain": [
       "<Figure size 432x288 with 2 Axes>"
      ]
     },
     "metadata": {
      "needs_background": "light"
     },
     "output_type": "display_data"
    }
   ],
   "source": [
    "import numpy as np\n",
    "from sklearn.metrics import confusion_matrix\n",
    "import matplotlib.pyplot as plt\n",
    "%matplotlib inline\n",
    "\n",
    "\n",
    "class_probabilities = model.predict(x_test)\n",
    "predictions = np.argmax(class_probabilities, axis=1)\n",
    "true_labels = np.argmax(y_test, axis=1)\n",
    "\n",
    "# Plot the confusion matrix\n",
    "cm = confusion_matrix(true_labels, predictions)\n",
    "plt.imshow(cm, interpolation=\"nearest\", cmap=plt.cm.Blues)\n",
    "plt.colorbar()\n",
    "tick_marks = np.arange(len(penguin_classes))\n",
    "plt.xticks(tick_marks, penguin_classes, rotation=85)\n",
    "plt.yticks(tick_marks, penguin_classes)\n",
    "plt.xlabel(\"Actual Class\")\n",
    "plt.ylabel(\"Predicted Class\")\n",
    "plt.show()"
   ]
  },
  {
   "cell_type": "code",
   "execution_count": null,
   "metadata": {},
   "outputs": [],
   "source": []
  }
 ],
 "metadata": {
  "kernelspec": {
   "display_name": "Python 3",
   "language": "python",
   "name": "python3"
  },
  "language_info": {
   "codemirror_mode": {
    "name": "ipython",
    "version": 3
   },
   "file_extension": ".py",
   "mimetype": "text/x-python",
   "name": "python",
   "nbconvert_exporter": "python",
   "pygments_lexer": "ipython3",
   "version": "3.7.3"
  }
 },
 "nbformat": 4,
 "nbformat_minor": 2
}
